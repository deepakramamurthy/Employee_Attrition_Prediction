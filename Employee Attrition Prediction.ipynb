{
 "cells": [
  {
   "cell_type": "code",
   "execution_count": 1,
   "id": "0a4c1dea",
   "metadata": {},
   "outputs": [],
   "source": [
    "import pandas as pd\n",
    "import numpy as np\n",
    "import seaborn as sns\n",
    "import matplotlib.pyplot as plt\n",
    "import warnings\n",
    "warnings.filterwarnings('ignore')\n",
    "from sklearn.preprocessing import LabelEncoder\n",
    "from sklearn.preprocessing import StandardScaler\n",
    "from sklearn.linear_model import LogisticRegression\n",
    "from sklearn.neighbors import KNeighborsClassifier\n",
    "from sklearn.tree import DecisionTreeClassifier\n",
    "from sklearn.ensemble import RandomForestClassifier"
   ]
  },
  {
   "cell_type": "code",
   "execution_count": 2,
   "id": "99928860",
   "metadata": {},
   "outputs": [
    {
     "data": {
      "text/html": [
       "<div>\n",
       "<style scoped>\n",
       "    .dataframe tbody tr th:only-of-type {\n",
       "        vertical-align: middle;\n",
       "    }\n",
       "\n",
       "    .dataframe tbody tr th {\n",
       "        vertical-align: top;\n",
       "    }\n",
       "\n",
       "    .dataframe thead th {\n",
       "        text-align: right;\n",
       "    }\n",
       "</style>\n",
       "<table border=\"1\" class=\"dataframe\">\n",
       "  <thead>\n",
       "    <tr style=\"text-align: right;\">\n",
       "      <th></th>\n",
       "      <th>EmployeeID</th>\n",
       "      <th>Attrition</th>\n",
       "      <th>Age</th>\n",
       "      <th>TravelProfile</th>\n",
       "      <th>Department</th>\n",
       "      <th>HomeToWork</th>\n",
       "      <th>EducationField</th>\n",
       "      <th>Gender</th>\n",
       "      <th>HourlnWeek</th>\n",
       "      <th>Involvement</th>\n",
       "      <th>...</th>\n",
       "      <th>JobSatisfaction</th>\n",
       "      <th>ESOPs</th>\n",
       "      <th>NumCompaniesWorked</th>\n",
       "      <th>OverTime</th>\n",
       "      <th>SalaryHikelastYear</th>\n",
       "      <th>WorkExperience</th>\n",
       "      <th>LastPromotion</th>\n",
       "      <th>CurrentProfile</th>\n",
       "      <th>MaritalStatus</th>\n",
       "      <th>MonthlyIncome</th>\n",
       "    </tr>\n",
       "  </thead>\n",
       "  <tbody>\n",
       "    <tr>\n",
       "      <th>0</th>\n",
       "      <td>5110001.0</td>\n",
       "      <td>0.0</td>\n",
       "      <td>35.0</td>\n",
       "      <td>Rarely</td>\n",
       "      <td>Analytics</td>\n",
       "      <td>5.0</td>\n",
       "      <td>CA</td>\n",
       "      <td>Male</td>\n",
       "      <td>69.0</td>\n",
       "      <td>1.0</td>\n",
       "      <td>...</td>\n",
       "      <td>1.0</td>\n",
       "      <td>1.0</td>\n",
       "      <td>1.0</td>\n",
       "      <td>1.0</td>\n",
       "      <td>20.0</td>\n",
       "      <td>7.0</td>\n",
       "      <td>2.0</td>\n",
       "      <td>NaN</td>\n",
       "      <td>M</td>\n",
       "      <td>18932.0</td>\n",
       "    </tr>\n",
       "    <tr>\n",
       "      <th>1</th>\n",
       "      <td>5110002.0</td>\n",
       "      <td>1.0</td>\n",
       "      <td>32.0</td>\n",
       "      <td>Yes</td>\n",
       "      <td>Sales</td>\n",
       "      <td>5.0</td>\n",
       "      <td>Statistics</td>\n",
       "      <td>Female</td>\n",
       "      <td>62.0</td>\n",
       "      <td>4.0</td>\n",
       "      <td>...</td>\n",
       "      <td>2.0</td>\n",
       "      <td>0.0</td>\n",
       "      <td>8.0</td>\n",
       "      <td>0.0</td>\n",
       "      <td>20.0</td>\n",
       "      <td>4.0</td>\n",
       "      <td>1.0</td>\n",
       "      <td>NaN</td>\n",
       "      <td>Single</td>\n",
       "      <td>18785.0</td>\n",
       "    </tr>\n",
       "    <tr>\n",
       "      <th>2</th>\n",
       "      <td>5110003.0</td>\n",
       "      <td>0.0</td>\n",
       "      <td>31.0</td>\n",
       "      <td>Rarely</td>\n",
       "      <td>Analytics</td>\n",
       "      <td>5.0</td>\n",
       "      <td>Statistics</td>\n",
       "      <td>F</td>\n",
       "      <td>45.0</td>\n",
       "      <td>5.0</td>\n",
       "      <td>...</td>\n",
       "      <td>2.0</td>\n",
       "      <td>1.0</td>\n",
       "      <td>3.0</td>\n",
       "      <td>0.0</td>\n",
       "      <td>26.0</td>\n",
       "      <td>12.0</td>\n",
       "      <td>1.0</td>\n",
       "      <td>3.0</td>\n",
       "      <td>Single</td>\n",
       "      <td>22091.0</td>\n",
       "    </tr>\n",
       "    <tr>\n",
       "      <th>3</th>\n",
       "      <td>5110004.0</td>\n",
       "      <td>0.0</td>\n",
       "      <td>34.0</td>\n",
       "      <td>Yes</td>\n",
       "      <td>Sales</td>\n",
       "      <td>10.0</td>\n",
       "      <td>Statistics</td>\n",
       "      <td>Female</td>\n",
       "      <td>32.0</td>\n",
       "      <td>3.0</td>\n",
       "      <td>...</td>\n",
       "      <td>4.0</td>\n",
       "      <td>1.0</td>\n",
       "      <td>1.0</td>\n",
       "      <td>0.0</td>\n",
       "      <td>23.0</td>\n",
       "      <td>5.0</td>\n",
       "      <td>1.0</td>\n",
       "      <td>3.0</td>\n",
       "      <td>Divorsed</td>\n",
       "      <td>20302.0</td>\n",
       "    </tr>\n",
       "    <tr>\n",
       "      <th>4</th>\n",
       "      <td>5110005.0</td>\n",
       "      <td>0.0</td>\n",
       "      <td>37.0</td>\n",
       "      <td>No</td>\n",
       "      <td>Analytics</td>\n",
       "      <td>27.0</td>\n",
       "      <td>Statistics</td>\n",
       "      <td>Female</td>\n",
       "      <td>49.0</td>\n",
       "      <td>3.0</td>\n",
       "      <td>...</td>\n",
       "      <td>4.0</td>\n",
       "      <td>1.0</td>\n",
       "      <td>8.0</td>\n",
       "      <td>0.0</td>\n",
       "      <td>21.0</td>\n",
       "      <td>12.0</td>\n",
       "      <td>1.0</td>\n",
       "      <td>9.0</td>\n",
       "      <td>Divorsed</td>\n",
       "      <td>21674.0</td>\n",
       "    </tr>\n",
       "  </tbody>\n",
       "</table>\n",
       "<p>5 rows × 22 columns</p>\n",
       "</div>"
      ],
      "text/plain": [
       "   EmployeeID  Attrition   Age TravelProfile Department  HomeToWork  \\\n",
       "0   5110001.0        0.0  35.0        Rarely  Analytics         5.0   \n",
       "1   5110002.0        1.0  32.0           Yes      Sales         5.0   \n",
       "2   5110003.0        0.0  31.0        Rarely  Analytics         5.0   \n",
       "3   5110004.0        0.0  34.0           Yes      Sales        10.0   \n",
       "4   5110005.0        0.0  37.0            No  Analytics        27.0   \n",
       "\n",
       "  EducationField  Gender  HourlnWeek  Involvement  ...  JobSatisfaction ESOPs  \\\n",
       "0             CA    Male        69.0          1.0  ...              1.0   1.0   \n",
       "1     Statistics  Female        62.0          4.0  ...              2.0   0.0   \n",
       "2     Statistics       F        45.0          5.0  ...              2.0   1.0   \n",
       "3     Statistics  Female        32.0          3.0  ...              4.0   1.0   \n",
       "4     Statistics  Female        49.0          3.0  ...              4.0   1.0   \n",
       "\n",
       "   NumCompaniesWorked  OverTime  SalaryHikelastYear  WorkExperience  \\\n",
       "0                 1.0       1.0                20.0             7.0   \n",
       "1                 8.0       0.0                20.0             4.0   \n",
       "2                 3.0       0.0                26.0            12.0   \n",
       "3                 1.0       0.0                23.0             5.0   \n",
       "4                 8.0       0.0                21.0            12.0   \n",
       "\n",
       "   LastPromotion  CurrentProfile  MaritalStatus  MonthlyIncome  \n",
       "0            2.0             NaN              M        18932.0  \n",
       "1            1.0             NaN         Single        18785.0  \n",
       "2            1.0             3.0         Single        22091.0  \n",
       "3            1.0             3.0       Divorsed        20302.0  \n",
       "4            1.0             9.0       Divorsed        21674.0  \n",
       "\n",
       "[5 rows x 22 columns]"
      ]
     },
     "execution_count": 2,
     "metadata": {},
     "output_type": "execute_result"
    }
   ],
   "source": [
    "df = pd.read_csv('Train_Dataset.csv')\n",
    "df.head()"
   ]
  },
  {
   "cell_type": "code",
   "execution_count": 3,
   "id": "1247c586",
   "metadata": {},
   "outputs": [
    {
     "data": {
      "text/plain": [
       "2630"
      ]
     },
     "execution_count": 3,
     "metadata": {},
     "output_type": "execute_result"
    }
   ],
   "source": [
    "df.EmployeeID.isnull().sum()"
   ]
  },
  {
   "cell_type": "code",
   "execution_count": 4,
   "id": "34740372",
   "metadata": {},
   "outputs": [
    {
     "data": {
      "text/plain": [
       "EmployeeID            2630\n",
       "Attrition             2630\n",
       "Age                   2946\n",
       "TravelProfile         2630\n",
       "Department            2754\n",
       "HomeToWork            2885\n",
       "EducationField        2630\n",
       "Gender                2676\n",
       "HourlnWeek            2917\n",
       "Involvement           2630\n",
       "WorkLifeBalance       2630\n",
       "Designation           2668\n",
       "JobSatisfaction       2630\n",
       "ESOPs                 2630\n",
       "NumCompaniesWorked    2630\n",
       "OverTime              2630\n",
       "SalaryHikelastYear    2799\n",
       "WorkExperience        2817\n",
       "LastPromotion         2700\n",
       "CurrentProfile        2941\n",
       "MaritalStatus         2630\n",
       "MonthlyIncome         2723\n",
       "dtype: int64"
      ]
     },
     "execution_count": 4,
     "metadata": {},
     "output_type": "execute_result"
    }
   ],
   "source": [
    "df.isnull().sum()"
   ]
  },
  {
   "cell_type": "code",
   "execution_count": 5,
   "id": "1fce9068",
   "metadata": {},
   "outputs": [
    {
     "name": "stdout",
     "output_type": "stream",
     "text": [
      "<class 'pandas.core.frame.DataFrame'>\n",
      "RangeIndex: 7810 entries, 0 to 7809\n",
      "Data columns (total 22 columns):\n",
      " #   Column              Non-Null Count  Dtype  \n",
      "---  ------              --------------  -----  \n",
      " 0   EmployeeID          5180 non-null   float64\n",
      " 1   Attrition           5180 non-null   float64\n",
      " 2   Age                 4864 non-null   float64\n",
      " 3   TravelProfile       5180 non-null   object \n",
      " 4   Department          5056 non-null   object \n",
      " 5   HomeToWork          4925 non-null   float64\n",
      " 6   EducationField      5180 non-null   object \n",
      " 7   Gender              5134 non-null   object \n",
      " 8   HourlnWeek          4893 non-null   float64\n",
      " 9   Involvement         5180 non-null   float64\n",
      " 10  WorkLifeBalance     5180 non-null   float64\n",
      " 11  Designation         5142 non-null   object \n",
      " 12  JobSatisfaction     5180 non-null   float64\n",
      " 13  ESOPs               5180 non-null   float64\n",
      " 14  NumCompaniesWorked  5180 non-null   float64\n",
      " 15  OverTime            5180 non-null   float64\n",
      " 16  SalaryHikelastYear  5011 non-null   float64\n",
      " 17  WorkExperience      4993 non-null   float64\n",
      " 18  LastPromotion       5110 non-null   float64\n",
      " 19  CurrentProfile      4869 non-null   float64\n",
      " 20  MaritalStatus       5180 non-null   object \n",
      " 21  MonthlyIncome       5087 non-null   float64\n",
      "dtypes: float64(16), object(6)\n",
      "memory usage: 1.3+ MB\n"
     ]
    }
   ],
   "source": [
    "df.info()"
   ]
  },
  {
   "cell_type": "code",
   "execution_count": 6,
   "id": "b16d4817",
   "metadata": {},
   "outputs": [],
   "source": [
    "df = df.drop(labels=range(5180, 7810), axis=0)"
   ]
  },
  {
   "cell_type": "code",
   "execution_count": 7,
   "id": "7fec915c",
   "metadata": {},
   "outputs": [
    {
     "name": "stdout",
     "output_type": "stream",
     "text": [
      "<class 'pandas.core.frame.DataFrame'>\n",
      "RangeIndex: 5180 entries, 0 to 5179\n",
      "Data columns (total 22 columns):\n",
      " #   Column              Non-Null Count  Dtype  \n",
      "---  ------              --------------  -----  \n",
      " 0   EmployeeID          5180 non-null   float64\n",
      " 1   Attrition           5180 non-null   float64\n",
      " 2   Age                 4864 non-null   float64\n",
      " 3   TravelProfile       5180 non-null   object \n",
      " 4   Department          5056 non-null   object \n",
      " 5   HomeToWork          4925 non-null   float64\n",
      " 6   EducationField      5180 non-null   object \n",
      " 7   Gender              5134 non-null   object \n",
      " 8   HourlnWeek          4893 non-null   float64\n",
      " 9   Involvement         5180 non-null   float64\n",
      " 10  WorkLifeBalance     5180 non-null   float64\n",
      " 11  Designation         5142 non-null   object \n",
      " 12  JobSatisfaction     5180 non-null   float64\n",
      " 13  ESOPs               5180 non-null   float64\n",
      " 14  NumCompaniesWorked  5180 non-null   float64\n",
      " 15  OverTime            5180 non-null   float64\n",
      " 16  SalaryHikelastYear  5011 non-null   float64\n",
      " 17  WorkExperience      4993 non-null   float64\n",
      " 18  LastPromotion       5110 non-null   float64\n",
      " 19  CurrentProfile      4869 non-null   float64\n",
      " 20  MaritalStatus       5180 non-null   object \n",
      " 21  MonthlyIncome       5087 non-null   float64\n",
      "dtypes: float64(16), object(6)\n",
      "memory usage: 890.4+ KB\n"
     ]
    }
   ],
   "source": [
    "df.info()"
   ]
  },
  {
   "cell_type": "code",
   "execution_count": 8,
   "id": "a08b8017",
   "metadata": {},
   "outputs": [
    {
     "data": {
      "text/plain": [
       "EmployeeID              0\n",
       "Attrition               0\n",
       "Age                   316\n",
       "TravelProfile           0\n",
       "Department            124\n",
       "HomeToWork            255\n",
       "EducationField          0\n",
       "Gender                 46\n",
       "HourlnWeek            287\n",
       "Involvement             0\n",
       "WorkLifeBalance         0\n",
       "Designation            38\n",
       "JobSatisfaction         0\n",
       "ESOPs                   0\n",
       "NumCompaniesWorked      0\n",
       "OverTime                0\n",
       "SalaryHikelastYear    169\n",
       "WorkExperience        187\n",
       "LastPromotion          70\n",
       "CurrentProfile        311\n",
       "MaritalStatus           0\n",
       "MonthlyIncome          93\n",
       "dtype: int64"
      ]
     },
     "execution_count": 8,
     "metadata": {},
     "output_type": "execute_result"
    }
   ],
   "source": [
    "df.isnull().sum()"
   ]
  },
  {
   "cell_type": "code",
   "execution_count": 9,
   "id": "fedb5c58",
   "metadata": {},
   "outputs": [
    {
     "data": {
      "text/html": [
       "<div>\n",
       "<style scoped>\n",
       "    .dataframe tbody tr th:only-of-type {\n",
       "        vertical-align: middle;\n",
       "    }\n",
       "\n",
       "    .dataframe tbody tr th {\n",
       "        vertical-align: top;\n",
       "    }\n",
       "\n",
       "    .dataframe thead th {\n",
       "        text-align: right;\n",
       "    }\n",
       "</style>\n",
       "<table border=\"1\" class=\"dataframe\">\n",
       "  <thead>\n",
       "    <tr style=\"text-align: right;\">\n",
       "      <th></th>\n",
       "      <th>EmployeeID</th>\n",
       "      <th>Attrition</th>\n",
       "      <th>Age</th>\n",
       "      <th>TravelProfile</th>\n",
       "      <th>Department</th>\n",
       "      <th>HomeToWork</th>\n",
       "      <th>EducationField</th>\n",
       "      <th>Gender</th>\n",
       "      <th>HourlnWeek</th>\n",
       "      <th>Involvement</th>\n",
       "      <th>...</th>\n",
       "      <th>JobSatisfaction</th>\n",
       "      <th>ESOPs</th>\n",
       "      <th>NumCompaniesWorked</th>\n",
       "      <th>OverTime</th>\n",
       "      <th>SalaryHikelastYear</th>\n",
       "      <th>WorkExperience</th>\n",
       "      <th>LastPromotion</th>\n",
       "      <th>CurrentProfile</th>\n",
       "      <th>MaritalStatus</th>\n",
       "      <th>MonthlyIncome</th>\n",
       "    </tr>\n",
       "  </thead>\n",
       "  <tbody>\n",
       "    <tr>\n",
       "      <th>0</th>\n",
       "      <td>5110001.0</td>\n",
       "      <td>0.0</td>\n",
       "      <td>35.0</td>\n",
       "      <td>Rarely</td>\n",
       "      <td>Analytics</td>\n",
       "      <td>5.0</td>\n",
       "      <td>CA</td>\n",
       "      <td>Male</td>\n",
       "      <td>69.0</td>\n",
       "      <td>1.0</td>\n",
       "      <td>...</td>\n",
       "      <td>1.0</td>\n",
       "      <td>1.0</td>\n",
       "      <td>1.0</td>\n",
       "      <td>1.0</td>\n",
       "      <td>20.0</td>\n",
       "      <td>7.0</td>\n",
       "      <td>2.0</td>\n",
       "      <td>NaN</td>\n",
       "      <td>M</td>\n",
       "      <td>18932.0</td>\n",
       "    </tr>\n",
       "    <tr>\n",
       "      <th>1</th>\n",
       "      <td>5110002.0</td>\n",
       "      <td>1.0</td>\n",
       "      <td>32.0</td>\n",
       "      <td>Yes</td>\n",
       "      <td>Sales</td>\n",
       "      <td>5.0</td>\n",
       "      <td>Statistics</td>\n",
       "      <td>Female</td>\n",
       "      <td>62.0</td>\n",
       "      <td>4.0</td>\n",
       "      <td>...</td>\n",
       "      <td>2.0</td>\n",
       "      <td>0.0</td>\n",
       "      <td>8.0</td>\n",
       "      <td>0.0</td>\n",
       "      <td>20.0</td>\n",
       "      <td>4.0</td>\n",
       "      <td>1.0</td>\n",
       "      <td>NaN</td>\n",
       "      <td>Single</td>\n",
       "      <td>18785.0</td>\n",
       "    </tr>\n",
       "    <tr>\n",
       "      <th>2</th>\n",
       "      <td>5110003.0</td>\n",
       "      <td>0.0</td>\n",
       "      <td>31.0</td>\n",
       "      <td>Rarely</td>\n",
       "      <td>Analytics</td>\n",
       "      <td>5.0</td>\n",
       "      <td>Statistics</td>\n",
       "      <td>F</td>\n",
       "      <td>45.0</td>\n",
       "      <td>5.0</td>\n",
       "      <td>...</td>\n",
       "      <td>2.0</td>\n",
       "      <td>1.0</td>\n",
       "      <td>3.0</td>\n",
       "      <td>0.0</td>\n",
       "      <td>26.0</td>\n",
       "      <td>12.0</td>\n",
       "      <td>1.0</td>\n",
       "      <td>3.0</td>\n",
       "      <td>Single</td>\n",
       "      <td>22091.0</td>\n",
       "    </tr>\n",
       "    <tr>\n",
       "      <th>3</th>\n",
       "      <td>5110004.0</td>\n",
       "      <td>0.0</td>\n",
       "      <td>34.0</td>\n",
       "      <td>Yes</td>\n",
       "      <td>Sales</td>\n",
       "      <td>10.0</td>\n",
       "      <td>Statistics</td>\n",
       "      <td>Female</td>\n",
       "      <td>32.0</td>\n",
       "      <td>3.0</td>\n",
       "      <td>...</td>\n",
       "      <td>4.0</td>\n",
       "      <td>1.0</td>\n",
       "      <td>1.0</td>\n",
       "      <td>0.0</td>\n",
       "      <td>23.0</td>\n",
       "      <td>5.0</td>\n",
       "      <td>1.0</td>\n",
       "      <td>3.0</td>\n",
       "      <td>Divorsed</td>\n",
       "      <td>20302.0</td>\n",
       "    </tr>\n",
       "    <tr>\n",
       "      <th>4</th>\n",
       "      <td>5110005.0</td>\n",
       "      <td>0.0</td>\n",
       "      <td>37.0</td>\n",
       "      <td>No</td>\n",
       "      <td>Analytics</td>\n",
       "      <td>27.0</td>\n",
       "      <td>Statistics</td>\n",
       "      <td>Female</td>\n",
       "      <td>49.0</td>\n",
       "      <td>3.0</td>\n",
       "      <td>...</td>\n",
       "      <td>4.0</td>\n",
       "      <td>1.0</td>\n",
       "      <td>8.0</td>\n",
       "      <td>0.0</td>\n",
       "      <td>21.0</td>\n",
       "      <td>12.0</td>\n",
       "      <td>1.0</td>\n",
       "      <td>9.0</td>\n",
       "      <td>Divorsed</td>\n",
       "      <td>21674.0</td>\n",
       "    </tr>\n",
       "  </tbody>\n",
       "</table>\n",
       "<p>5 rows × 22 columns</p>\n",
       "</div>"
      ],
      "text/plain": [
       "   EmployeeID  Attrition   Age TravelProfile Department  HomeToWork  \\\n",
       "0   5110001.0        0.0  35.0        Rarely  Analytics         5.0   \n",
       "1   5110002.0        1.0  32.0           Yes      Sales         5.0   \n",
       "2   5110003.0        0.0  31.0        Rarely  Analytics         5.0   \n",
       "3   5110004.0        0.0  34.0           Yes      Sales        10.0   \n",
       "4   5110005.0        0.0  37.0            No  Analytics        27.0   \n",
       "\n",
       "  EducationField  Gender  HourlnWeek  Involvement  ...  JobSatisfaction ESOPs  \\\n",
       "0             CA    Male        69.0          1.0  ...              1.0   1.0   \n",
       "1     Statistics  Female        62.0          4.0  ...              2.0   0.0   \n",
       "2     Statistics       F        45.0          5.0  ...              2.0   1.0   \n",
       "3     Statistics  Female        32.0          3.0  ...              4.0   1.0   \n",
       "4     Statistics  Female        49.0          3.0  ...              4.0   1.0   \n",
       "\n",
       "   NumCompaniesWorked  OverTime  SalaryHikelastYear  WorkExperience  \\\n",
       "0                 1.0       1.0                20.0             7.0   \n",
       "1                 8.0       0.0                20.0             4.0   \n",
       "2                 3.0       0.0                26.0            12.0   \n",
       "3                 1.0       0.0                23.0             5.0   \n",
       "4                 8.0       0.0                21.0            12.0   \n",
       "\n",
       "   LastPromotion  CurrentProfile  MaritalStatus  MonthlyIncome  \n",
       "0            2.0             NaN              M        18932.0  \n",
       "1            1.0             NaN         Single        18785.0  \n",
       "2            1.0             3.0         Single        22091.0  \n",
       "3            1.0             3.0       Divorsed        20302.0  \n",
       "4            1.0             9.0       Divorsed        21674.0  \n",
       "\n",
       "[5 rows x 22 columns]"
      ]
     },
     "execution_count": 9,
     "metadata": {},
     "output_type": "execute_result"
    }
   ],
   "source": [
    "df.head()"
   ]
  },
  {
   "cell_type": "code",
   "execution_count": 10,
   "id": "9acf9c2f",
   "metadata": {
    "scrolled": true
   },
   "outputs": [
    {
     "data": {
      "text/plain": [
       "Designation\n",
       "AVP               47.820122\n",
       "Executive         32.634822\n",
       "Manager           36.784280\n",
       "Senior Manager    40.528178\n",
       "VP                48.170404\n",
       "Name: Age, dtype: float64"
      ]
     },
     "execution_count": 10,
     "metadata": {},
     "output_type": "execute_result"
    }
   ],
   "source": [
    "df.groupby('Designation')['Age'].mean()"
   ]
  },
  {
   "cell_type": "code",
   "execution_count": 11,
   "id": "8f78e58c",
   "metadata": {},
   "outputs": [],
   "source": [
    "ind = df[df['Age'].isnull()].index"
   ]
  },
  {
   "cell_type": "code",
   "execution_count": 12,
   "id": "83242d24",
   "metadata": {},
   "outputs": [],
   "source": [
    "for i in ind:\n",
    "    if df.loc[i,'Designation'] == 'AVP':\n",
    "        df.loc[i,'Age'] = 48\n",
    "    if df.loc[i,'Designation'] == 'Executive':\n",
    "        df.loc[i,'Age'] = 33\n",
    "    if df.loc[i,'Designation'] == 'Manager':\n",
    "        df.loc[i,'Age'] = 37\n",
    "    if df.loc[i,'Designation'] == 'Senior Manager':\n",
    "        df.loc[i,'Age'] = 41\n",
    "    if df.loc[i,'Designation'] == 'VP':\n",
    "        df.loc[i,'Age'] = 48"
   ]
  },
  {
   "cell_type": "code",
   "execution_count": 13,
   "id": "d4a2ad2e",
   "metadata": {
    "scrolled": true
   },
   "outputs": [
    {
     "data": {
      "text/plain": [
       "EmployeeID              0\n",
       "Attrition               0\n",
       "Age                     0\n",
       "TravelProfile           0\n",
       "Department            124\n",
       "HomeToWork            255\n",
       "EducationField          0\n",
       "Gender                 46\n",
       "HourlnWeek            287\n",
       "Involvement             0\n",
       "WorkLifeBalance         0\n",
       "Designation            38\n",
       "JobSatisfaction         0\n",
       "ESOPs                   0\n",
       "NumCompaniesWorked      0\n",
       "OverTime                0\n",
       "SalaryHikelastYear    169\n",
       "WorkExperience        187\n",
       "LastPromotion          70\n",
       "CurrentProfile        311\n",
       "MaritalStatus           0\n",
       "MonthlyIncome          93\n",
       "dtype: int64"
      ]
     },
     "execution_count": 13,
     "metadata": {},
     "output_type": "execute_result"
    }
   ],
   "source": [
    "df.isnull().sum()"
   ]
  },
  {
   "cell_type": "code",
   "execution_count": 14,
   "id": "1fbf144a",
   "metadata": {},
   "outputs": [
    {
     "data": {
      "text/html": [
       "<div>\n",
       "<style scoped>\n",
       "    .dataframe tbody tr th:only-of-type {\n",
       "        vertical-align: middle;\n",
       "    }\n",
       "\n",
       "    .dataframe tbody tr th {\n",
       "        vertical-align: top;\n",
       "    }\n",
       "\n",
       "    .dataframe thead th {\n",
       "        text-align: right;\n",
       "    }\n",
       "</style>\n",
       "<table border=\"1\" class=\"dataframe\">\n",
       "  <thead>\n",
       "    <tr style=\"text-align: right;\">\n",
       "      <th>Department</th>\n",
       "      <th>Analytics</th>\n",
       "      <th>Marketing</th>\n",
       "      <th>Sales</th>\n",
       "    </tr>\n",
       "    <tr>\n",
       "      <th>EducationField</th>\n",
       "      <th></th>\n",
       "      <th></th>\n",
       "      <th></th>\n",
       "    </tr>\n",
       "  </thead>\n",
       "  <tbody>\n",
       "    <tr>\n",
       "      <th>CA</th>\n",
       "      <td>1185</td>\n",
       "      <td>40</td>\n",
       "      <td>308</td>\n",
       "    </tr>\n",
       "    <tr>\n",
       "      <th>Engineer</th>\n",
       "      <td>335</td>\n",
       "      <td>15</td>\n",
       "      <td>125</td>\n",
       "    </tr>\n",
       "    <tr>\n",
       "      <th>MBA</th>\n",
       "      <td>0</td>\n",
       "      <td>112</td>\n",
       "      <td>0</td>\n",
       "    </tr>\n",
       "    <tr>\n",
       "      <th>Marketing Diploma</th>\n",
       "      <td>0</td>\n",
       "      <td>0</td>\n",
       "      <td>590</td>\n",
       "    </tr>\n",
       "    <tr>\n",
       "      <th>Other</th>\n",
       "      <td>211</td>\n",
       "      <td>9</td>\n",
       "      <td>62</td>\n",
       "    </tr>\n",
       "    <tr>\n",
       "      <th>Statistics</th>\n",
       "      <td>1488</td>\n",
       "      <td>46</td>\n",
       "      <td>530</td>\n",
       "    </tr>\n",
       "  </tbody>\n",
       "</table>\n",
       "</div>"
      ],
      "text/plain": [
       "Department         Analytics  Marketing  Sales\n",
       "EducationField                                \n",
       "CA                      1185         40    308\n",
       "Engineer                 335         15    125\n",
       "MBA                        0        112      0\n",
       "Marketing Diploma          0          0    590\n",
       "Other                    211          9     62\n",
       "Statistics              1488         46    530"
      ]
     },
     "execution_count": 14,
     "metadata": {},
     "output_type": "execute_result"
    }
   ],
   "source": [
    "pd.crosstab(df['EducationField'],df['Department'])"
   ]
  },
  {
   "cell_type": "code",
   "execution_count": 15,
   "id": "8798aed3",
   "metadata": {},
   "outputs": [],
   "source": [
    "ind = df[df['Department'].isnull()].index"
   ]
  },
  {
   "cell_type": "code",
   "execution_count": 16,
   "id": "bdf13669",
   "metadata": {},
   "outputs": [],
   "source": [
    "for i in ind:\n",
    "    if df.loc[i,'EducationField'] == 'CA' or 'Engineer' or 'Other' or 'Statistics':\n",
    "        df.loc[i,'Department'] = 'Analytics'\n",
    "    if df.loc[i,'EducationField'] == 'MBA':\n",
    "        df.loc[i,'Department'] = 'Marketing'\n",
    "    if df.loc[i,'EducationField'] == 'Marketing Diploma':\n",
    "        df.loc[i,'Department'] = 'Sales'"
   ]
  },
  {
   "cell_type": "code",
   "execution_count": 17,
   "id": "989d8f12",
   "metadata": {},
   "outputs": [
    {
     "data": {
      "text/plain": [
       "EmployeeID              0\n",
       "Attrition               0\n",
       "Age                     0\n",
       "TravelProfile           0\n",
       "Department              0\n",
       "HomeToWork            255\n",
       "EducationField          0\n",
       "Gender                 46\n",
       "HourlnWeek            287\n",
       "Involvement             0\n",
       "WorkLifeBalance         0\n",
       "Designation            38\n",
       "JobSatisfaction         0\n",
       "ESOPs                   0\n",
       "NumCompaniesWorked      0\n",
       "OverTime                0\n",
       "SalaryHikelastYear    169\n",
       "WorkExperience        187\n",
       "LastPromotion          70\n",
       "CurrentProfile        311\n",
       "MaritalStatus           0\n",
       "MonthlyIncome          93\n",
       "dtype: int64"
      ]
     },
     "execution_count": 17,
     "metadata": {},
     "output_type": "execute_result"
    }
   ],
   "source": [
    "df.isnull().sum()"
   ]
  },
  {
   "cell_type": "code",
   "execution_count": 18,
   "id": "a278e1d9",
   "metadata": {},
   "outputs": [],
   "source": [
    "df.HomeToWork.fillna(df.HomeToWork.mean(), inplace=True)"
   ]
  },
  {
   "cell_type": "code",
   "execution_count": 19,
   "id": "6548f280",
   "metadata": {},
   "outputs": [
    {
     "data": {
      "text/plain": [
       "EmployeeID              0\n",
       "Attrition               0\n",
       "Age                     0\n",
       "TravelProfile           0\n",
       "Department              0\n",
       "HomeToWork              0\n",
       "EducationField          0\n",
       "Gender                 46\n",
       "HourlnWeek            287\n",
       "Involvement             0\n",
       "WorkLifeBalance         0\n",
       "Designation            38\n",
       "JobSatisfaction         0\n",
       "ESOPs                   0\n",
       "NumCompaniesWorked      0\n",
       "OverTime                0\n",
       "SalaryHikelastYear    169\n",
       "WorkExperience        187\n",
       "LastPromotion          70\n",
       "CurrentProfile        311\n",
       "MaritalStatus           0\n",
       "MonthlyIncome          93\n",
       "dtype: int64"
      ]
     },
     "execution_count": 19,
     "metadata": {},
     "output_type": "execute_result"
    }
   ],
   "source": [
    "df.isnull().sum()"
   ]
  },
  {
   "cell_type": "code",
   "execution_count": 20,
   "id": "acb5f3c2",
   "metadata": {},
   "outputs": [
    {
     "data": {
      "text/plain": [
       "array(['Male', 'Female', 'F', nan], dtype=object)"
      ]
     },
     "execution_count": 20,
     "metadata": {},
     "output_type": "execute_result"
    }
   ],
   "source": [
    "df.Gender.unique()"
   ]
  },
  {
   "cell_type": "code",
   "execution_count": 21,
   "id": "952b180e",
   "metadata": {},
   "outputs": [],
   "source": [
    "df.Gender.replace('F','Female', inplace=True)"
   ]
  },
  {
   "cell_type": "code",
   "execution_count": 22,
   "id": "c0d3c40d",
   "metadata": {},
   "outputs": [
    {
     "data": {
      "text/plain": [
       "array(['Male', 'Female', nan], dtype=object)"
      ]
     },
     "execution_count": 22,
     "metadata": {},
     "output_type": "execute_result"
    }
   ],
   "source": [
    "df.Gender.unique()"
   ]
  },
  {
   "cell_type": "code",
   "execution_count": 23,
   "id": "057d15a3",
   "metadata": {},
   "outputs": [],
   "source": [
    "df.Gender.fillna(df.Gender.mode()[0], inplace=True)"
   ]
  },
  {
   "cell_type": "code",
   "execution_count": 24,
   "id": "26bb3ccd",
   "metadata": {},
   "outputs": [
    {
     "data": {
      "text/plain": [
       "EmployeeID              0\n",
       "Attrition               0\n",
       "Age                     0\n",
       "TravelProfile           0\n",
       "Department              0\n",
       "HomeToWork              0\n",
       "EducationField          0\n",
       "Gender                  0\n",
       "HourlnWeek            287\n",
       "Involvement             0\n",
       "WorkLifeBalance         0\n",
       "Designation            38\n",
       "JobSatisfaction         0\n",
       "ESOPs                   0\n",
       "NumCompaniesWorked      0\n",
       "OverTime                0\n",
       "SalaryHikelastYear    169\n",
       "WorkExperience        187\n",
       "LastPromotion          70\n",
       "CurrentProfile        311\n",
       "MaritalStatus           0\n",
       "MonthlyIncome          93\n",
       "dtype: int64"
      ]
     },
     "execution_count": 24,
     "metadata": {},
     "output_type": "execute_result"
    }
   ],
   "source": [
    "df.isnull().sum()"
   ]
  },
  {
   "cell_type": "code",
   "execution_count": 25,
   "id": "793d3b2d",
   "metadata": {},
   "outputs": [
    {
     "data": {
      "image/png": "[encoded data removed]",
      "text/plain": [
       "<Figure size 1296x1296 with 2 Axes>"
      ]
     },
     "metadata": {
      "needs_background": "light"
     },
     "output_type": "display_data"
    }
   ],
   "source": [
    "f,ax = plt.subplots(figsize=(18, 18))\n",
    "sns.heatmap(df.corr(), annot=True, linewidths=.5, fmt= '.1f',ax=ax)\n",
    "plt.show()"
   ]
  },
  {
   "cell_type": "code",
   "execution_count": 26,
   "id": "f614e181",
   "metadata": {},
   "outputs": [],
   "source": [
    "df.HourlnWeek.fillna(df.HourlnWeek.mean(),inplace=True)"
   ]
  },
  {
   "cell_type": "code",
   "execution_count": 27,
   "id": "d4a327db",
   "metadata": {},
   "outputs": [
    {
     "data": {
      "text/plain": [
       "EmployeeID              0\n",
       "Attrition               0\n",
       "Age                     0\n",
       "TravelProfile           0\n",
       "Department              0\n",
       "HomeToWork              0\n",
       "EducationField          0\n",
       "Gender                  0\n",
       "HourlnWeek              0\n",
       "Involvement             0\n",
       "WorkLifeBalance         0\n",
       "Designation            38\n",
       "JobSatisfaction         0\n",
       "ESOPs                   0\n",
       "NumCompaniesWorked      0\n",
       "OverTime                0\n",
       "SalaryHikelastYear    169\n",
       "WorkExperience        187\n",
       "LastPromotion          70\n",
       "CurrentProfile        311\n",
       "MaritalStatus           0\n",
       "MonthlyIncome          93\n",
       "dtype: int64"
      ]
     },
     "execution_count": 27,
     "metadata": {},
     "output_type": "execute_result"
    }
   ],
   "source": [
    "df.isnull().sum()"
   ]
  },
  {
   "cell_type": "code",
   "execution_count": 28,
   "id": "2cc59516",
   "metadata": {},
   "outputs": [
    {
     "data": {
      "text/plain": [
       "Designation\n",
       "AVP               31307.0\n",
       "Executive         18121.0\n",
       "Manager           20765.0\n",
       "Senior Manager    25333.0\n",
       "VP                34609.5\n",
       "Name: MonthlyIncome, dtype: float64"
      ]
     },
     "execution_count": 28,
     "metadata": {},
     "output_type": "execute_result"
    }
   ],
   "source": [
    "df.groupby('Designation')['MonthlyIncome'].median()"
   ]
  },
  {
   "cell_type": "code",
   "execution_count": 29,
   "id": "3b00733b",
   "metadata": {},
   "outputs": [],
   "source": [
    "ind = df[df['Designation'].isnull()].index"
   ]
  },
  {
   "cell_type": "code",
   "execution_count": 30,
   "id": "32070c1e",
   "metadata": {},
   "outputs": [],
   "source": [
    "for i in ind:\n",
    "    if df.loc[i,'MonthlyIncome'] > 34500:\n",
    "        df.loc[i,'Designation'] = 'VP'\n",
    "    if (df.loc[i,'MonthlyIncome'] > 31000) & (df.loc[i,'MonthlyIncome'] < 34500):\n",
    "        df.loc[i,'Designation'] = 'AVP'\n",
    "    if (df.loc[i,'MonthlyIncome'] > 25000) & (df.loc[i,'MonthlyIncome'] < 31000):\n",
    "        df.loc[i,'Designation'] = 'Senior Manager'\n",
    "    if (df.loc[i,'MonthlyIncome'] > 20500) & (df.loc[i,'MonthlyIncome'] < 25000):\n",
    "        df.loc[i,'Designation'] = 'Manager'\n",
    "    if (df.loc[i,'MonthlyIncome'] < 20500):\n",
    "        df.loc[i,'Designation'] = 'Executive'"
   ]
  },
  {
   "cell_type": "code",
   "execution_count": 31,
   "id": "26fc1e92",
   "metadata": {},
   "outputs": [
    {
     "data": {
      "text/plain": [
       "EmployeeID              0\n",
       "Attrition               0\n",
       "Age                     0\n",
       "TravelProfile           0\n",
       "Department              0\n",
       "HomeToWork              0\n",
       "EducationField          0\n",
       "Gender                  0\n",
       "HourlnWeek              0\n",
       "Involvement             0\n",
       "WorkLifeBalance         0\n",
       "Designation             0\n",
       "JobSatisfaction         0\n",
       "ESOPs                   0\n",
       "NumCompaniesWorked      0\n",
       "OverTime                0\n",
       "SalaryHikelastYear    169\n",
       "WorkExperience        187\n",
       "LastPromotion          70\n",
       "CurrentProfile        311\n",
       "MaritalStatus           0\n",
       "MonthlyIncome          93\n",
       "dtype: int64"
      ]
     },
     "execution_count": 31,
     "metadata": {},
     "output_type": "execute_result"
    }
   ],
   "source": [
    "df.isnull().sum()"
   ]
  },
  {
   "cell_type": "code",
   "execution_count": 32,
   "id": "cc6fab1d",
   "metadata": {},
   "outputs": [],
   "source": [
    "df.SalaryHikelastYear.fillna(df.SalaryHikelastYear.mean(), inplace=True)"
   ]
  },
  {
   "cell_type": "code",
   "execution_count": 33,
   "id": "679907ab",
   "metadata": {},
   "outputs": [],
   "source": [
    "ind = df[df['WorkExperience'].isnull()].index"
   ]
  },
  {
   "cell_type": "code",
   "execution_count": 34,
   "id": "47d61320",
   "metadata": {},
   "outputs": [],
   "source": [
    "for i in ind:\n",
    "    df.loc[i,'WorkExperience'] = df.loc[i,'Age'] - 18"
   ]
  },
  {
   "cell_type": "code",
   "execution_count": 35,
   "id": "d7755f68",
   "metadata": {},
   "outputs": [
    {
     "data": {
      "text/plain": [
       "EmployeeID              0\n",
       "Attrition               0\n",
       "Age                     0\n",
       "TravelProfile           0\n",
       "Department              0\n",
       "HomeToWork              0\n",
       "EducationField          0\n",
       "Gender                  0\n",
       "HourlnWeek              0\n",
       "Involvement             0\n",
       "WorkLifeBalance         0\n",
       "Designation             0\n",
       "JobSatisfaction         0\n",
       "ESOPs                   0\n",
       "NumCompaniesWorked      0\n",
       "OverTime                0\n",
       "SalaryHikelastYear      0\n",
       "WorkExperience          0\n",
       "LastPromotion          70\n",
       "CurrentProfile        311\n",
       "MaritalStatus           0\n",
       "MonthlyIncome          93\n",
       "dtype: int64"
      ]
     },
     "execution_count": 35,
     "metadata": {},
     "output_type": "execute_result"
    }
   ],
   "source": [
    "df.isnull().sum()"
   ]
  },
  {
   "cell_type": "code",
   "execution_count": 36,
   "id": "9a505504",
   "metadata": {},
   "outputs": [],
   "source": [
    "df.LastPromotion.fillna(df.LastPromotion.mean(), inplace = True)"
   ]
  },
  {
   "cell_type": "code",
   "execution_count": 37,
   "id": "da9bba52",
   "metadata": {},
   "outputs": [],
   "source": [
    "df.CurrentProfile.fillna(df.CurrentProfile.mean(), inplace = True)"
   ]
  },
  {
   "cell_type": "code",
   "execution_count": 38,
   "id": "b7177e1b",
   "metadata": {},
   "outputs": [
    {
     "data": {
      "text/plain": [
       "EmployeeID             0\n",
       "Attrition              0\n",
       "Age                    0\n",
       "TravelProfile          0\n",
       "Department             0\n",
       "HomeToWork             0\n",
       "EducationField         0\n",
       "Gender                 0\n",
       "HourlnWeek             0\n",
       "Involvement            0\n",
       "WorkLifeBalance        0\n",
       "Designation            0\n",
       "JobSatisfaction        0\n",
       "ESOPs                  0\n",
       "NumCompaniesWorked     0\n",
       "OverTime               0\n",
       "SalaryHikelastYear     0\n",
       "WorkExperience         0\n",
       "LastPromotion          0\n",
       "CurrentProfile         0\n",
       "MaritalStatus          0\n",
       "MonthlyIncome         93\n",
       "dtype: int64"
      ]
     },
     "execution_count": 38,
     "metadata": {},
     "output_type": "execute_result"
    }
   ],
   "source": [
    "df.isnull().sum()"
   ]
  },
  {
   "cell_type": "code",
   "execution_count": 39,
   "id": "9e328d84",
   "metadata": {},
   "outputs": [
    {
     "data": {
      "text/plain": [
       "Designation\n",
       "AVP               30796.772586\n",
       "Executive         18206.137046\n",
       "Manager           20925.643105\n",
       "Senior Manager    25306.265604\n",
       "VP                34657.644144\n",
       "Name: MonthlyIncome, dtype: float64"
      ]
     },
     "execution_count": 39,
     "metadata": {},
     "output_type": "execute_result"
    }
   ],
   "source": [
    "df.groupby('Designation')['MonthlyIncome'].mean()"
   ]
  },
  {
   "cell_type": "code",
   "execution_count": 40,
   "id": "9f3d0ab7",
   "metadata": {},
   "outputs": [],
   "source": [
    "ind = df[df['MonthlyIncome'].isnull()].index"
   ]
  },
  {
   "cell_type": "code",
   "execution_count": 41,
   "id": "9036586a",
   "metadata": {},
   "outputs": [],
   "source": [
    "for i in ind:\n",
    "    if df.loc[i,'Designation'] == 'VP':\n",
    "        df.loc[i,'MonthlyIncome'] = 34500\n",
    "    if df.loc[i,'Designation'] == 'AVP':\n",
    "        df.loc[i,'MonthlyIncome'] = 30500\n",
    "    if df.loc[i,'Designation'] == 'Senior Manager':\n",
    "        df.loc[i,'MonthlyIncome'] = 25500\n",
    "    if df.loc[i,'Designation'] == 'Manager':\n",
    "        df.loc[i,'MonthlyIncome'] = 21000\n",
    "    if df.loc[i,'Designation'] == 'Executive':\n",
    "        df.loc[i,'MonthlyIncome'] = 18000"
   ]
  },
  {
   "cell_type": "code",
   "execution_count": 42,
   "id": "49fc7ed7",
   "metadata": {},
   "outputs": [
    {
     "data": {
      "text/plain": [
       "EmployeeID            0\n",
       "Attrition             0\n",
       "Age                   0\n",
       "TravelProfile         0\n",
       "Department            0\n",
       "HomeToWork            0\n",
       "EducationField        0\n",
       "Gender                0\n",
       "HourlnWeek            0\n",
       "Involvement           0\n",
       "WorkLifeBalance       0\n",
       "Designation           0\n",
       "JobSatisfaction       0\n",
       "ESOPs                 0\n",
       "NumCompaniesWorked    0\n",
       "OverTime              0\n",
       "SalaryHikelastYear    0\n",
       "WorkExperience        0\n",
       "LastPromotion         0\n",
       "CurrentProfile        0\n",
       "MaritalStatus         0\n",
       "MonthlyIncome         0\n",
       "dtype: int64"
      ]
     },
     "execution_count": 42,
     "metadata": {},
     "output_type": "execute_result"
    }
   ],
   "source": [
    "df.isnull().sum()"
   ]
  },
  {
   "cell_type": "code",
   "execution_count": 43,
   "id": "bc88a09b",
   "metadata": {},
   "outputs": [
    {
     "data": {
      "text/html": [
       "<div>\n",
       "<style scoped>\n",
       "    .dataframe tbody tr th:only-of-type {\n",
       "        vertical-align: middle;\n",
       "    }\n",
       "\n",
       "    .dataframe tbody tr th {\n",
       "        vertical-align: top;\n",
       "    }\n",
       "\n",
       "    .dataframe thead th {\n",
       "        text-align: right;\n",
       "    }\n",
       "</style>\n",
       "<table border=\"1\" class=\"dataframe\">\n",
       "  <thead>\n",
       "    <tr style=\"text-align: right;\">\n",
       "      <th></th>\n",
       "      <th>EmployeeID</th>\n",
       "      <th>Attrition</th>\n",
       "      <th>Age</th>\n",
       "      <th>TravelProfile</th>\n",
       "      <th>Department</th>\n",
       "      <th>HomeToWork</th>\n",
       "      <th>EducationField</th>\n",
       "      <th>Gender</th>\n",
       "      <th>HourlnWeek</th>\n",
       "      <th>Involvement</th>\n",
       "      <th>...</th>\n",
       "      <th>JobSatisfaction</th>\n",
       "      <th>ESOPs</th>\n",
       "      <th>NumCompaniesWorked</th>\n",
       "      <th>OverTime</th>\n",
       "      <th>SalaryHikelastYear</th>\n",
       "      <th>WorkExperience</th>\n",
       "      <th>LastPromotion</th>\n",
       "      <th>CurrentProfile</th>\n",
       "      <th>MaritalStatus</th>\n",
       "      <th>MonthlyIncome</th>\n",
       "    </tr>\n",
       "  </thead>\n",
       "  <tbody>\n",
       "    <tr>\n",
       "      <th>0</th>\n",
       "      <td>5110001.0</td>\n",
       "      <td>0.0</td>\n",
       "      <td>35.0</td>\n",
       "      <td>Rarely</td>\n",
       "      <td>Analytics</td>\n",
       "      <td>5.0</td>\n",
       "      <td>CA</td>\n",
       "      <td>Male</td>\n",
       "      <td>69.0</td>\n",
       "      <td>1.0</td>\n",
       "      <td>...</td>\n",
       "      <td>1.0</td>\n",
       "      <td>1.0</td>\n",
       "      <td>1.0</td>\n",
       "      <td>1.0</td>\n",
       "      <td>20.0</td>\n",
       "      <td>7.0</td>\n",
       "      <td>2.0</td>\n",
       "      <td>4.385295</td>\n",
       "      <td>M</td>\n",
       "      <td>18932.0</td>\n",
       "    </tr>\n",
       "    <tr>\n",
       "      <th>1</th>\n",
       "      <td>5110002.0</td>\n",
       "      <td>1.0</td>\n",
       "      <td>32.0</td>\n",
       "      <td>Yes</td>\n",
       "      <td>Sales</td>\n",
       "      <td>5.0</td>\n",
       "      <td>Statistics</td>\n",
       "      <td>Female</td>\n",
       "      <td>62.0</td>\n",
       "      <td>4.0</td>\n",
       "      <td>...</td>\n",
       "      <td>2.0</td>\n",
       "      <td>0.0</td>\n",
       "      <td>8.0</td>\n",
       "      <td>0.0</td>\n",
       "      <td>20.0</td>\n",
       "      <td>4.0</td>\n",
       "      <td>1.0</td>\n",
       "      <td>4.385295</td>\n",
       "      <td>Single</td>\n",
       "      <td>18785.0</td>\n",
       "    </tr>\n",
       "    <tr>\n",
       "      <th>2</th>\n",
       "      <td>5110003.0</td>\n",
       "      <td>0.0</td>\n",
       "      <td>31.0</td>\n",
       "      <td>Rarely</td>\n",
       "      <td>Analytics</td>\n",
       "      <td>5.0</td>\n",
       "      <td>Statistics</td>\n",
       "      <td>Female</td>\n",
       "      <td>45.0</td>\n",
       "      <td>5.0</td>\n",
       "      <td>...</td>\n",
       "      <td>2.0</td>\n",
       "      <td>1.0</td>\n",
       "      <td>3.0</td>\n",
       "      <td>0.0</td>\n",
       "      <td>26.0</td>\n",
       "      <td>12.0</td>\n",
       "      <td>1.0</td>\n",
       "      <td>3.000000</td>\n",
       "      <td>Single</td>\n",
       "      <td>22091.0</td>\n",
       "    </tr>\n",
       "    <tr>\n",
       "      <th>3</th>\n",
       "      <td>5110004.0</td>\n",
       "      <td>0.0</td>\n",
       "      <td>34.0</td>\n",
       "      <td>Yes</td>\n",
       "      <td>Sales</td>\n",
       "      <td>10.0</td>\n",
       "      <td>Statistics</td>\n",
       "      <td>Female</td>\n",
       "      <td>32.0</td>\n",
       "      <td>3.0</td>\n",
       "      <td>...</td>\n",
       "      <td>4.0</td>\n",
       "      <td>1.0</td>\n",
       "      <td>1.0</td>\n",
       "      <td>0.0</td>\n",
       "      <td>23.0</td>\n",
       "      <td>5.0</td>\n",
       "      <td>1.0</td>\n",
       "      <td>3.000000</td>\n",
       "      <td>Divorsed</td>\n",
       "      <td>20302.0</td>\n",
       "    </tr>\n",
       "    <tr>\n",
       "      <th>4</th>\n",
       "      <td>5110005.0</td>\n",
       "      <td>0.0</td>\n",
       "      <td>37.0</td>\n",
       "      <td>No</td>\n",
       "      <td>Analytics</td>\n",
       "      <td>27.0</td>\n",
       "      <td>Statistics</td>\n",
       "      <td>Female</td>\n",
       "      <td>49.0</td>\n",
       "      <td>3.0</td>\n",
       "      <td>...</td>\n",
       "      <td>4.0</td>\n",
       "      <td>1.0</td>\n",
       "      <td>8.0</td>\n",
       "      <td>0.0</td>\n",
       "      <td>21.0</td>\n",
       "      <td>12.0</td>\n",
       "      <td>1.0</td>\n",
       "      <td>9.000000</td>\n",
       "      <td>Divorsed</td>\n",
       "      <td>21674.0</td>\n",
       "    </tr>\n",
       "  </tbody>\n",
       "</table>\n",
       "<p>5 rows × 22 columns</p>\n",
       "</div>"
      ],
      "text/plain": [
       "   EmployeeID  Attrition   Age TravelProfile Department  HomeToWork  \\\n",
       "0   5110001.0        0.0  35.0        Rarely  Analytics         5.0   \n",
       "1   5110002.0        1.0  32.0           Yes      Sales         5.0   \n",
       "2   5110003.0        0.0  31.0        Rarely  Analytics         5.0   \n",
       "3   5110004.0        0.0  34.0           Yes      Sales        10.0   \n",
       "4   5110005.0        0.0  37.0            No  Analytics        27.0   \n",
       "\n",
       "  EducationField  Gender  HourlnWeek  Involvement  ...  JobSatisfaction ESOPs  \\\n",
       "0             CA    Male        69.0          1.0  ...              1.0   1.0   \n",
       "1     Statistics  Female        62.0          4.0  ...              2.0   0.0   \n",
       "2     Statistics  Female        45.0          5.0  ...              2.0   1.0   \n",
       "3     Statistics  Female        32.0          3.0  ...              4.0   1.0   \n",
       "4     Statistics  Female        49.0          3.0  ...              4.0   1.0   \n",
       "\n",
       "   NumCompaniesWorked  OverTime  SalaryHikelastYear  WorkExperience  \\\n",
       "0                 1.0       1.0                20.0             7.0   \n",
       "1                 8.0       0.0                20.0             4.0   \n",
       "2                 3.0       0.0                26.0            12.0   \n",
       "3                 1.0       0.0                23.0             5.0   \n",
       "4                 8.0       0.0                21.0            12.0   \n",
       "\n",
       "   LastPromotion  CurrentProfile  MaritalStatus  MonthlyIncome  \n",
       "0            2.0        4.385295              M        18932.0  \n",
       "1            1.0        4.385295         Single        18785.0  \n",
       "2            1.0        3.000000         Single        22091.0  \n",
       "3            1.0        3.000000       Divorsed        20302.0  \n",
       "4            1.0        9.000000       Divorsed        21674.0  \n",
       "\n",
       "[5 rows x 22 columns]"
      ]
     },
     "execution_count": 43,
     "metadata": {},
     "output_type": "execute_result"
    }
   ],
   "source": [
    "df.head()"
   ]
  },
  {
   "cell_type": "code",
   "execution_count": 44,
   "id": "2ac66213",
   "metadata": {},
   "outputs": [],
   "source": [
    "df.drop('EmployeeID', axis = 1, inplace=True)"
   ]
  },
  {
   "cell_type": "code",
   "execution_count": 45,
   "id": "cb7a5c33",
   "metadata": {},
   "outputs": [],
   "source": [
    "df_num = df.select_dtypes(exclude='object')\n",
    "df_cat = df.select_dtypes(include='object')"
   ]
  },
  {
   "cell_type": "code",
   "execution_count": 46,
   "id": "0dbf8549",
   "metadata": {},
   "outputs": [],
   "source": [
    "y = df_num['Attrition']\n",
    "df_num.drop('Attrition',axis = 1, inplace=True)"
   ]
  },
  {
   "cell_type": "code",
   "execution_count": 47,
   "id": "14dfb2f3",
   "metadata": {},
   "outputs": [
    {
     "data": {
      "image/png": "[encoded data removed]",
      "text/plain": [
       "<Figure size 432x288 with 1 Axes>"
      ]
     },
     "metadata": {
      "needs_background": "light"
     },
     "output_type": "display_data"
    },
    {
     "data": {
      "image/png": "[encoded data removed]",
      "text/plain": [
       "<Figure size 432x288 with 1 Axes>"
      ]
     },
     "metadata": {
      "needs_background": "light"
     },
     "output_type": "display_data"
    },
    {
     "data": {
      "image/png": "[encoded data removed]",
      "text/plain": [
       "<Figure size 432x288 with 1 Axes>"
      ]
     },
     "metadata": {
      "needs_background": "light"
     },
     "output_type": "display_data"
    },
    {
     "data": {
      "image/png": "[encoded data removed]",
      "text/plain": [
       "<Figure size 432x288 with 1 Axes>"
      ]
     },
     "metadata": {
      "needs_background": "light"
     },
     "output_type": "display_data"
    },
    {
     "data": {
      "image/png": "[encoded data removed]",
      "text/plain": [
       "<Figure size 432x288 with 1 Axes>"
      ]
     },
     "metadata": {
      "needs_background": "light"
     },
     "output_type": "display_data"
    },
    {
     "data": {
      "image/png": "[encoded data removed]",
      "text/plain": [
       "<Figure size 432x288 with 1 Axes>"
      ]
     },
     "metadata": {
      "needs_background": "light"
     },
     "output_type": "display_data"
    },
    {
     "data": {
      "image/png": "[encoded data removed]",
      "text/plain": [
       "<Figure size 432x288 with 1 Axes>"
      ]
     },
     "metadata": {
      "needs_background": "light"
     },
     "output_type": "display_data"
    },
    {
     "data": {
      "image/png": "[encoded data removed]",
      "text/plain": [
       "<Figure size 432x288 with 1 Axes>"
      ]
     },
     "metadata": {
      "needs_background": "light"
     },
     "output_type": "display_data"
    },
    {
     "data": {
      "image/png": "[encoded data removed]",
      "text/plain": [
       "<Figure size 432x288 with 1 Axes>"
      ]
     },
     "metadata": {
      "needs_background": "light"
     },
     "output_type": "display_data"
    },
    {
     "data": {
      "image/png": "[encoded data removed]",
      "text/plain": [
       "<Figure size 432x288 with 1 Axes>"
      ]
     },
     "metadata": {
      "needs_background": "light"
     },
     "output_type": "display_data"
    },
    {
     "data": {
      "image/png": "[encoded data removed]",
      "text/plain": [
       "<Figure size 432x288 with 1 Axes>"
      ]
     },
     "metadata": {
      "needs_background": "light"
     },
     "output_type": "display_data"
    },
    {
     "data": {
      "image/png": "[encoded data removed]",
      "text/plain": [
       "<Figure size 432x288 with 1 Axes>"
      ]
     },
     "metadata": {
      "needs_background": "light"
     },
     "output_type": "display_data"
    },
    {
     "data": {
      "image/png": "[encoded data removed]",
      "text/plain": [
       "<Figure size 432x288 with 1 Axes>"
      ]
     },
     "metadata": {
      "needs_background": "light"
     },
     "output_type": "display_data"
    },
    {
     "data": {
      "image/png": "[encoded data removed]",
      "text/plain": [
       "<Figure size 432x288 with 1 Axes>"
      ]
     },
     "metadata": {
      "needs_background": "light"
     },
     "output_type": "display_data"
    }
   ],
   "source": [
    "for i in df_num.columns:\n",
    "    sns.boxplot(df_num[i])\n",
    "    plt.show()"
   ]
  },
  {
   "cell_type": "code",
   "execution_count": 48,
   "id": "1f84f77a",
   "metadata": {},
   "outputs": [],
   "source": [
    "# CApping the Outlier / Winzoriation\n",
    "for i in df_num.columns:\n",
    "    q1=df_num[i].quantile(0.25)\n",
    "    q3=df_num[i].quantile(0.75)\n",
    "    iqr=q3-q1\n",
    "    ub=q3+1.5*iqr\n",
    "    lb=q1-1.5*iqr\n",
    "    uc=df_num[i].quantile(0.99)\n",
    "    lc=df_num[i].quantile(0.01)\n",
    "    for ind1 in df_num[i].index:\n",
    "        if df_num.loc[ind1,i]>ub:\n",
    "            df_num.loc[ind1,i]=uc\n",
    "        if df_num.loc[ind1,i]<lb:\n",
    "            df_num.loc[ind1,i]=lc"
   ]
  },
  {
   "cell_type": "code",
   "execution_count": 49,
   "id": "d5689a71",
   "metadata": {},
   "outputs": [
    {
     "data": {
      "image/png": "[encoded data removed]",
      "text/plain": [
       "<Figure size 432x288 with 1 Axes>"
      ]
     },
     "metadata": {
      "needs_background": "light"
     },
     "output_type": "display_data"
    },
    {
     "data": {
      "image/png": "[encoded data removed]",
      "text/plain": [
       "<Figure size 432x288 with 1 Axes>"
      ]
     },
     "metadata": {
      "needs_background": "light"
     },
     "output_type": "display_data"
    },
    {
     "data": {
      "image/png": "[encoded data removed]",
      "text/plain": [
       "<Figure size 432x288 with 1 Axes>"
      ]
     },
     "metadata": {
      "needs_background": "light"
     },
     "output_type": "display_data"
    },
    {
     "data": {
      "image/png": "[encoded data removed]",
      "text/plain": [
       "<Figure size 432x288 with 1 Axes>"
      ]
     },
     "metadata": {
      "needs_background": "light"
     },
     "output_type": "display_data"
    },
    {
     "data": {
      "image/png": "[encoded data removed]",
      "text/plain": [
       "<Figure size 432x288 with 1 Axes>"
      ]
     },
     "metadata": {
      "needs_background": "light"
     },
     "output_type": "display_data"
    },
    {
     "data": {
      "image/png": "[encoded data removed]",
      "text/plain": [
       "<Figure size 432x288 with 1 Axes>"
      ]
     },
     "metadata": {
      "needs_background": "light"
     },
     "output_type": "display_data"
    },
    {
     "data": {
      "image/png": "[encoded data removed]",
      "text/plain": [
       "<Figure size 432x288 with 1 Axes>"
      ]
     },
     "metadata": {
      "needs_background": "light"
     },
     "output_type": "display_data"
    },
    {
     "data": {
      "image/png": "[encoded data removed]",
      "text/plain": [
       "<Figure size 432x288 with 1 Axes>"
      ]
     },
     "metadata": {
      "needs_background": "light"
     },
     "output_type": "display_data"
    },
    {
     "data": {
      "image/png": "[encoded data removed]",
      "text/plain": [
       "<Figure size 432x288 with 1 Axes>"
      ]
     },
     "metadata": {
      "needs_background": "light"
     },
     "output_type": "display_data"
    },
    {
     "data": {
      "image/png": "[encoded data removed]",
      "text/plain": [
       "<Figure size 432x288 with 1 Axes>"
      ]
     },
     "metadata": {
      "needs_background": "light"
     },
     "output_type": "display_data"
    },
    {
     "data": {
      "image/png": "[encoded data removed]",
      "text/plain": [
       "<Figure size 432x288 with 1 Axes>"
      ]
     },
     "metadata": {
      "needs_background": "light"
     },
     "output_type": "display_data"
    },
    {
     "data": {
      "image/png": "[encoded data removed]",
      "text/plain": [
       "<Figure size 432x288 with 1 Axes>"
      ]
     },
     "metadata": {
      "needs_background": "light"
     },
     "output_type": "display_data"
    },
    {
     "data": {
      "image/png": "[encoded data removed]",
      "text/plain": [
       "<Figure size 432x288 with 1 Axes>"
      ]
     },
     "metadata": {
      "needs_background": "light"
     },
     "output_type": "display_data"
    },
    {
     "data": {
      "image/png": "[encoded data removed]",
      "text/plain": [
       "<Figure size 432x288 with 1 Axes>"
      ]
     },
     "metadata": {
      "needs_background": "light"
     },
     "output_type": "display_data"
    }
   ],
   "source": [
    "for i in df_num.columns:\n",
    "    sns.boxplot(df_num[i])\n",
    "    plt.show()"
   ]
  },
  {
   "cell_type": "code",
   "execution_count": 50,
   "id": "d6597f75",
   "metadata": {
    "scrolled": true
   },
   "outputs": [
    {
     "data": {
      "text/html": [
       "<div>\n",
       "<style scoped>\n",
       "    .dataframe tbody tr th:only-of-type {\n",
       "        vertical-align: middle;\n",
       "    }\n",
       "\n",
       "    .dataframe tbody tr th {\n",
       "        vertical-align: top;\n",
       "    }\n",
       "\n",
       "    .dataframe thead th {\n",
       "        text-align: right;\n",
       "    }\n",
       "</style>\n",
       "<table border=\"1\" class=\"dataframe\">\n",
       "  <thead>\n",
       "    <tr style=\"text-align: right;\">\n",
       "      <th></th>\n",
       "      <th>Age</th>\n",
       "      <th>HomeToWork</th>\n",
       "      <th>HourlnWeek</th>\n",
       "      <th>Involvement</th>\n",
       "      <th>WorkLifeBalance</th>\n",
       "      <th>JobSatisfaction</th>\n",
       "      <th>ESOPs</th>\n",
       "      <th>NumCompaniesWorked</th>\n",
       "      <th>OverTime</th>\n",
       "      <th>SalaryHikelastYear</th>\n",
       "      <th>WorkExperience</th>\n",
       "      <th>LastPromotion</th>\n",
       "      <th>CurrentProfile</th>\n",
       "      <th>MonthlyIncome</th>\n",
       "    </tr>\n",
       "  </thead>\n",
       "  <tbody>\n",
       "    <tr>\n",
       "      <th>0</th>\n",
       "      <td>35.0</td>\n",
       "      <td>5.000000</td>\n",
       "      <td>69.0</td>\n",
       "      <td>1.0</td>\n",
       "      <td>1.0</td>\n",
       "      <td>1.0</td>\n",
       "      <td>1.0</td>\n",
       "      <td>1.0</td>\n",
       "      <td>1.0</td>\n",
       "      <td>20.0</td>\n",
       "      <td>7.0</td>\n",
       "      <td>2.0</td>\n",
       "      <td>4.385295</td>\n",
       "      <td>18932.0</td>\n",
       "    </tr>\n",
       "    <tr>\n",
       "      <th>1</th>\n",
       "      <td>32.0</td>\n",
       "      <td>5.000000</td>\n",
       "      <td>62.0</td>\n",
       "      <td>4.0</td>\n",
       "      <td>3.0</td>\n",
       "      <td>2.0</td>\n",
       "      <td>0.0</td>\n",
       "      <td>8.0</td>\n",
       "      <td>0.0</td>\n",
       "      <td>20.0</td>\n",
       "      <td>4.0</td>\n",
       "      <td>1.0</td>\n",
       "      <td>4.385295</td>\n",
       "      <td>18785.0</td>\n",
       "    </tr>\n",
       "    <tr>\n",
       "      <th>2</th>\n",
       "      <td>31.0</td>\n",
       "      <td>5.000000</td>\n",
       "      <td>45.0</td>\n",
       "      <td>5.0</td>\n",
       "      <td>3.0</td>\n",
       "      <td>2.0</td>\n",
       "      <td>1.0</td>\n",
       "      <td>3.0</td>\n",
       "      <td>0.0</td>\n",
       "      <td>26.0</td>\n",
       "      <td>12.0</td>\n",
       "      <td>1.0</td>\n",
       "      <td>3.000000</td>\n",
       "      <td>22091.0</td>\n",
       "    </tr>\n",
       "    <tr>\n",
       "      <th>3</th>\n",
       "      <td>34.0</td>\n",
       "      <td>10.000000</td>\n",
       "      <td>32.0</td>\n",
       "      <td>3.0</td>\n",
       "      <td>2.0</td>\n",
       "      <td>4.0</td>\n",
       "      <td>1.0</td>\n",
       "      <td>1.0</td>\n",
       "      <td>0.0</td>\n",
       "      <td>23.0</td>\n",
       "      <td>5.0</td>\n",
       "      <td>1.0</td>\n",
       "      <td>3.000000</td>\n",
       "      <td>20302.0</td>\n",
       "    </tr>\n",
       "    <tr>\n",
       "      <th>4</th>\n",
       "      <td>37.0</td>\n",
       "      <td>27.000000</td>\n",
       "      <td>49.0</td>\n",
       "      <td>3.0</td>\n",
       "      <td>4.0</td>\n",
       "      <td>4.0</td>\n",
       "      <td>1.0</td>\n",
       "      <td>8.0</td>\n",
       "      <td>0.0</td>\n",
       "      <td>21.0</td>\n",
       "      <td>12.0</td>\n",
       "      <td>1.0</td>\n",
       "      <td>9.000000</td>\n",
       "      <td>21674.0</td>\n",
       "    </tr>\n",
       "    <tr>\n",
       "      <th>...</th>\n",
       "      <td>...</td>\n",
       "      <td>...</td>\n",
       "      <td>...</td>\n",
       "      <td>...</td>\n",
       "      <td>...</td>\n",
       "      <td>...</td>\n",
       "      <td>...</td>\n",
       "      <td>...</td>\n",
       "      <td>...</td>\n",
       "      <td>...</td>\n",
       "      <td>...</td>\n",
       "      <td>...</td>\n",
       "      <td>...</td>\n",
       "      <td>...</td>\n",
       "    </tr>\n",
       "    <tr>\n",
       "      <th>5175</th>\n",
       "      <td>36.0</td>\n",
       "      <td>13.000000</td>\n",
       "      <td>53.0</td>\n",
       "      <td>3.0</td>\n",
       "      <td>3.0</td>\n",
       "      <td>3.0</td>\n",
       "      <td>0.0</td>\n",
       "      <td>4.0</td>\n",
       "      <td>1.0</td>\n",
       "      <td>22.0</td>\n",
       "      <td>11.0</td>\n",
       "      <td>1.0</td>\n",
       "      <td>5.000000</td>\n",
       "      <td>22142.0</td>\n",
       "    </tr>\n",
       "    <tr>\n",
       "      <th>5176</th>\n",
       "      <td>33.0</td>\n",
       "      <td>9.000000</td>\n",
       "      <td>66.0</td>\n",
       "      <td>1.0</td>\n",
       "      <td>4.0</td>\n",
       "      <td>4.0</td>\n",
       "      <td>1.0</td>\n",
       "      <td>9.0</td>\n",
       "      <td>0.0</td>\n",
       "      <td>23.0</td>\n",
       "      <td>8.0</td>\n",
       "      <td>0.0</td>\n",
       "      <td>2.000000</td>\n",
       "      <td>17109.0</td>\n",
       "    </tr>\n",
       "    <tr>\n",
       "      <th>5177</th>\n",
       "      <td>29.0</td>\n",
       "      <td>11.107411</td>\n",
       "      <td>62.0</td>\n",
       "      <td>4.0</td>\n",
       "      <td>2.0</td>\n",
       "      <td>1.0</td>\n",
       "      <td>1.0</td>\n",
       "      <td>6.0</td>\n",
       "      <td>0.0</td>\n",
       "      <td>19.0</td>\n",
       "      <td>8.0</td>\n",
       "      <td>0.0</td>\n",
       "      <td>3.000000</td>\n",
       "      <td>17532.0</td>\n",
       "    </tr>\n",
       "    <tr>\n",
       "      <th>5178</th>\n",
       "      <td>26.0</td>\n",
       "      <td>26.000000</td>\n",
       "      <td>61.0</td>\n",
       "      <td>3.0</td>\n",
       "      <td>4.0</td>\n",
       "      <td>3.0</td>\n",
       "      <td>0.0</td>\n",
       "      <td>1.0</td>\n",
       "      <td>0.0</td>\n",
       "      <td>28.0</td>\n",
       "      <td>8.0</td>\n",
       "      <td>5.0</td>\n",
       "      <td>7.000000</td>\n",
       "      <td>17942.0</td>\n",
       "    </tr>\n",
       "    <tr>\n",
       "      <th>5179</th>\n",
       "      <td>33.0</td>\n",
       "      <td>13.000000</td>\n",
       "      <td>74.0</td>\n",
       "      <td>4.0</td>\n",
       "      <td>3.0</td>\n",
       "      <td>5.0</td>\n",
       "      <td>1.0</td>\n",
       "      <td>1.0</td>\n",
       "      <td>0.0</td>\n",
       "      <td>23.0</td>\n",
       "      <td>1.0</td>\n",
       "      <td>0.0</td>\n",
       "      <td>0.000000</td>\n",
       "      <td>17033.0</td>\n",
       "    </tr>\n",
       "  </tbody>\n",
       "</table>\n",
       "<p>5180 rows × 14 columns</p>\n",
       "</div>"
      ],
      "text/plain": [
       "       Age  HomeToWork  HourlnWeek  Involvement  WorkLifeBalance  \\\n",
       "0     35.0    5.000000        69.0          1.0              1.0   \n",
       "1     32.0    5.000000        62.0          4.0              3.0   \n",
       "2     31.0    5.000000        45.0          5.0              3.0   \n",
       "3     34.0   10.000000        32.0          3.0              2.0   \n",
       "4     37.0   27.000000        49.0          3.0              4.0   \n",
       "...    ...         ...         ...          ...              ...   \n",
       "5175  36.0   13.000000        53.0          3.0              3.0   \n",
       "5176  33.0    9.000000        66.0          1.0              4.0   \n",
       "5177  29.0   11.107411        62.0          4.0              2.0   \n",
       "5178  26.0   26.000000        61.0          3.0              4.0   \n",
       "5179  33.0   13.000000        74.0          4.0              3.0   \n",
       "\n",
       "      JobSatisfaction  ESOPs  NumCompaniesWorked  OverTime  \\\n",
       "0                 1.0    1.0                 1.0       1.0   \n",
       "1                 2.0    0.0                 8.0       0.0   \n",
       "2                 2.0    1.0                 3.0       0.0   \n",
       "3                 4.0    1.0                 1.0       0.0   \n",
       "4                 4.0    1.0                 8.0       0.0   \n",
       "...               ...    ...                 ...       ...   \n",
       "5175              3.0    0.0                 4.0       1.0   \n",
       "5176              4.0    1.0                 9.0       0.0   \n",
       "5177              1.0    1.0                 6.0       0.0   \n",
       "5178              3.0    0.0                 1.0       0.0   \n",
       "5179              5.0    1.0                 1.0       0.0   \n",
       "\n",
       "      SalaryHikelastYear  WorkExperience  LastPromotion  CurrentProfile  \\\n",
       "0                   20.0             7.0            2.0        4.385295   \n",
       "1                   20.0             4.0            1.0        4.385295   \n",
       "2                   26.0            12.0            1.0        3.000000   \n",
       "3                   23.0             5.0            1.0        3.000000   \n",
       "4                   21.0            12.0            1.0        9.000000   \n",
       "...                  ...             ...            ...             ...   \n",
       "5175                22.0            11.0            1.0        5.000000   \n",
       "5176                23.0             8.0            0.0        2.000000   \n",
       "5177                19.0             8.0            0.0        3.000000   \n",
       "5178                28.0             8.0            5.0        7.000000   \n",
       "5179                23.0             1.0            0.0        0.000000   \n",
       "\n",
       "      MonthlyIncome  \n",
       "0           18932.0  \n",
       "1           18785.0  \n",
       "2           22091.0  \n",
       "3           20302.0  \n",
       "4           21674.0  \n",
       "...             ...  \n",
       "5175        22142.0  \n",
       "5176        17109.0  \n",
       "5177        17532.0  \n",
       "5178        17942.0  \n",
       "5179        17033.0  \n",
       "\n",
       "[5180 rows x 14 columns]"
      ]
     },
     "execution_count": 50,
     "metadata": {},
     "output_type": "execute_result"
    }
   ],
   "source": [
    "df_num"
   ]
  },
  {
   "cell_type": "code",
   "execution_count": 51,
   "id": "ad153359",
   "metadata": {},
   "outputs": [
    {
     "data": {
      "text/html": [
       "<div>\n",
       "<style scoped>\n",
       "    .dataframe tbody tr th:only-of-type {\n",
       "        vertical-align: middle;\n",
       "    }\n",
       "\n",
       "    .dataframe tbody tr th {\n",
       "        vertical-align: top;\n",
       "    }\n",
       "\n",
       "    .dataframe thead th {\n",
       "        text-align: right;\n",
       "    }\n",
       "</style>\n",
       "<table border=\"1\" class=\"dataframe\">\n",
       "  <thead>\n",
       "    <tr style=\"text-align: right;\">\n",
       "      <th></th>\n",
       "      <th>TravelProfile</th>\n",
       "      <th>Department</th>\n",
       "      <th>EducationField</th>\n",
       "      <th>Gender</th>\n",
       "      <th>Designation</th>\n",
       "      <th>MaritalStatus</th>\n",
       "    </tr>\n",
       "  </thead>\n",
       "  <tbody>\n",
       "    <tr>\n",
       "      <th>0</th>\n",
       "      <td>Rarely</td>\n",
       "      <td>Analytics</td>\n",
       "      <td>CA</td>\n",
       "      <td>Male</td>\n",
       "      <td>Executive</td>\n",
       "      <td>M</td>\n",
       "    </tr>\n",
       "    <tr>\n",
       "      <th>1</th>\n",
       "      <td>Yes</td>\n",
       "      <td>Sales</td>\n",
       "      <td>Statistics</td>\n",
       "      <td>Female</td>\n",
       "      <td>Executive</td>\n",
       "      <td>Single</td>\n",
       "    </tr>\n",
       "    <tr>\n",
       "      <th>2</th>\n",
       "      <td>Rarely</td>\n",
       "      <td>Analytics</td>\n",
       "      <td>Statistics</td>\n",
       "      <td>Female</td>\n",
       "      <td>Manager</td>\n",
       "      <td>Single</td>\n",
       "    </tr>\n",
       "    <tr>\n",
       "      <th>3</th>\n",
       "      <td>Yes</td>\n",
       "      <td>Sales</td>\n",
       "      <td>Statistics</td>\n",
       "      <td>Female</td>\n",
       "      <td>Manager</td>\n",
       "      <td>Divorsed</td>\n",
       "    </tr>\n",
       "    <tr>\n",
       "      <th>4</th>\n",
       "      <td>No</td>\n",
       "      <td>Analytics</td>\n",
       "      <td>Statistics</td>\n",
       "      <td>Female</td>\n",
       "      <td>Manager</td>\n",
       "      <td>Divorsed</td>\n",
       "    </tr>\n",
       "    <tr>\n",
       "      <th>...</th>\n",
       "      <td>...</td>\n",
       "      <td>...</td>\n",
       "      <td>...</td>\n",
       "      <td>...</td>\n",
       "      <td>...</td>\n",
       "      <td>...</td>\n",
       "    </tr>\n",
       "    <tr>\n",
       "      <th>5175</th>\n",
       "      <td>Rarely</td>\n",
       "      <td>Analytics</td>\n",
       "      <td>CA</td>\n",
       "      <td>Female</td>\n",
       "      <td>Manager</td>\n",
       "      <td>Single</td>\n",
       "    </tr>\n",
       "    <tr>\n",
       "      <th>5176</th>\n",
       "      <td>Rarely</td>\n",
       "      <td>Marketing</td>\n",
       "      <td>CA</td>\n",
       "      <td>Female</td>\n",
       "      <td>Executive</td>\n",
       "      <td>Single</td>\n",
       "    </tr>\n",
       "    <tr>\n",
       "      <th>5177</th>\n",
       "      <td>Rarely</td>\n",
       "      <td>Analytics</td>\n",
       "      <td>CA</td>\n",
       "      <td>Female</td>\n",
       "      <td>Executive</td>\n",
       "      <td>M</td>\n",
       "    </tr>\n",
       "    <tr>\n",
       "      <th>5178</th>\n",
       "      <td>Rarely</td>\n",
       "      <td>Marketing</td>\n",
       "      <td>Statistics</td>\n",
       "      <td>Female</td>\n",
       "      <td>Executive</td>\n",
       "      <td>Divorsed</td>\n",
       "    </tr>\n",
       "    <tr>\n",
       "      <th>5179</th>\n",
       "      <td>Yes</td>\n",
       "      <td>Sales</td>\n",
       "      <td>Statistics</td>\n",
       "      <td>Male</td>\n",
       "      <td>Executive</td>\n",
       "      <td>Divorsed</td>\n",
       "    </tr>\n",
       "  </tbody>\n",
       "</table>\n",
       "<p>5180 rows × 6 columns</p>\n",
       "</div>"
      ],
      "text/plain": [
       "     TravelProfile Department EducationField  Gender Designation MaritalStatus\n",
       "0           Rarely  Analytics             CA    Male   Executive             M\n",
       "1              Yes      Sales     Statistics  Female   Executive        Single\n",
       "2           Rarely  Analytics     Statistics  Female     Manager        Single\n",
       "3              Yes      Sales     Statistics  Female     Manager      Divorsed\n",
       "4               No  Analytics     Statistics  Female     Manager      Divorsed\n",
       "...            ...        ...            ...     ...         ...           ...\n",
       "5175        Rarely  Analytics             CA  Female     Manager        Single\n",
       "5176        Rarely  Marketing             CA  Female   Executive        Single\n",
       "5177        Rarely  Analytics             CA  Female   Executive             M\n",
       "5178        Rarely  Marketing     Statistics  Female   Executive      Divorsed\n",
       "5179           Yes      Sales     Statistics    Male   Executive      Divorsed\n",
       "\n",
       "[5180 rows x 6 columns]"
      ]
     },
     "execution_count": 51,
     "metadata": {},
     "output_type": "execute_result"
    }
   ],
   "source": [
    "df_cat"
   ]
  },
  {
   "cell_type": "code",
   "execution_count": 52,
   "id": "8c0dbf74",
   "metadata": {},
   "outputs": [
    {
     "data": {
      "text/plain": [
       "array(['M', 'Single', 'Divorsed', 'Married'], dtype=object)"
      ]
     },
     "execution_count": 52,
     "metadata": {},
     "output_type": "execute_result"
    }
   ],
   "source": [
    "df.MaritalStatus.unique()"
   ]
  },
  {
   "cell_type": "code",
   "execution_count": 53,
   "id": "5f28cbb5",
   "metadata": {},
   "outputs": [],
   "source": [
    "df.MaritalStatus.replace('M','Married', inplace=True)"
   ]
  },
  {
   "cell_type": "code",
   "execution_count": 54,
   "id": "8d72c43f",
   "metadata": {},
   "outputs": [
    {
     "data": {
      "text/plain": [
       "array(['Married', 'Single', 'Divorsed'], dtype=object)"
      ]
     },
     "execution_count": 54,
     "metadata": {},
     "output_type": "execute_result"
    }
   ],
   "source": [
    "df.MaritalStatus.unique()"
   ]
  },
  {
   "cell_type": "code",
   "execution_count": 55,
   "id": "8c08b29d",
   "metadata": {},
   "outputs": [
    {
     "data": {
      "text/html": [
       "<div>\n",
       "<style scoped>\n",
       "    .dataframe tbody tr th:only-of-type {\n",
       "        vertical-align: middle;\n",
       "    }\n",
       "\n",
       "    .dataframe tbody tr th {\n",
       "        vertical-align: top;\n",
       "    }\n",
       "\n",
       "    .dataframe thead th {\n",
       "        text-align: right;\n",
       "    }\n",
       "</style>\n",
       "<table border=\"1\" class=\"dataframe\">\n",
       "  <thead>\n",
       "    <tr style=\"text-align: right;\">\n",
       "      <th></th>\n",
       "      <th>TravelProfile</th>\n",
       "      <th>Department</th>\n",
       "      <th>EducationField</th>\n",
       "      <th>Gender</th>\n",
       "      <th>Designation</th>\n",
       "      <th>MaritalStatus</th>\n",
       "    </tr>\n",
       "  </thead>\n",
       "  <tbody>\n",
       "    <tr>\n",
       "      <th>0</th>\n",
       "      <td>Rarely</td>\n",
       "      <td>Analytics</td>\n",
       "      <td>CA</td>\n",
       "      <td>Male</td>\n",
       "      <td>Executive</td>\n",
       "      <td>Married</td>\n",
       "    </tr>\n",
       "    <tr>\n",
       "      <th>1</th>\n",
       "      <td>Yes</td>\n",
       "      <td>Sales</td>\n",
       "      <td>Statistics</td>\n",
       "      <td>Female</td>\n",
       "      <td>Executive</td>\n",
       "      <td>Single</td>\n",
       "    </tr>\n",
       "    <tr>\n",
       "      <th>2</th>\n",
       "      <td>Rarely</td>\n",
       "      <td>Analytics</td>\n",
       "      <td>Statistics</td>\n",
       "      <td>Female</td>\n",
       "      <td>Manager</td>\n",
       "      <td>Single</td>\n",
       "    </tr>\n",
       "    <tr>\n",
       "      <th>3</th>\n",
       "      <td>Yes</td>\n",
       "      <td>Sales</td>\n",
       "      <td>Statistics</td>\n",
       "      <td>Female</td>\n",
       "      <td>Manager</td>\n",
       "      <td>Divorsed</td>\n",
       "    </tr>\n",
       "    <tr>\n",
       "      <th>4</th>\n",
       "      <td>No</td>\n",
       "      <td>Analytics</td>\n",
       "      <td>Statistics</td>\n",
       "      <td>Female</td>\n",
       "      <td>Manager</td>\n",
       "      <td>Divorsed</td>\n",
       "    </tr>\n",
       "    <tr>\n",
       "      <th>...</th>\n",
       "      <td>...</td>\n",
       "      <td>...</td>\n",
       "      <td>...</td>\n",
       "      <td>...</td>\n",
       "      <td>...</td>\n",
       "      <td>...</td>\n",
       "    </tr>\n",
       "    <tr>\n",
       "      <th>5175</th>\n",
       "      <td>Rarely</td>\n",
       "      <td>Analytics</td>\n",
       "      <td>CA</td>\n",
       "      <td>Female</td>\n",
       "      <td>Manager</td>\n",
       "      <td>Single</td>\n",
       "    </tr>\n",
       "    <tr>\n",
       "      <th>5176</th>\n",
       "      <td>Rarely</td>\n",
       "      <td>Marketing</td>\n",
       "      <td>CA</td>\n",
       "      <td>Female</td>\n",
       "      <td>Executive</td>\n",
       "      <td>Single</td>\n",
       "    </tr>\n",
       "    <tr>\n",
       "      <th>5177</th>\n",
       "      <td>Rarely</td>\n",
       "      <td>Analytics</td>\n",
       "      <td>CA</td>\n",
       "      <td>Female</td>\n",
       "      <td>Executive</td>\n",
       "      <td>Married</td>\n",
       "    </tr>\n",
       "    <tr>\n",
       "      <th>5178</th>\n",
       "      <td>Rarely</td>\n",
       "      <td>Marketing</td>\n",
       "      <td>Statistics</td>\n",
       "      <td>Female</td>\n",
       "      <td>Executive</td>\n",
       "      <td>Divorsed</td>\n",
       "    </tr>\n",
       "    <tr>\n",
       "      <th>5179</th>\n",
       "      <td>Yes</td>\n",
       "      <td>Sales</td>\n",
       "      <td>Statistics</td>\n",
       "      <td>Male</td>\n",
       "      <td>Executive</td>\n",
       "      <td>Divorsed</td>\n",
       "    </tr>\n",
       "  </tbody>\n",
       "</table>\n",
       "<p>5180 rows × 6 columns</p>\n",
       "</div>"
      ],
      "text/plain": [
       "     TravelProfile Department EducationField  Gender Designation MaritalStatus\n",
       "0           Rarely  Analytics             CA    Male   Executive       Married\n",
       "1              Yes      Sales     Statistics  Female   Executive        Single\n",
       "2           Rarely  Analytics     Statistics  Female     Manager        Single\n",
       "3              Yes      Sales     Statistics  Female     Manager      Divorsed\n",
       "4               No  Analytics     Statistics  Female     Manager      Divorsed\n",
       "...            ...        ...            ...     ...         ...           ...\n",
       "5175        Rarely  Analytics             CA  Female     Manager        Single\n",
       "5176        Rarely  Marketing             CA  Female   Executive        Single\n",
       "5177        Rarely  Analytics             CA  Female   Executive       Married\n",
       "5178        Rarely  Marketing     Statistics  Female   Executive      Divorsed\n",
       "5179           Yes      Sales     Statistics    Male   Executive      Divorsed\n",
       "\n",
       "[5180 rows x 6 columns]"
      ]
     },
     "execution_count": 55,
     "metadata": {},
     "output_type": "execute_result"
    }
   ],
   "source": [
    "df_cat"
   ]
  },
  {
   "cell_type": "code",
   "execution_count": 56,
   "id": "32991ff3",
   "metadata": {},
   "outputs": [],
   "source": [
    "from sklearn.preprocessing import OrdinalEncoder\n",
    "odetp=OrdinalEncoder(categories=[['No','Rarely','Yes']])\n",
    "df_cat['TravelProfile']=odetp.fit_transform(df_cat['TravelProfile'].values.reshape(-1,1))"
   ]
  },
  {
   "cell_type": "code",
   "execution_count": 57,
   "id": "22c752d3",
   "metadata": {},
   "outputs": [
    {
     "data": {
      "text/html": [
       "<div>\n",
       "<style scoped>\n",
       "    .dataframe tbody tr th:only-of-type {\n",
       "        vertical-align: middle;\n",
       "    }\n",
       "\n",
       "    .dataframe tbody tr th {\n",
       "        vertical-align: top;\n",
       "    }\n",
       "\n",
       "    .dataframe thead th {\n",
       "        text-align: right;\n",
       "    }\n",
       "</style>\n",
       "<table border=\"1\" class=\"dataframe\">\n",
       "  <thead>\n",
       "    <tr style=\"text-align: right;\">\n",
       "      <th></th>\n",
       "      <th>TravelProfile</th>\n",
       "      <th>Department</th>\n",
       "      <th>EducationField</th>\n",
       "      <th>Gender</th>\n",
       "      <th>Designation</th>\n",
       "      <th>MaritalStatus</th>\n",
       "    </tr>\n",
       "  </thead>\n",
       "  <tbody>\n",
       "    <tr>\n",
       "      <th>0</th>\n",
       "      <td>1.0</td>\n",
       "      <td>Analytics</td>\n",
       "      <td>CA</td>\n",
       "      <td>Male</td>\n",
       "      <td>Executive</td>\n",
       "      <td>Married</td>\n",
       "    </tr>\n",
       "    <tr>\n",
       "      <th>1</th>\n",
       "      <td>2.0</td>\n",
       "      <td>Sales</td>\n",
       "      <td>Statistics</td>\n",
       "      <td>Female</td>\n",
       "      <td>Executive</td>\n",
       "      <td>Single</td>\n",
       "    </tr>\n",
       "    <tr>\n",
       "      <th>2</th>\n",
       "      <td>1.0</td>\n",
       "      <td>Analytics</td>\n",
       "      <td>Statistics</td>\n",
       "      <td>Female</td>\n",
       "      <td>Manager</td>\n",
       "      <td>Single</td>\n",
       "    </tr>\n",
       "    <tr>\n",
       "      <th>3</th>\n",
       "      <td>2.0</td>\n",
       "      <td>Sales</td>\n",
       "      <td>Statistics</td>\n",
       "      <td>Female</td>\n",
       "      <td>Manager</td>\n",
       "      <td>Divorsed</td>\n",
       "    </tr>\n",
       "    <tr>\n",
       "      <th>4</th>\n",
       "      <td>0.0</td>\n",
       "      <td>Analytics</td>\n",
       "      <td>Statistics</td>\n",
       "      <td>Female</td>\n",
       "      <td>Manager</td>\n",
       "      <td>Divorsed</td>\n",
       "    </tr>\n",
       "    <tr>\n",
       "      <th>...</th>\n",
       "      <td>...</td>\n",
       "      <td>...</td>\n",
       "      <td>...</td>\n",
       "      <td>...</td>\n",
       "      <td>...</td>\n",
       "      <td>...</td>\n",
       "    </tr>\n",
       "    <tr>\n",
       "      <th>5175</th>\n",
       "      <td>1.0</td>\n",
       "      <td>Analytics</td>\n",
       "      <td>CA</td>\n",
       "      <td>Female</td>\n",
       "      <td>Manager</td>\n",
       "      <td>Single</td>\n",
       "    </tr>\n",
       "    <tr>\n",
       "      <th>5176</th>\n",
       "      <td>1.0</td>\n",
       "      <td>Marketing</td>\n",
       "      <td>CA</td>\n",
       "      <td>Female</td>\n",
       "      <td>Executive</td>\n",
       "      <td>Single</td>\n",
       "    </tr>\n",
       "    <tr>\n",
       "      <th>5177</th>\n",
       "      <td>1.0</td>\n",
       "      <td>Analytics</td>\n",
       "      <td>CA</td>\n",
       "      <td>Female</td>\n",
       "      <td>Executive</td>\n",
       "      <td>Married</td>\n",
       "    </tr>\n",
       "    <tr>\n",
       "      <th>5178</th>\n",
       "      <td>1.0</td>\n",
       "      <td>Marketing</td>\n",
       "      <td>Statistics</td>\n",
       "      <td>Female</td>\n",
       "      <td>Executive</td>\n",
       "      <td>Divorsed</td>\n",
       "    </tr>\n",
       "    <tr>\n",
       "      <th>5179</th>\n",
       "      <td>2.0</td>\n",
       "      <td>Sales</td>\n",
       "      <td>Statistics</td>\n",
       "      <td>Male</td>\n",
       "      <td>Executive</td>\n",
       "      <td>Divorsed</td>\n",
       "    </tr>\n",
       "  </tbody>\n",
       "</table>\n",
       "<p>5180 rows × 6 columns</p>\n",
       "</div>"
      ],
      "text/plain": [
       "      TravelProfile Department EducationField  Gender Designation  \\\n",
       "0               1.0  Analytics             CA    Male   Executive   \n",
       "1               2.0      Sales     Statistics  Female   Executive   \n",
       "2               1.0  Analytics     Statistics  Female     Manager   \n",
       "3               2.0      Sales     Statistics  Female     Manager   \n",
       "4               0.0  Analytics     Statistics  Female     Manager   \n",
       "...             ...        ...            ...     ...         ...   \n",
       "5175            1.0  Analytics             CA  Female     Manager   \n",
       "5176            1.0  Marketing             CA  Female   Executive   \n",
       "5177            1.0  Analytics             CA  Female   Executive   \n",
       "5178            1.0  Marketing     Statistics  Female   Executive   \n",
       "5179            2.0      Sales     Statistics    Male   Executive   \n",
       "\n",
       "     MaritalStatus  \n",
       "0          Married  \n",
       "1           Single  \n",
       "2           Single  \n",
       "3         Divorsed  \n",
       "4         Divorsed  \n",
       "...            ...  \n",
       "5175        Single  \n",
       "5176        Single  \n",
       "5177       Married  \n",
       "5178      Divorsed  \n",
       "5179      Divorsed  \n",
       "\n",
       "[5180 rows x 6 columns]"
      ]
     },
     "execution_count": 57,
     "metadata": {},
     "output_type": "execute_result"
    }
   ],
   "source": [
    "df_cat"
   ]
  },
  {
   "cell_type": "code",
   "execution_count": 58,
   "id": "fb254c34",
   "metadata": {},
   "outputs": [],
   "source": [
    "odedg=OrdinalEncoder(categories=[['Executive','Manager','Senior Manager','AVP','VP']])\n",
    "df_cat['Designation']=odedg.fit_transform(df_cat['Designation'].values.reshape(-1,1))"
   ]
  },
  {
   "cell_type": "code",
   "execution_count": 59,
   "id": "7f81cfb9",
   "metadata": {},
   "outputs": [
    {
     "data": {
      "text/html": [
       "<div>\n",
       "<style scoped>\n",
       "    .dataframe tbody tr th:only-of-type {\n",
       "        vertical-align: middle;\n",
       "    }\n",
       "\n",
       "    .dataframe tbody tr th {\n",
       "        vertical-align: top;\n",
       "    }\n",
       "\n",
       "    .dataframe thead th {\n",
       "        text-align: right;\n",
       "    }\n",
       "</style>\n",
       "<table border=\"1\" class=\"dataframe\">\n",
       "  <thead>\n",
       "    <tr style=\"text-align: right;\">\n",
       "      <th></th>\n",
       "      <th>TravelProfile</th>\n",
       "      <th>Department</th>\n",
       "      <th>EducationField</th>\n",
       "      <th>Gender</th>\n",
       "      <th>Designation</th>\n",
       "      <th>MaritalStatus</th>\n",
       "    </tr>\n",
       "  </thead>\n",
       "  <tbody>\n",
       "    <tr>\n",
       "      <th>0</th>\n",
       "      <td>1.0</td>\n",
       "      <td>Analytics</td>\n",
       "      <td>CA</td>\n",
       "      <td>Male</td>\n",
       "      <td>0.0</td>\n",
       "      <td>Married</td>\n",
       "    </tr>\n",
       "    <tr>\n",
       "      <th>1</th>\n",
       "      <td>2.0</td>\n",
       "      <td>Sales</td>\n",
       "      <td>Statistics</td>\n",
       "      <td>Female</td>\n",
       "      <td>0.0</td>\n",
       "      <td>Single</td>\n",
       "    </tr>\n",
       "    <tr>\n",
       "      <th>2</th>\n",
       "      <td>1.0</td>\n",
       "      <td>Analytics</td>\n",
       "      <td>Statistics</td>\n",
       "      <td>Female</td>\n",
       "      <td>1.0</td>\n",
       "      <td>Single</td>\n",
       "    </tr>\n",
       "    <tr>\n",
       "      <th>3</th>\n",
       "      <td>2.0</td>\n",
       "      <td>Sales</td>\n",
       "      <td>Statistics</td>\n",
       "      <td>Female</td>\n",
       "      <td>1.0</td>\n",
       "      <td>Divorsed</td>\n",
       "    </tr>\n",
       "    <tr>\n",
       "      <th>4</th>\n",
       "      <td>0.0</td>\n",
       "      <td>Analytics</td>\n",
       "      <td>Statistics</td>\n",
       "      <td>Female</td>\n",
       "      <td>1.0</td>\n",
       "      <td>Divorsed</td>\n",
       "    </tr>\n",
       "    <tr>\n",
       "      <th>...</th>\n",
       "      <td>...</td>\n",
       "      <td>...</td>\n",
       "      <td>...</td>\n",
       "      <td>...</td>\n",
       "      <td>...</td>\n",
       "      <td>...</td>\n",
       "    </tr>\n",
       "    <tr>\n",
       "      <th>5175</th>\n",
       "      <td>1.0</td>\n",
       "      <td>Analytics</td>\n",
       "      <td>CA</td>\n",
       "      <td>Female</td>\n",
       "      <td>1.0</td>\n",
       "      <td>Single</td>\n",
       "    </tr>\n",
       "    <tr>\n",
       "      <th>5176</th>\n",
       "      <td>1.0</td>\n",
       "      <td>Marketing</td>\n",
       "      <td>CA</td>\n",
       "      <td>Female</td>\n",
       "      <td>0.0</td>\n",
       "      <td>Single</td>\n",
       "    </tr>\n",
       "    <tr>\n",
       "      <th>5177</th>\n",
       "      <td>1.0</td>\n",
       "      <td>Analytics</td>\n",
       "      <td>CA</td>\n",
       "      <td>Female</td>\n",
       "      <td>0.0</td>\n",
       "      <td>Married</td>\n",
       "    </tr>\n",
       "    <tr>\n",
       "      <th>5178</th>\n",
       "      <td>1.0</td>\n",
       "      <td>Marketing</td>\n",
       "      <td>Statistics</td>\n",
       "      <td>Female</td>\n",
       "      <td>0.0</td>\n",
       "      <td>Divorsed</td>\n",
       "    </tr>\n",
       "    <tr>\n",
       "      <th>5179</th>\n",
       "      <td>2.0</td>\n",
       "      <td>Sales</td>\n",
       "      <td>Statistics</td>\n",
       "      <td>Male</td>\n",
       "      <td>0.0</td>\n",
       "      <td>Divorsed</td>\n",
       "    </tr>\n",
       "  </tbody>\n",
       "</table>\n",
       "<p>5180 rows × 6 columns</p>\n",
       "</div>"
      ],
      "text/plain": [
       "      TravelProfile Department EducationField  Gender  Designation  \\\n",
       "0               1.0  Analytics             CA    Male          0.0   \n",
       "1               2.0      Sales     Statistics  Female          0.0   \n",
       "2               1.0  Analytics     Statistics  Female          1.0   \n",
       "3               2.0      Sales     Statistics  Female          1.0   \n",
       "4               0.0  Analytics     Statistics  Female          1.0   \n",
       "...             ...        ...            ...     ...          ...   \n",
       "5175            1.0  Analytics             CA  Female          1.0   \n",
       "5176            1.0  Marketing             CA  Female          0.0   \n",
       "5177            1.0  Analytics             CA  Female          0.0   \n",
       "5178            1.0  Marketing     Statistics  Female          0.0   \n",
       "5179            2.0      Sales     Statistics    Male          0.0   \n",
       "\n",
       "     MaritalStatus  \n",
       "0          Married  \n",
       "1           Single  \n",
       "2           Single  \n",
       "3         Divorsed  \n",
       "4         Divorsed  \n",
       "...            ...  \n",
       "5175        Single  \n",
       "5176        Single  \n",
       "5177       Married  \n",
       "5178      Divorsed  \n",
       "5179      Divorsed  \n",
       "\n",
       "[5180 rows x 6 columns]"
      ]
     },
     "execution_count": 59,
     "metadata": {},
     "output_type": "execute_result"
    }
   ],
   "source": [
    "df_cat"
   ]
  },
  {
   "cell_type": "code",
   "execution_count": 60,
   "id": "59489259",
   "metadata": {},
   "outputs": [],
   "source": [
    "from sklearn.preprocessing import LabelEncoder\n",
    "ledp=LabelEncoder()\n",
    "leef=LabelEncoder()\n",
    "legn=LabelEncoder()\n",
    "lems=LabelEncoder()\n",
    "df_cat['Department']=ledp.fit_transform(df_cat['Department'])\n",
    "df_cat['EducationField']=leef.fit_transform(df_cat['EducationField'])\n",
    "df_cat['Gender']=legn.fit_transform(df_cat['Gender'])\n",
    "df_cat['MaritalStatus']=lems.fit_transform(df_cat['MaritalStatus'])"
   ]
  },
  {
   "cell_type": "code",
   "execution_count": 61,
   "id": "209cb8b9",
   "metadata": {},
   "outputs": [
    {
     "data": {
      "text/html": [
       "<div>\n",
       "<style scoped>\n",
       "    .dataframe tbody tr th:only-of-type {\n",
       "        vertical-align: middle;\n",
       "    }\n",
       "\n",
       "    .dataframe tbody tr th {\n",
       "        vertical-align: top;\n",
       "    }\n",
       "\n",
       "    .dataframe thead th {\n",
       "        text-align: right;\n",
       "    }\n",
       "</style>\n",
       "<table border=\"1\" class=\"dataframe\">\n",
       "  <thead>\n",
       "    <tr style=\"text-align: right;\">\n",
       "      <th></th>\n",
       "      <th>TravelProfile</th>\n",
       "      <th>Department</th>\n",
       "      <th>EducationField</th>\n",
       "      <th>Gender</th>\n",
       "      <th>Designation</th>\n",
       "      <th>MaritalStatus</th>\n",
       "    </tr>\n",
       "  </thead>\n",
       "  <tbody>\n",
       "    <tr>\n",
       "      <th>0</th>\n",
       "      <td>1.0</td>\n",
       "      <td>0</td>\n",
       "      <td>0</td>\n",
       "      <td>1</td>\n",
       "      <td>0.0</td>\n",
       "      <td>1</td>\n",
       "    </tr>\n",
       "    <tr>\n",
       "      <th>1</th>\n",
       "      <td>2.0</td>\n",
       "      <td>2</td>\n",
       "      <td>5</td>\n",
       "      <td>0</td>\n",
       "      <td>0.0</td>\n",
       "      <td>2</td>\n",
       "    </tr>\n",
       "    <tr>\n",
       "      <th>2</th>\n",
       "      <td>1.0</td>\n",
       "      <td>0</td>\n",
       "      <td>5</td>\n",
       "      <td>0</td>\n",
       "      <td>1.0</td>\n",
       "      <td>2</td>\n",
       "    </tr>\n",
       "    <tr>\n",
       "      <th>3</th>\n",
       "      <td>2.0</td>\n",
       "      <td>2</td>\n",
       "      <td>5</td>\n",
       "      <td>0</td>\n",
       "      <td>1.0</td>\n",
       "      <td>0</td>\n",
       "    </tr>\n",
       "    <tr>\n",
       "      <th>4</th>\n",
       "      <td>0.0</td>\n",
       "      <td>0</td>\n",
       "      <td>5</td>\n",
       "      <td>0</td>\n",
       "      <td>1.0</td>\n",
       "      <td>0</td>\n",
       "    </tr>\n",
       "    <tr>\n",
       "      <th>...</th>\n",
       "      <td>...</td>\n",
       "      <td>...</td>\n",
       "      <td>...</td>\n",
       "      <td>...</td>\n",
       "      <td>...</td>\n",
       "      <td>...</td>\n",
       "    </tr>\n",
       "    <tr>\n",
       "      <th>5175</th>\n",
       "      <td>1.0</td>\n",
       "      <td>0</td>\n",
       "      <td>0</td>\n",
       "      <td>0</td>\n",
       "      <td>1.0</td>\n",
       "      <td>2</td>\n",
       "    </tr>\n",
       "    <tr>\n",
       "      <th>5176</th>\n",
       "      <td>1.0</td>\n",
       "      <td>1</td>\n",
       "      <td>0</td>\n",
       "      <td>0</td>\n",
       "      <td>0.0</td>\n",
       "      <td>2</td>\n",
       "    </tr>\n",
       "    <tr>\n",
       "      <th>5177</th>\n",
       "      <td>1.0</td>\n",
       "      <td>0</td>\n",
       "      <td>0</td>\n",
       "      <td>0</td>\n",
       "      <td>0.0</td>\n",
       "      <td>1</td>\n",
       "    </tr>\n",
       "    <tr>\n",
       "      <th>5178</th>\n",
       "      <td>1.0</td>\n",
       "      <td>1</td>\n",
       "      <td>5</td>\n",
       "      <td>0</td>\n",
       "      <td>0.0</td>\n",
       "      <td>0</td>\n",
       "    </tr>\n",
       "    <tr>\n",
       "      <th>5179</th>\n",
       "      <td>2.0</td>\n",
       "      <td>2</td>\n",
       "      <td>5</td>\n",
       "      <td>1</td>\n",
       "      <td>0.0</td>\n",
       "      <td>0</td>\n",
       "    </tr>\n",
       "  </tbody>\n",
       "</table>\n",
       "<p>5180 rows × 6 columns</p>\n",
       "</div>"
      ],
      "text/plain": [
       "      TravelProfile  Department  EducationField  Gender  Designation  \\\n",
       "0               1.0           0               0       1          0.0   \n",
       "1               2.0           2               5       0          0.0   \n",
       "2               1.0           0               5       0          1.0   \n",
       "3               2.0           2               5       0          1.0   \n",
       "4               0.0           0               5       0          1.0   \n",
       "...             ...         ...             ...     ...          ...   \n",
       "5175            1.0           0               0       0          1.0   \n",
       "5176            1.0           1               0       0          0.0   \n",
       "5177            1.0           0               0       0          0.0   \n",
       "5178            1.0           1               5       0          0.0   \n",
       "5179            2.0           2               5       1          0.0   \n",
       "\n",
       "      MaritalStatus  \n",
       "0                 1  \n",
       "1                 2  \n",
       "2                 2  \n",
       "3                 0  \n",
       "4                 0  \n",
       "...             ...  \n",
       "5175              2  \n",
       "5176              2  \n",
       "5177              1  \n",
       "5178              0  \n",
       "5179              0  \n",
       "\n",
       "[5180 rows x 6 columns]"
      ]
     },
     "execution_count": 61,
     "metadata": {},
     "output_type": "execute_result"
    }
   ],
   "source": [
    "df_cat"
   ]
  },
  {
   "cell_type": "code",
   "execution_count": 62,
   "id": "ab874a60",
   "metadata": {},
   "outputs": [],
   "source": [
    "x = pd.concat([df_num, df_cat],axis = 1)"
   ]
  },
  {
   "cell_type": "code",
   "execution_count": 63,
   "id": "65b71dc8",
   "metadata": {},
   "outputs": [
    {
     "data": {
      "text/html": [
       "<div>\n",
       "<style scoped>\n",
       "    .dataframe tbody tr th:only-of-type {\n",
       "        vertical-align: middle;\n",
       "    }\n",
       "\n",
       "    .dataframe tbody tr th {\n",
       "        vertical-align: top;\n",
       "    }\n",
       "\n",
       "    .dataframe thead th {\n",
       "        text-align: right;\n",
       "    }\n",
       "</style>\n",
       "<table border=\"1\" class=\"dataframe\">\n",
       "  <thead>\n",
       "    <tr style=\"text-align: right;\">\n",
       "      <th></th>\n",
       "      <th>Age</th>\n",
       "      <th>HomeToWork</th>\n",
       "      <th>HourlnWeek</th>\n",
       "      <th>Involvement</th>\n",
       "      <th>WorkLifeBalance</th>\n",
       "      <th>JobSatisfaction</th>\n",
       "      <th>ESOPs</th>\n",
       "      <th>NumCompaniesWorked</th>\n",
       "      <th>OverTime</th>\n",
       "      <th>SalaryHikelastYear</th>\n",
       "      <th>WorkExperience</th>\n",
       "      <th>LastPromotion</th>\n",
       "      <th>CurrentProfile</th>\n",
       "      <th>MonthlyIncome</th>\n",
       "      <th>TravelProfile</th>\n",
       "      <th>Department</th>\n",
       "      <th>EducationField</th>\n",
       "      <th>Gender</th>\n",
       "      <th>Designation</th>\n",
       "      <th>MaritalStatus</th>\n",
       "    </tr>\n",
       "  </thead>\n",
       "  <tbody>\n",
       "    <tr>\n",
       "      <th>0</th>\n",
       "      <td>35.0</td>\n",
       "      <td>5.0</td>\n",
       "      <td>69.0</td>\n",
       "      <td>1.0</td>\n",
       "      <td>1.0</td>\n",
       "      <td>1.0</td>\n",
       "      <td>1.0</td>\n",
       "      <td>1.0</td>\n",
       "      <td>1.0</td>\n",
       "      <td>20.0</td>\n",
       "      <td>7.0</td>\n",
       "      <td>2.0</td>\n",
       "      <td>4.385295</td>\n",
       "      <td>18932.0</td>\n",
       "      <td>1.0</td>\n",
       "      <td>0</td>\n",
       "      <td>0</td>\n",
       "      <td>1</td>\n",
       "      <td>0.0</td>\n",
       "      <td>1</td>\n",
       "    </tr>\n",
       "    <tr>\n",
       "      <th>1</th>\n",
       "      <td>32.0</td>\n",
       "      <td>5.0</td>\n",
       "      <td>62.0</td>\n",
       "      <td>4.0</td>\n",
       "      <td>3.0</td>\n",
       "      <td>2.0</td>\n",
       "      <td>0.0</td>\n",
       "      <td>8.0</td>\n",
       "      <td>0.0</td>\n",
       "      <td>20.0</td>\n",
       "      <td>4.0</td>\n",
       "      <td>1.0</td>\n",
       "      <td>4.385295</td>\n",
       "      <td>18785.0</td>\n",
       "      <td>2.0</td>\n",
       "      <td>2</td>\n",
       "      <td>5</td>\n",
       "      <td>0</td>\n",
       "      <td>0.0</td>\n",
       "      <td>2</td>\n",
       "    </tr>\n",
       "    <tr>\n",
       "      <th>2</th>\n",
       "      <td>31.0</td>\n",
       "      <td>5.0</td>\n",
       "      <td>45.0</td>\n",
       "      <td>5.0</td>\n",
       "      <td>3.0</td>\n",
       "      <td>2.0</td>\n",
       "      <td>1.0</td>\n",
       "      <td>3.0</td>\n",
       "      <td>0.0</td>\n",
       "      <td>26.0</td>\n",
       "      <td>12.0</td>\n",
       "      <td>1.0</td>\n",
       "      <td>3.000000</td>\n",
       "      <td>22091.0</td>\n",
       "      <td>1.0</td>\n",
       "      <td>0</td>\n",
       "      <td>5</td>\n",
       "      <td>0</td>\n",
       "      <td>1.0</td>\n",
       "      <td>2</td>\n",
       "    </tr>\n",
       "    <tr>\n",
       "      <th>3</th>\n",
       "      <td>34.0</td>\n",
       "      <td>10.0</td>\n",
       "      <td>32.0</td>\n",
       "      <td>3.0</td>\n",
       "      <td>2.0</td>\n",
       "      <td>4.0</td>\n",
       "      <td>1.0</td>\n",
       "      <td>1.0</td>\n",
       "      <td>0.0</td>\n",
       "      <td>23.0</td>\n",
       "      <td>5.0</td>\n",
       "      <td>1.0</td>\n",
       "      <td>3.000000</td>\n",
       "      <td>20302.0</td>\n",
       "      <td>2.0</td>\n",
       "      <td>2</td>\n",
       "      <td>5</td>\n",
       "      <td>0</td>\n",
       "      <td>1.0</td>\n",
       "      <td>0</td>\n",
       "    </tr>\n",
       "    <tr>\n",
       "      <th>4</th>\n",
       "      <td>37.0</td>\n",
       "      <td>27.0</td>\n",
       "      <td>49.0</td>\n",
       "      <td>3.0</td>\n",
       "      <td>4.0</td>\n",
       "      <td>4.0</td>\n",
       "      <td>1.0</td>\n",
       "      <td>8.0</td>\n",
       "      <td>0.0</td>\n",
       "      <td>21.0</td>\n",
       "      <td>12.0</td>\n",
       "      <td>1.0</td>\n",
       "      <td>9.000000</td>\n",
       "      <td>21674.0</td>\n",
       "      <td>0.0</td>\n",
       "      <td>0</td>\n",
       "      <td>5</td>\n",
       "      <td>0</td>\n",
       "      <td>1.0</td>\n",
       "      <td>0</td>\n",
       "    </tr>\n",
       "  </tbody>\n",
       "</table>\n",
       "</div>"
      ],
      "text/plain": [
       "    Age  HomeToWork  HourlnWeek  Involvement  WorkLifeBalance  \\\n",
       "0  35.0         5.0        69.0          1.0              1.0   \n",
       "1  32.0         5.0        62.0          4.0              3.0   \n",
       "2  31.0         5.0        45.0          5.0              3.0   \n",
       "3  34.0        10.0        32.0          3.0              2.0   \n",
       "4  37.0        27.0        49.0          3.0              4.0   \n",
       "\n",
       "   JobSatisfaction  ESOPs  NumCompaniesWorked  OverTime  SalaryHikelastYear  \\\n",
       "0              1.0    1.0                 1.0       1.0                20.0   \n",
       "1              2.0    0.0                 8.0       0.0                20.0   \n",
       "2              2.0    1.0                 3.0       0.0                26.0   \n",
       "3              4.0    1.0                 1.0       0.0                23.0   \n",
       "4              4.0    1.0                 8.0       0.0                21.0   \n",
       "\n",
       "   WorkExperience  LastPromotion  CurrentProfile  MonthlyIncome  \\\n",
       "0             7.0            2.0        4.385295        18932.0   \n",
       "1             4.0            1.0        4.385295        18785.0   \n",
       "2            12.0            1.0        3.000000        22091.0   \n",
       "3             5.0            1.0        3.000000        20302.0   \n",
       "4            12.0            1.0        9.000000        21674.0   \n",
       "\n",
       "   TravelProfile  Department  EducationField  Gender  Designation  \\\n",
       "0            1.0           0               0       1          0.0   \n",
       "1            2.0           2               5       0          0.0   \n",
       "2            1.0           0               5       0          1.0   \n",
       "3            2.0           2               5       0          1.0   \n",
       "4            0.0           0               5       0          1.0   \n",
       "\n",
       "   MaritalStatus  \n",
       "0              1  \n",
       "1              2  \n",
       "2              2  \n",
       "3              0  \n",
       "4              0  "
      ]
     },
     "execution_count": 63,
     "metadata": {},
     "output_type": "execute_result"
    }
   ],
   "source": [
    "x.head()"
   ]
  },
  {
   "cell_type": "code",
   "execution_count": 64,
   "id": "2d5f628e",
   "metadata": {},
   "outputs": [
    {
     "data": {
      "text/plain": [
       "0       0.0\n",
       "1       1.0\n",
       "2       0.0\n",
       "3       0.0\n",
       "4       0.0\n",
       "       ... \n",
       "5175    0.0\n",
       "5176    0.0\n",
       "5177    0.0\n",
       "5178    0.0\n",
       "5179    1.0\n",
       "Name: Attrition, Length: 5180, dtype: float64"
      ]
     },
     "execution_count": 64,
     "metadata": {},
     "output_type": "execute_result"
    }
   ],
   "source": [
    "y"
   ]
  },
  {
   "cell_type": "code",
   "execution_count": 122,
   "id": "91af7ee6",
   "metadata": {},
   "outputs": [],
   "source": [
    "#from sklearn.linear_model import LogisticRegression\n",
    "#logreg = LogisticRegression(solver='lbfgs')\n",
    "\n",
    "from sklearn.ensemble import RandomForestClassifier\n",
    "rf = RandomForestClassifier(n_estimators = 100, random_state = 0)\n",
    "model = rf.fit(x, y)"
   ]
  },
  {
   "cell_type": "code",
   "execution_count": 66,
   "id": "dec22f2c",
   "metadata": {},
   "outputs": [],
   "source": [
    "#logreg_model = logreg.fit(x, y)"
   ]
  },
  {
   "cell_type": "code",
   "execution_count": 67,
   "id": "4fe2f43e",
   "metadata": {},
   "outputs": [],
   "source": [
    "test = pd.read_csv('Test_Dataset.csv')"
   ]
  },
  {
   "cell_type": "code",
   "execution_count": 68,
   "id": "862269ed",
   "metadata": {},
   "outputs": [
    {
     "data": {
      "text/html": [
       "<div>\n",
       "<style scoped>\n",
       "    .dataframe tbody tr th:only-of-type {\n",
       "        vertical-align: middle;\n",
       "    }\n",
       "\n",
       "    .dataframe tbody tr th {\n",
       "        vertical-align: top;\n",
       "    }\n",
       "\n",
       "    .dataframe thead th {\n",
       "        text-align: right;\n",
       "    }\n",
       "</style>\n",
       "<table border=\"1\" class=\"dataframe\">\n",
       "  <thead>\n",
       "    <tr style=\"text-align: right;\">\n",
       "      <th></th>\n",
       "      <th>EmployeeID</th>\n",
       "      <th>Age</th>\n",
       "      <th>TravelProfile</th>\n",
       "      <th>Department</th>\n",
       "      <th>HomeToWork</th>\n",
       "      <th>EducationField</th>\n",
       "      <th>Gender</th>\n",
       "      <th>HourlnWeek</th>\n",
       "      <th>Involvement</th>\n",
       "      <th>WorkLifeBalance</th>\n",
       "      <th>...</th>\n",
       "      <th>JobSatisfaction</th>\n",
       "      <th>ESOPs</th>\n",
       "      <th>NumCompaniesWorked</th>\n",
       "      <th>OverTime</th>\n",
       "      <th>SalaryHikelastYear</th>\n",
       "      <th>WorkExperience</th>\n",
       "      <th>LastPromotion</th>\n",
       "      <th>CurrentProfile</th>\n",
       "      <th>MaritalStatus</th>\n",
       "      <th>MonthlyIncome</th>\n",
       "    </tr>\n",
       "  </thead>\n",
       "  <tbody>\n",
       "    <tr>\n",
       "      <th>0</th>\n",
       "      <td>6110001</td>\n",
       "      <td>18.0</td>\n",
       "      <td>No</td>\n",
       "      <td>NaN</td>\n",
       "      <td>9.0</td>\n",
       "      <td>CA</td>\n",
       "      <td>Male</td>\n",
       "      <td>80.0</td>\n",
       "      <td>3</td>\n",
       "      <td>2</td>\n",
       "      <td>...</td>\n",
       "      <td>3</td>\n",
       "      <td>1</td>\n",
       "      <td>1</td>\n",
       "      <td>0</td>\n",
       "      <td>17.0</td>\n",
       "      <td>0.0</td>\n",
       "      <td>0.0</td>\n",
       "      <td>0.0</td>\n",
       "      <td>Single</td>\n",
       "      <td>16904.0</td>\n",
       "    </tr>\n",
       "    <tr>\n",
       "      <th>1</th>\n",
       "      <td>6110002</td>\n",
       "      <td>20.0</td>\n",
       "      <td>Rarely</td>\n",
       "      <td>Analytics</td>\n",
       "      <td>28.0</td>\n",
       "      <td>Statistics</td>\n",
       "      <td>Female</td>\n",
       "      <td>59.0</td>\n",
       "      <td>1</td>\n",
       "      <td>3</td>\n",
       "      <td>...</td>\n",
       "      <td>1</td>\n",
       "      <td>1</td>\n",
       "      <td>2</td>\n",
       "      <td>1</td>\n",
       "      <td>18.0</td>\n",
       "      <td>2.0</td>\n",
       "      <td>1.0</td>\n",
       "      <td>NaN</td>\n",
       "      <td>Single</td>\n",
       "      <td>18994.0</td>\n",
       "    </tr>\n",
       "    <tr>\n",
       "      <th>2</th>\n",
       "      <td>6110003</td>\n",
       "      <td>50.0</td>\n",
       "      <td>Rarely</td>\n",
       "      <td>Analytics</td>\n",
       "      <td>19.0</td>\n",
       "      <td>CA</td>\n",
       "      <td>Female</td>\n",
       "      <td>76.0</td>\n",
       "      <td>3</td>\n",
       "      <td>3</td>\n",
       "      <td>...</td>\n",
       "      <td>5</td>\n",
       "      <td>0</td>\n",
       "      <td>5</td>\n",
       "      <td>1</td>\n",
       "      <td>22.0</td>\n",
       "      <td>18.0</td>\n",
       "      <td>3.0</td>\n",
       "      <td>3.0</td>\n",
       "      <td>M</td>\n",
       "      <td>18587.0</td>\n",
       "    </tr>\n",
       "    <tr>\n",
       "      <th>3</th>\n",
       "      <td>6110004</td>\n",
       "      <td>32.0</td>\n",
       "      <td>Rarely</td>\n",
       "      <td>Sales</td>\n",
       "      <td>23.0</td>\n",
       "      <td>Statistics</td>\n",
       "      <td>Female</td>\n",
       "      <td>73.0</td>\n",
       "      <td>5</td>\n",
       "      <td>2</td>\n",
       "      <td>...</td>\n",
       "      <td>3</td>\n",
       "      <td>0</td>\n",
       "      <td>4</td>\n",
       "      <td>1</td>\n",
       "      <td>17.0</td>\n",
       "      <td>5.0</td>\n",
       "      <td>3.0</td>\n",
       "      <td>3.0</td>\n",
       "      <td>Married</td>\n",
       "      <td>20559.0</td>\n",
       "    </tr>\n",
       "    <tr>\n",
       "      <th>4</th>\n",
       "      <td>6110005</td>\n",
       "      <td>39.0</td>\n",
       "      <td>Rarely</td>\n",
       "      <td>Analytics</td>\n",
       "      <td>7.0</td>\n",
       "      <td>CA</td>\n",
       "      <td>Male</td>\n",
       "      <td>42.0</td>\n",
       "      <td>4</td>\n",
       "      <td>1</td>\n",
       "      <td>...</td>\n",
       "      <td>5</td>\n",
       "      <td>1</td>\n",
       "      <td>4</td>\n",
       "      <td>0</td>\n",
       "      <td>20.0</td>\n",
       "      <td>9.0</td>\n",
       "      <td>1.0</td>\n",
       "      <td>7.0</td>\n",
       "      <td>Married</td>\n",
       "      <td>24991.0</td>\n",
       "    </tr>\n",
       "  </tbody>\n",
       "</table>\n",
       "<p>5 rows × 21 columns</p>\n",
       "</div>"
      ],
      "text/plain": [
       "   EmployeeID   Age TravelProfile Department  HomeToWork EducationField  \\\n",
       "0     6110001  18.0            No        NaN         9.0             CA   \n",
       "1     6110002  20.0        Rarely  Analytics        28.0     Statistics   \n",
       "2     6110003  50.0        Rarely  Analytics        19.0             CA   \n",
       "3     6110004  32.0        Rarely      Sales        23.0     Statistics   \n",
       "4     6110005  39.0        Rarely  Analytics         7.0             CA   \n",
       "\n",
       "   Gender  HourlnWeek  Involvement  WorkLifeBalance  ... JobSatisfaction  \\\n",
       "0    Male        80.0            3                2  ...               3   \n",
       "1  Female        59.0            1                3  ...               1   \n",
       "2  Female        76.0            3                3  ...               5   \n",
       "3  Female        73.0            5                2  ...               3   \n",
       "4    Male        42.0            4                1  ...               5   \n",
       "\n",
       "   ESOPs  NumCompaniesWorked  OverTime  SalaryHikelastYear  WorkExperience  \\\n",
       "0      1                   1         0                17.0             0.0   \n",
       "1      1                   2         1                18.0             2.0   \n",
       "2      0                   5         1                22.0            18.0   \n",
       "3      0                   4         1                17.0             5.0   \n",
       "4      1                   4         0                20.0             9.0   \n",
       "\n",
       "   LastPromotion  CurrentProfile  MaritalStatus MonthlyIncome  \n",
       "0            0.0             0.0         Single       16904.0  \n",
       "1            1.0             NaN         Single       18994.0  \n",
       "2            3.0             3.0              M       18587.0  \n",
       "3            3.0             3.0        Married       20559.0  \n",
       "4            1.0             7.0        Married       24991.0  \n",
       "\n",
       "[5 rows x 21 columns]"
      ]
     },
     "execution_count": 68,
     "metadata": {},
     "output_type": "execute_result"
    }
   ],
   "source": [
    "test.head(5)"
   ]
  },
  {
   "cell_type": "code",
   "execution_count": 69,
   "id": "91bb9377",
   "metadata": {},
   "outputs": [
    {
     "data": {
      "text/plain": [
       "EmployeeID              0\n",
       "Age                   142\n",
       "TravelProfile           0\n",
       "Department             58\n",
       "HomeToWork            126\n",
       "EducationField          0\n",
       "Gender                 30\n",
       "HourlnWeek            136\n",
       "Involvement             0\n",
       "WorkLifeBalance         0\n",
       "Designation            30\n",
       "JobSatisfaction         0\n",
       "ESOPs                   0\n",
       "NumCompaniesWorked      0\n",
       "OverTime                0\n",
       "SalaryHikelastYear     94\n",
       "WorkExperience        122\n",
       "LastPromotion          57\n",
       "CurrentProfile        134\n",
       "MaritalStatus           0\n",
       "MonthlyIncome          33\n",
       "dtype: int64"
      ]
     },
     "execution_count": 69,
     "metadata": {},
     "output_type": "execute_result"
    }
   ],
   "source": [
    "test.isnull().sum()"
   ]
  },
  {
   "cell_type": "code",
   "execution_count": 70,
   "id": "45117fc7",
   "metadata": {
    "scrolled": true
   },
   "outputs": [
    {
     "data": {
      "text/plain": [
       "Designation\n",
       "AVP               47.820122\n",
       "Executive         32.715640\n",
       "Manager           36.785877\n",
       "Senior Manager    40.528178\n",
       "VP                48.170404\n",
       "Name: Age, dtype: float64"
      ]
     },
     "execution_count": 70,
     "metadata": {},
     "output_type": "execute_result"
    }
   ],
   "source": [
    "df.groupby('Designation')['Age'].mean()"
   ]
  },
  {
   "cell_type": "code",
   "execution_count": 71,
   "id": "adb13245",
   "metadata": {},
   "outputs": [],
   "source": [
    "ind = test[test['Age'].isnull()].index"
   ]
  },
  {
   "cell_type": "code",
   "execution_count": 72,
   "id": "07b56c21",
   "metadata": {},
   "outputs": [],
   "source": [
    "for i in ind:\n",
    "    if test.loc[i,'Designation'] == 'AVP':\n",
    "        test.loc[i,'Age'] = 48\n",
    "    if test.loc[i,'Designation'] == 'Executive':\n",
    "        test.loc[i,'Age'] = 33\n",
    "    if test.loc[i,'Designation'] == 'Manager':\n",
    "        test.loc[i,'Age'] = 37\n",
    "    if test.loc[i,'Designation'] == 'Senior Manager':\n",
    "        test.loc[i,'Age'] = 41\n",
    "    if test.loc[i,'Designation'] == 'VP':\n",
    "        test.loc[i,'Age'] = 48"
   ]
  },
  {
   "cell_type": "code",
   "execution_count": 73,
   "id": "fcc7ce3a",
   "metadata": {},
   "outputs": [
    {
     "data": {
      "text/html": [
       "<div>\n",
       "<style scoped>\n",
       "    .dataframe tbody tr th:only-of-type {\n",
       "        vertical-align: middle;\n",
       "    }\n",
       "\n",
       "    .dataframe tbody tr th {\n",
       "        vertical-align: top;\n",
       "    }\n",
       "\n",
       "    .dataframe thead th {\n",
       "        text-align: right;\n",
       "    }\n",
       "</style>\n",
       "<table border=\"1\" class=\"dataframe\">\n",
       "  <thead>\n",
       "    <tr style=\"text-align: right;\">\n",
       "      <th>Department</th>\n",
       "      <th>Analytics</th>\n",
       "      <th>Marketing</th>\n",
       "      <th>Sales</th>\n",
       "    </tr>\n",
       "    <tr>\n",
       "      <th>EducationField</th>\n",
       "      <th></th>\n",
       "      <th></th>\n",
       "      <th></th>\n",
       "    </tr>\n",
       "  </thead>\n",
       "  <tbody>\n",
       "    <tr>\n",
       "      <th>CA</th>\n",
       "      <td>1212</td>\n",
       "      <td>40</td>\n",
       "      <td>308</td>\n",
       "    </tr>\n",
       "    <tr>\n",
       "      <th>Engineer</th>\n",
       "      <td>347</td>\n",
       "      <td>15</td>\n",
       "      <td>125</td>\n",
       "    </tr>\n",
       "    <tr>\n",
       "      <th>MBA</th>\n",
       "      <td>0</td>\n",
       "      <td>117</td>\n",
       "      <td>0</td>\n",
       "    </tr>\n",
       "    <tr>\n",
       "      <th>Marketing Diploma</th>\n",
       "      <td>0</td>\n",
       "      <td>0</td>\n",
       "      <td>603</td>\n",
       "    </tr>\n",
       "    <tr>\n",
       "      <th>Other</th>\n",
       "      <td>213</td>\n",
       "      <td>9</td>\n",
       "      <td>62</td>\n",
       "    </tr>\n",
       "    <tr>\n",
       "      <th>Statistics</th>\n",
       "      <td>1553</td>\n",
       "      <td>46</td>\n",
       "      <td>530</td>\n",
       "    </tr>\n",
       "  </tbody>\n",
       "</table>\n",
       "</div>"
      ],
      "text/plain": [
       "Department         Analytics  Marketing  Sales\n",
       "EducationField                                \n",
       "CA                      1212         40    308\n",
       "Engineer                 347         15    125\n",
       "MBA                        0        117      0\n",
       "Marketing Diploma          0          0    603\n",
       "Other                    213          9     62\n",
       "Statistics              1553         46    530"
      ]
     },
     "execution_count": 73,
     "metadata": {},
     "output_type": "execute_result"
    }
   ],
   "source": [
    "pd.crosstab(df['EducationField'],df['Department'])"
   ]
  },
  {
   "cell_type": "code",
   "execution_count": 74,
   "id": "6735ed0a",
   "metadata": {},
   "outputs": [],
   "source": [
    "ind = test[test['Department'].isnull()].index"
   ]
  },
  {
   "cell_type": "code",
   "execution_count": 75,
   "id": "99e662e9",
   "metadata": {},
   "outputs": [],
   "source": [
    "for i in ind:\n",
    "    if test.loc[i,'EducationField'] == 'CA' or 'Engineer' or 'Other' or 'Statistics':\n",
    "        test.loc[i,'Department'] = 'Analytics'\n",
    "    if test.loc[i,'EducationField'] == 'MBA':\n",
    "        test.loc[i,'Department'] = 'Marketing'\n",
    "    if test.loc[i,'EducationField'] == 'Marketing Diploma':\n",
    "        test.loc[i,'Department'] = 'Sales'"
   ]
  },
  {
   "cell_type": "code",
   "execution_count": 76,
   "id": "394b3dcc",
   "metadata": {},
   "outputs": [
    {
     "data": {
      "text/plain": [
       "EmployeeID              0\n",
       "Age                     0\n",
       "TravelProfile           0\n",
       "Department              0\n",
       "HomeToWork            126\n",
       "EducationField          0\n",
       "Gender                 30\n",
       "HourlnWeek            136\n",
       "Involvement             0\n",
       "WorkLifeBalance         0\n",
       "Designation            30\n",
       "JobSatisfaction         0\n",
       "ESOPs                   0\n",
       "NumCompaniesWorked      0\n",
       "OverTime                0\n",
       "SalaryHikelastYear     94\n",
       "WorkExperience        122\n",
       "LastPromotion          57\n",
       "CurrentProfile        134\n",
       "MaritalStatus           0\n",
       "MonthlyIncome          33\n",
       "dtype: int64"
      ]
     },
     "execution_count": 76,
     "metadata": {},
     "output_type": "execute_result"
    }
   ],
   "source": [
    "test.isnull().sum()"
   ]
  },
  {
   "cell_type": "code",
   "execution_count": 77,
   "id": "eb62d81d",
   "metadata": {},
   "outputs": [],
   "source": [
    "test.HomeToWork.fillna(df.HomeToWork.mean(), inplace=True)"
   ]
  },
  {
   "cell_type": "code",
   "execution_count": 78,
   "id": "ec43b936",
   "metadata": {},
   "outputs": [
    {
     "data": {
      "text/plain": [
       "array(['Male', 'Female', 'F', nan], dtype=object)"
      ]
     },
     "execution_count": 78,
     "metadata": {},
     "output_type": "execute_result"
    }
   ],
   "source": [
    "test.Gender.unique()"
   ]
  },
  {
   "cell_type": "code",
   "execution_count": 79,
   "id": "3ff91b8d",
   "metadata": {},
   "outputs": [],
   "source": [
    "test.Gender.replace('F','Female', inplace=True)"
   ]
  },
  {
   "cell_type": "code",
   "execution_count": 80,
   "id": "3b88c8ec",
   "metadata": {},
   "outputs": [
    {
     "data": {
      "text/plain": [
       "array(['Male', 'Female', nan], dtype=object)"
      ]
     },
     "execution_count": 80,
     "metadata": {},
     "output_type": "execute_result"
    }
   ],
   "source": [
    "test.Gender.unique()"
   ]
  },
  {
   "cell_type": "code",
   "execution_count": 81,
   "id": "41079877",
   "metadata": {},
   "outputs": [],
   "source": [
    "test.Gender.fillna(df.Gender.mode()[0], inplace=True)"
   ]
  },
  {
   "cell_type": "code",
   "execution_count": 82,
   "id": "b819aa54",
   "metadata": {},
   "outputs": [
    {
     "data": {
      "text/plain": [
       "EmployeeID              0\n",
       "Age                     0\n",
       "TravelProfile           0\n",
       "Department              0\n",
       "HomeToWork              0\n",
       "EducationField          0\n",
       "Gender                  0\n",
       "HourlnWeek            136\n",
       "Involvement             0\n",
       "WorkLifeBalance         0\n",
       "Designation            30\n",
       "JobSatisfaction         0\n",
       "ESOPs                   0\n",
       "NumCompaniesWorked      0\n",
       "OverTime                0\n",
       "SalaryHikelastYear     94\n",
       "WorkExperience        122\n",
       "LastPromotion          57\n",
       "CurrentProfile        134\n",
       "MaritalStatus           0\n",
       "MonthlyIncome          33\n",
       "dtype: int64"
      ]
     },
     "execution_count": 82,
     "metadata": {},
     "output_type": "execute_result"
    }
   ],
   "source": [
    "test.isnull().sum()"
   ]
  },
  {
   "cell_type": "code",
   "execution_count": 83,
   "id": "36173215",
   "metadata": {},
   "outputs": [],
   "source": [
    "test.HourlnWeek.fillna(df.HourlnWeek.mean(),inplace=True)"
   ]
  },
  {
   "cell_type": "code",
   "execution_count": 84,
   "id": "4f7a0761",
   "metadata": {},
   "outputs": [
    {
     "data": {
      "text/plain": [
       "EmployeeID              0\n",
       "Age                     0\n",
       "TravelProfile           0\n",
       "Department              0\n",
       "HomeToWork              0\n",
       "EducationField          0\n",
       "Gender                  0\n",
       "HourlnWeek              0\n",
       "Involvement             0\n",
       "WorkLifeBalance         0\n",
       "Designation            30\n",
       "JobSatisfaction         0\n",
       "ESOPs                   0\n",
       "NumCompaniesWorked      0\n",
       "OverTime                0\n",
       "SalaryHikelastYear     94\n",
       "WorkExperience        122\n",
       "LastPromotion          57\n",
       "CurrentProfile        134\n",
       "MaritalStatus           0\n",
       "MonthlyIncome          33\n",
       "dtype: int64"
      ]
     },
     "execution_count": 84,
     "metadata": {},
     "output_type": "execute_result"
    }
   ],
   "source": [
    "test.isnull().sum()"
   ]
  },
  {
   "cell_type": "code",
   "execution_count": 85,
   "id": "eefb1c52",
   "metadata": {},
   "outputs": [
    {
     "data": {
      "text/plain": [
       "Designation\n",
       "AVP               31124.0\n",
       "Executive         18119.0\n",
       "Manager           20797.0\n",
       "Senior Manager    25368.0\n",
       "VP                34606.0\n",
       "Name: MonthlyIncome, dtype: float64"
      ]
     },
     "execution_count": 85,
     "metadata": {},
     "output_type": "execute_result"
    }
   ],
   "source": [
    "df.groupby('Designation')['MonthlyIncome'].median()"
   ]
  },
  {
   "cell_type": "code",
   "execution_count": 86,
   "id": "9ef08610",
   "metadata": {},
   "outputs": [],
   "source": [
    "ind = test[test['Designation'].isnull()].index"
   ]
  },
  {
   "cell_type": "code",
   "execution_count": 87,
   "id": "bbd11605",
   "metadata": {},
   "outputs": [],
   "source": [
    "for i in ind:\n",
    "    if test.loc[i,'MonthlyIncome'] > 34500:\n",
    "        test.loc[i,'Designation'] = 'VP'\n",
    "    if (test.loc[i,'MonthlyIncome'] > 31000) & (test.loc[i,'MonthlyIncome'] < 34500):\n",
    "        test.loc[i,'Designation'] = 'AVP'\n",
    "    if (test.loc[i,'MonthlyIncome'] > 25000) & (test.loc[i,'MonthlyIncome'] < 31000):\n",
    "        test.loc[i,'Designation'] = 'Senior Manager'\n",
    "    if (test.loc[i,'MonthlyIncome'] > 20500) & (test.loc[i,'MonthlyIncome'] < 25000):\n",
    "        test.loc[i,'Designation'] = 'Manager'\n",
    "    if (test.loc[i,'MonthlyIncome'] < 20500):\n",
    "        test.loc[i,'Designation'] = 'Executive'"
   ]
  },
  {
   "cell_type": "code",
   "execution_count": 88,
   "id": "29a15abc",
   "metadata": {},
   "outputs": [
    {
     "data": {
      "text/plain": [
       "EmployeeID              0\n",
       "Age                     0\n",
       "TravelProfile           0\n",
       "Department              0\n",
       "HomeToWork              0\n",
       "EducationField          0\n",
       "Gender                  0\n",
       "HourlnWeek              0\n",
       "Involvement             0\n",
       "WorkLifeBalance         0\n",
       "Designation             0\n",
       "JobSatisfaction         0\n",
       "ESOPs                   0\n",
       "NumCompaniesWorked      0\n",
       "OverTime                0\n",
       "SalaryHikelastYear     94\n",
       "WorkExperience        122\n",
       "LastPromotion          57\n",
       "CurrentProfile        134\n",
       "MaritalStatus           0\n",
       "MonthlyIncome          33\n",
       "dtype: int64"
      ]
     },
     "execution_count": 88,
     "metadata": {},
     "output_type": "execute_result"
    }
   ],
   "source": [
    "test.isnull().sum()"
   ]
  },
  {
   "cell_type": "code",
   "execution_count": 89,
   "id": "e32c2eff",
   "metadata": {},
   "outputs": [],
   "source": [
    "test.SalaryHikelastYear.fillna(df.SalaryHikelastYear.mean(), inplace=True)"
   ]
  },
  {
   "cell_type": "code",
   "execution_count": 90,
   "id": "82b8819a",
   "metadata": {},
   "outputs": [],
   "source": [
    "ind = test[test['WorkExperience'].isnull()].index"
   ]
  },
  {
   "cell_type": "code",
   "execution_count": 91,
   "id": "941aa7e6",
   "metadata": {},
   "outputs": [],
   "source": [
    "for i in ind:\n",
    "    test.loc[i,'WorkExperience'] = test.loc[i,'Age'] - 18"
   ]
  },
  {
   "cell_type": "code",
   "execution_count": 92,
   "id": "777b80b6",
   "metadata": {},
   "outputs": [
    {
     "data": {
      "text/plain": [
       "EmployeeID              0\n",
       "Age                     0\n",
       "TravelProfile           0\n",
       "Department              0\n",
       "HomeToWork              0\n",
       "EducationField          0\n",
       "Gender                  0\n",
       "HourlnWeek              0\n",
       "Involvement             0\n",
       "WorkLifeBalance         0\n",
       "Designation             0\n",
       "JobSatisfaction         0\n",
       "ESOPs                   0\n",
       "NumCompaniesWorked      0\n",
       "OverTime                0\n",
       "SalaryHikelastYear      0\n",
       "WorkExperience          0\n",
       "LastPromotion          57\n",
       "CurrentProfile        134\n",
       "MaritalStatus           0\n",
       "MonthlyIncome          33\n",
       "dtype: int64"
      ]
     },
     "execution_count": 92,
     "metadata": {},
     "output_type": "execute_result"
    }
   ],
   "source": [
    "test.isnull().sum()"
   ]
  },
  {
   "cell_type": "code",
   "execution_count": 93,
   "id": "e8a88a28",
   "metadata": {},
   "outputs": [],
   "source": [
    "test.LastPromotion.fillna(df.LastPromotion.mean(), inplace = True)"
   ]
  },
  {
   "cell_type": "code",
   "execution_count": 94,
   "id": "2c8cea54",
   "metadata": {},
   "outputs": [],
   "source": [
    "test.CurrentProfile.fillna(df.CurrentProfile.mean(), inplace = True)"
   ]
  },
  {
   "cell_type": "code",
   "execution_count": 95,
   "id": "edabda05",
   "metadata": {},
   "outputs": [
    {
     "data": {
      "text/plain": [
       "EmployeeID             0\n",
       "Age                    0\n",
       "TravelProfile          0\n",
       "Department             0\n",
       "HomeToWork             0\n",
       "EducationField         0\n",
       "Gender                 0\n",
       "HourlnWeek             0\n",
       "Involvement            0\n",
       "WorkLifeBalance        0\n",
       "Designation            0\n",
       "JobSatisfaction        0\n",
       "ESOPs                  0\n",
       "NumCompaniesWorked     0\n",
       "OverTime               0\n",
       "SalaryHikelastYear     0\n",
       "WorkExperience         0\n",
       "LastPromotion          0\n",
       "CurrentProfile         0\n",
       "MaritalStatus          0\n",
       "MonthlyIncome         33\n",
       "dtype: int64"
      ]
     },
     "execution_count": 95,
     "metadata": {},
     "output_type": "execute_result"
    }
   ],
   "source": [
    "test.isnull().sum()"
   ]
  },
  {
   "cell_type": "code",
   "execution_count": 96,
   "id": "7f0799ed",
   "metadata": {},
   "outputs": [
    {
     "data": {
      "text/plain": [
       "Designation\n",
       "AVP               30790.439024\n",
       "Executive         18201.740758\n",
       "Manager           20926.913440\n",
       "Senior Manager    25308.804718\n",
       "VP                34656.937220\n",
       "Name: MonthlyIncome, dtype: float64"
      ]
     },
     "execution_count": 96,
     "metadata": {},
     "output_type": "execute_result"
    }
   ],
   "source": [
    "df.groupby('Designation')['MonthlyIncome'].mean()"
   ]
  },
  {
   "cell_type": "code",
   "execution_count": 97,
   "id": "01567e02",
   "metadata": {},
   "outputs": [],
   "source": [
    "ind = test[test['MonthlyIncome'].isnull()].index"
   ]
  },
  {
   "cell_type": "code",
   "execution_count": 98,
   "id": "dbe24f64",
   "metadata": {},
   "outputs": [],
   "source": [
    "for i in ind:\n",
    "    if test.loc[i,'Designation'] == 'VP':\n",
    "        test.loc[i,'MonthlyIncome'] = 34500\n",
    "    if test.loc[i,'Designation'] == 'AVP':\n",
    "        test.loc[i,'MonthlyIncome'] = 30500\n",
    "    if test.loc[i,'Designation'] == 'Senior Manager':\n",
    "        test.loc[i,'MonthlyIncome'] = 25500\n",
    "    if test.loc[i,'Designation'] == 'Manager':\n",
    "        test.loc[i,'MonthlyIncome'] = 21000\n",
    "    if test.loc[i,'Designation'] == 'Executive':\n",
    "        test.loc[i,'MonthlyIncome'] = 18000"
   ]
  },
  {
   "cell_type": "code",
   "execution_count": 99,
   "id": "ddb0ff7f",
   "metadata": {},
   "outputs": [
    {
     "data": {
      "text/plain": [
       "EmployeeID            0\n",
       "Age                   0\n",
       "TravelProfile         0\n",
       "Department            0\n",
       "HomeToWork            0\n",
       "EducationField        0\n",
       "Gender                0\n",
       "HourlnWeek            0\n",
       "Involvement           0\n",
       "WorkLifeBalance       0\n",
       "Designation           0\n",
       "JobSatisfaction       0\n",
       "ESOPs                 0\n",
       "NumCompaniesWorked    0\n",
       "OverTime              0\n",
       "SalaryHikelastYear    0\n",
       "WorkExperience        0\n",
       "LastPromotion         0\n",
       "CurrentProfile        0\n",
       "MaritalStatus         0\n",
       "MonthlyIncome         0\n",
       "dtype: int64"
      ]
     },
     "execution_count": 99,
     "metadata": {},
     "output_type": "execute_result"
    }
   ],
   "source": [
    "test.isnull().sum()"
   ]
  },
  {
   "cell_type": "code",
   "execution_count": 100,
   "id": "a39b5a64",
   "metadata": {},
   "outputs": [],
   "source": [
    "test.drop('EmployeeID', axis = 1, inplace=True)"
   ]
  },
  {
   "cell_type": "code",
   "execution_count": 101,
   "id": "d7bf3c31",
   "metadata": {},
   "outputs": [],
   "source": [
    "test_num = test.select_dtypes(exclude='object')\n",
    "test_cat = test.select_dtypes(include='object')"
   ]
  },
  {
   "cell_type": "code",
   "execution_count": 102,
   "id": "1299551c",
   "metadata": {},
   "outputs": [
    {
     "data": {
      "image/png": "[encoded data removed]",
      "text/plain": [
       "<Figure size 432x288 with 1 Axes>"
      ]
     },
     "metadata": {
      "needs_background": "light"
     },
     "output_type": "display_data"
    },
    {
     "data": {
      "image/png": "[encoded data removed]",
      "text/plain": [
       "<Figure size 432x288 with 1 Axes>"
      ]
     },
     "metadata": {
      "needs_background": "light"
     },
     "output_type": "display_data"
    },
    {
     "data": {
      "image/png": "[encoded data removed]",
      "text/plain": [
       "<Figure size 432x288 with 1 Axes>"
      ]
     },
     "metadata": {
      "needs_background": "light"
     },
     "output_type": "display_data"
    },
    {
     "data": {
      "image/png": "[encoded data removed]",
      "text/plain": [
       "<Figure size 432x288 with 1 Axes>"
      ]
     },
     "metadata": {
      "needs_background": "light"
     },
     "output_type": "display_data"
    },
    {
     "data": {
      "image/png": "[encoded data removed]",
      "text/plain": [
       "<Figure size 432x288 with 1 Axes>"
      ]
     },
     "metadata": {
      "needs_background": "light"
     },
     "output_type": "display_data"
    },
    {
     "data": {
      "image/png": "[encoded data removed]",
      "text/plain": [
       "<Figure size 432x288 with 1 Axes>"
      ]
     },
     "metadata": {
      "needs_background": "light"
     },
     "output_type": "display_data"
    },
    {
     "data": {
      "image/png": "[encoded data removed]",
      "text/plain": [
       "<Figure size 432x288 with 1 Axes>"
      ]
     },
     "metadata": {
      "needs_background": "light"
     },
     "output_type": "display_data"
    },
    {
     "data": {
      "image/png": "[encoded data removed]",
      "text/plain": [
       "<Figure size 432x288 with 1 Axes>"
      ]
     },
     "metadata": {
      "needs_background": "light"
     },
     "output_type": "display_data"
    },
    {
     "data": {
      "image/png": "[encoded data removed]",
      "text/plain": [
       "<Figure size 432x288 with 1 Axes>"
      ]
     },
     "metadata": {
      "needs_background": "light"
     },
     "output_type": "display_data"
    },
    {
     "data": {
      "image/png": "[encoded data removed]",
      "text/plain": [
       "<Figure size 432x288 with 1 Axes>"
      ]
     },
     "metadata": {
      "needs_background": "light"
     },
     "output_type": "display_data"
    },
    {
     "data": {
      "image/png": "[encoded data removed]",
      "text/plain": [
       "<Figure size 432x288 with 1 Axes>"
      ]
     },
     "metadata": {
      "needs_background": "light"
     },
     "output_type": "display_data"
    },
    {
     "data": {
      "image/png": "[encoded data removed]",
      "text/plain": [
       "<Figure size 432x288 with 1 Axes>"
      ]
     },
     "metadata": {
      "needs_background": "light"
     },
     "output_type": "display_data"
    },
    {
     "data": {
      "image/png": "[encoded data removed]",
      "text/plain": [
       "<Figure size 432x288 with 1 Axes>"
      ]
     },
     "metadata": {
      "needs_background": "light"
     },
     "output_type": "display_data"
    },
    {
     "data": {
      "image/png": "[encoded data removed]",
      "text/plain": [
       "<Figure size 432x288 with 1 Axes>"
      ]
     },
     "metadata": {
      "needs_background": "light"
     },
     "output_type": "display_data"
    }
   ],
   "source": [
    "for i in test_num.columns:\n",
    "    sns.boxplot(test_num[i])\n",
    "    plt.show()"
   ]
  },
  {
   "cell_type": "code",
   "execution_count": 103,
   "id": "c22c5946",
   "metadata": {},
   "outputs": [],
   "source": [
    "# CApping the Outlier / Winzoriation\n",
    "for i in test_num.columns:\n",
    "    q1=test_num[i].quantile(0.25)\n",
    "    q3=test_num[i].quantile(0.75)\n",
    "    iqr=q3-q1\n",
    "    ub=q3+1.5*iqr\n",
    "    lb=q1-1.5*iqr\n",
    "    uc=test_num[i].quantile(0.99)\n",
    "    lc=test_num[i].quantile(0.01)\n",
    "    for ind1 in test_num[i].index:\n",
    "        if test_num.loc[ind1,i]>ub:\n",
    "            test_num.loc[ind1,i]=uc\n",
    "        if test_num.loc[ind1,i]<lb:\n",
    "            test_num.loc[ind1,i]=lc"
   ]
  },
  {
   "cell_type": "code",
   "execution_count": 104,
   "id": "f4ec8c9f",
   "metadata": {},
   "outputs": [
    {
     "data": {
      "image/png": "[encoded data removed]",
      "text/plain": [
       "<Figure size 432x288 with 1 Axes>"
      ]
     },
     "metadata": {
      "needs_background": "light"
     },
     "output_type": "display_data"
    },
    {
     "data": {
      "image/png": "[encoded data removed]",
      "text/plain": [
       "<Figure size 432x288 with 1 Axes>"
      ]
     },
     "metadata": {
      "needs_background": "light"
     },
     "output_type": "display_data"
    },
    {
     "data": {
      "image/png": "[encoded data removed]",
      "text/plain": [
       "<Figure size 432x288 with 1 Axes>"
      ]
     },
     "metadata": {
      "needs_background": "light"
     },
     "output_type": "display_data"
    },
    {
     "data": {
      "image/png": "[encoded data removed]",
      "text/plain": [
       "<Figure size 432x288 with 1 Axes>"
      ]
     },
     "metadata": {
      "needs_background": "light"
     },
     "output_type": "display_data"
    },
    {
     "data": {
      "image/png": "[encoded data removed]",
      "text/plain": [
       "<Figure size 432x288 with 1 Axes>"
      ]
     },
     "metadata": {
      "needs_background": "light"
     },
     "output_type": "display_data"
    },
    {
     "data": {
      "image/png": "[encoded data removed]",
      "text/plain": [
       "<Figure size 432x288 with 1 Axes>"
      ]
     },
     "metadata": {
      "needs_background": "light"
     },
     "output_type": "display_data"
    },
    {
     "data": {
      "image/png": "[encoded data removed]",
      "text/plain": [
       "<Figure size 432x288 with 1 Axes>"
      ]
     },
     "metadata": {
      "needs_background": "light"
     },
     "output_type": "display_data"
    },
    {
     "data": {
      "image/png": "[encoded data removed]",
      "text/plain": [
       "<Figure size 432x288 with 1 Axes>"
      ]
     },
     "metadata": {
      "needs_background": "light"
     },
     "output_type": "display_data"
    },
    {
     "data": {
      "image/png": "[encoded data removed]",
      "text/plain": [
       "<Figure size 432x288 with 1 Axes>"
      ]
     },
     "metadata": {
      "needs_background": "light"
     },
     "output_type": "display_data"
    },
    {
     "data": {
      "image/png": "[encoded data removed]",
      "text/plain": [
       "<Figure size 432x288 with 1 Axes>"
      ]
     },
     "metadata": {
      "needs_background": "light"
     },
     "output_type": "display_data"
    },
    {
     "data": {
      "image/png": "[encoded data removed]",
      "text/plain": [
       "<Figure size 432x288 with 1 Axes>"
      ]
     },
     "metadata": {
      "needs_background": "light"
     },
     "output_type": "display_data"
    },
    {
     "data": {
      "image/png": "[encoded data removed]",
      "text/plain": [
       "<Figure size 432x288 with 1 Axes>"
      ]
     },
     "metadata": {
      "needs_background": "light"
     },
     "output_type": "display_data"
    },
    {
     "data": {
      "image/png": "[encoded data removed]",
      "text/plain": [
       "<Figure size 432x288 with 1 Axes>"
      ]
     },
     "metadata": {
      "needs_background": "light"
     },
     "output_type": "display_data"
    },
    {
     "data": {
      "image/png": "[encoded data removed]",
      "text/plain": [
       "<Figure size 432x288 with 1 Axes>"
      ]
     },
     "metadata": {
      "needs_background": "light"
     },
     "output_type": "display_data"
    }
   ],
   "source": [
    "for i in test_num.columns:\n",
    "    sns.boxplot(test_num[i])\n",
    "    plt.show()"
   ]
  },
  {
   "cell_type": "code",
   "execution_count": 105,
   "id": "02dbebdb",
   "metadata": {
    "scrolled": true
   },
   "outputs": [
    {
     "data": {
      "text/html": [
       "<div>\n",
       "<style scoped>\n",
       "    .dataframe tbody tr th:only-of-type {\n",
       "        vertical-align: middle;\n",
       "    }\n",
       "\n",
       "    .dataframe tbody tr th {\n",
       "        vertical-align: top;\n",
       "    }\n",
       "\n",
       "    .dataframe thead th {\n",
       "        text-align: right;\n",
       "    }\n",
       "</style>\n",
       "<table border=\"1\" class=\"dataframe\">\n",
       "  <thead>\n",
       "    <tr style=\"text-align: right;\">\n",
       "      <th></th>\n",
       "      <th>Age</th>\n",
       "      <th>HomeToWork</th>\n",
       "      <th>HourlnWeek</th>\n",
       "      <th>Involvement</th>\n",
       "      <th>WorkLifeBalance</th>\n",
       "      <th>JobSatisfaction</th>\n",
       "      <th>ESOPs</th>\n",
       "      <th>NumCompaniesWorked</th>\n",
       "      <th>OverTime</th>\n",
       "      <th>SalaryHikelastYear</th>\n",
       "      <th>WorkExperience</th>\n",
       "      <th>LastPromotion</th>\n",
       "      <th>CurrentProfile</th>\n",
       "      <th>MonthlyIncome</th>\n",
       "    </tr>\n",
       "  </thead>\n",
       "  <tbody>\n",
       "    <tr>\n",
       "      <th>0</th>\n",
       "      <td>18.0</td>\n",
       "      <td>9.0</td>\n",
       "      <td>80.000000</td>\n",
       "      <td>3</td>\n",
       "      <td>2</td>\n",
       "      <td>3</td>\n",
       "      <td>1</td>\n",
       "      <td>1</td>\n",
       "      <td>0</td>\n",
       "      <td>17.0</td>\n",
       "      <td>0.0</td>\n",
       "      <td>0.0</td>\n",
       "      <td>0.000000</td>\n",
       "      <td>16904.00</td>\n",
       "    </tr>\n",
       "    <tr>\n",
       "      <th>1</th>\n",
       "      <td>20.0</td>\n",
       "      <td>28.0</td>\n",
       "      <td>59.000000</td>\n",
       "      <td>1</td>\n",
       "      <td>3</td>\n",
       "      <td>1</td>\n",
       "      <td>1</td>\n",
       "      <td>2</td>\n",
       "      <td>1</td>\n",
       "      <td>18.0</td>\n",
       "      <td>2.0</td>\n",
       "      <td>1.0</td>\n",
       "      <td>4.385295</td>\n",
       "      <td>18994.00</td>\n",
       "    </tr>\n",
       "    <tr>\n",
       "      <th>2</th>\n",
       "      <td>50.0</td>\n",
       "      <td>19.0</td>\n",
       "      <td>76.000000</td>\n",
       "      <td>3</td>\n",
       "      <td>3</td>\n",
       "      <td>5</td>\n",
       "      <td>0</td>\n",
       "      <td>5</td>\n",
       "      <td>1</td>\n",
       "      <td>22.0</td>\n",
       "      <td>18.0</td>\n",
       "      <td>3.0</td>\n",
       "      <td>3.000000</td>\n",
       "      <td>18587.00</td>\n",
       "    </tr>\n",
       "    <tr>\n",
       "      <th>3</th>\n",
       "      <td>32.0</td>\n",
       "      <td>23.0</td>\n",
       "      <td>73.000000</td>\n",
       "      <td>5</td>\n",
       "      <td>2</td>\n",
       "      <td>3</td>\n",
       "      <td>0</td>\n",
       "      <td>4</td>\n",
       "      <td>1</td>\n",
       "      <td>17.0</td>\n",
       "      <td>5.0</td>\n",
       "      <td>3.0</td>\n",
       "      <td>3.000000</td>\n",
       "      <td>20559.00</td>\n",
       "    </tr>\n",
       "    <tr>\n",
       "      <th>4</th>\n",
       "      <td>39.0</td>\n",
       "      <td>7.0</td>\n",
       "      <td>42.000000</td>\n",
       "      <td>4</td>\n",
       "      <td>1</td>\n",
       "      <td>5</td>\n",
       "      <td>1</td>\n",
       "      <td>4</td>\n",
       "      <td>0</td>\n",
       "      <td>20.0</td>\n",
       "      <td>9.0</td>\n",
       "      <td>1.0</td>\n",
       "      <td>7.000000</td>\n",
       "      <td>24991.00</td>\n",
       "    </tr>\n",
       "    <tr>\n",
       "      <th>...</th>\n",
       "      <td>...</td>\n",
       "      <td>...</td>\n",
       "      <td>...</td>\n",
       "      <td>...</td>\n",
       "      <td>...</td>\n",
       "      <td>...</td>\n",
       "      <td>...</td>\n",
       "      <td>...</td>\n",
       "      <td>...</td>\n",
       "      <td>...</td>\n",
       "      <td>...</td>\n",
       "      <td>...</td>\n",
       "      <td>...</td>\n",
       "      <td>...</td>\n",
       "    </tr>\n",
       "    <tr>\n",
       "      <th>2625</th>\n",
       "      <td>46.0</td>\n",
       "      <td>12.0</td>\n",
       "      <td>76.000000</td>\n",
       "      <td>3</td>\n",
       "      <td>5</td>\n",
       "      <td>5</td>\n",
       "      <td>1</td>\n",
       "      <td>5</td>\n",
       "      <td>1</td>\n",
       "      <td>18.0</td>\n",
       "      <td>10.0</td>\n",
       "      <td>1.0</td>\n",
       "      <td>3.000000</td>\n",
       "      <td>26761.00</td>\n",
       "    </tr>\n",
       "    <tr>\n",
       "      <th>2626</th>\n",
       "      <td>29.0</td>\n",
       "      <td>22.0</td>\n",
       "      <td>80.000000</td>\n",
       "      <td>4</td>\n",
       "      <td>4</td>\n",
       "      <td>5</td>\n",
       "      <td>0</td>\n",
       "      <td>2</td>\n",
       "      <td>0</td>\n",
       "      <td>18.0</td>\n",
       "      <td>7.0</td>\n",
       "      <td>4.0</td>\n",
       "      <td>4.000000</td>\n",
       "      <td>19196.00</td>\n",
       "    </tr>\n",
       "    <tr>\n",
       "      <th>2627</th>\n",
       "      <td>44.0</td>\n",
       "      <td>8.0</td>\n",
       "      <td>42.000000</td>\n",
       "      <td>4</td>\n",
       "      <td>1</td>\n",
       "      <td>1</td>\n",
       "      <td>1</td>\n",
       "      <td>3</td>\n",
       "      <td>0</td>\n",
       "      <td>19.0</td>\n",
       "      <td>24.0</td>\n",
       "      <td>5.0</td>\n",
       "      <td>15.000000</td>\n",
       "      <td>25248.00</td>\n",
       "    </tr>\n",
       "    <tr>\n",
       "      <th>2628</th>\n",
       "      <td>33.0</td>\n",
       "      <td>11.0</td>\n",
       "      <td>57.979767</td>\n",
       "      <td>4</td>\n",
       "      <td>3</td>\n",
       "      <td>4</td>\n",
       "      <td>0</td>\n",
       "      <td>2</td>\n",
       "      <td>0</td>\n",
       "      <td>18.0</td>\n",
       "      <td>2.0</td>\n",
       "      <td>1.0</td>\n",
       "      <td>1.000000</td>\n",
       "      <td>17261.00</td>\n",
       "    </tr>\n",
       "    <tr>\n",
       "      <th>2629</th>\n",
       "      <td>50.0</td>\n",
       "      <td>1.0</td>\n",
       "      <td>73.000000</td>\n",
       "      <td>3</td>\n",
       "      <td>4</td>\n",
       "      <td>4</td>\n",
       "      <td>1</td>\n",
       "      <td>3</td>\n",
       "      <td>1</td>\n",
       "      <td>24.0</td>\n",
       "      <td>28.0</td>\n",
       "      <td>0.0</td>\n",
       "      <td>7.000000</td>\n",
       "      <td>35243.39</td>\n",
       "    </tr>\n",
       "  </tbody>\n",
       "</table>\n",
       "<p>2630 rows × 14 columns</p>\n",
       "</div>"
      ],
      "text/plain": [
       "       Age  HomeToWork  HourlnWeek  Involvement  WorkLifeBalance  \\\n",
       "0     18.0         9.0   80.000000            3                2   \n",
       "1     20.0        28.0   59.000000            1                3   \n",
       "2     50.0        19.0   76.000000            3                3   \n",
       "3     32.0        23.0   73.000000            5                2   \n",
       "4     39.0         7.0   42.000000            4                1   \n",
       "...    ...         ...         ...          ...              ...   \n",
       "2625  46.0        12.0   76.000000            3                5   \n",
       "2626  29.0        22.0   80.000000            4                4   \n",
       "2627  44.0         8.0   42.000000            4                1   \n",
       "2628  33.0        11.0   57.979767            4                3   \n",
       "2629  50.0         1.0   73.000000            3                4   \n",
       "\n",
       "      JobSatisfaction  ESOPs  NumCompaniesWorked  OverTime  \\\n",
       "0                   3      1                   1         0   \n",
       "1                   1      1                   2         1   \n",
       "2                   5      0                   5         1   \n",
       "3                   3      0                   4         1   \n",
       "4                   5      1                   4         0   \n",
       "...               ...    ...                 ...       ...   \n",
       "2625                5      1                   5         1   \n",
       "2626                5      0                   2         0   \n",
       "2627                1      1                   3         0   \n",
       "2628                4      0                   2         0   \n",
       "2629                4      1                   3         1   \n",
       "\n",
       "      SalaryHikelastYear  WorkExperience  LastPromotion  CurrentProfile  \\\n",
       "0                   17.0             0.0            0.0        0.000000   \n",
       "1                   18.0             2.0            1.0        4.385295   \n",
       "2                   22.0            18.0            3.0        3.000000   \n",
       "3                   17.0             5.0            3.0        3.000000   \n",
       "4                   20.0             9.0            1.0        7.000000   \n",
       "...                  ...             ...            ...             ...   \n",
       "2625                18.0            10.0            1.0        3.000000   \n",
       "2626                18.0             7.0            4.0        4.000000   \n",
       "2627                19.0            24.0            5.0       15.000000   \n",
       "2628                18.0             2.0            1.0        1.000000   \n",
       "2629                24.0            28.0            0.0        7.000000   \n",
       "\n",
       "      MonthlyIncome  \n",
       "0          16904.00  \n",
       "1          18994.00  \n",
       "2          18587.00  \n",
       "3          20559.00  \n",
       "4          24991.00  \n",
       "...             ...  \n",
       "2625       26761.00  \n",
       "2626       19196.00  \n",
       "2627       25248.00  \n",
       "2628       17261.00  \n",
       "2629       35243.39  \n",
       "\n",
       "[2630 rows x 14 columns]"
      ]
     },
     "execution_count": 105,
     "metadata": {},
     "output_type": "execute_result"
    }
   ],
   "source": [
    "test_num"
   ]
  },
  {
   "cell_type": "code",
   "execution_count": 106,
   "id": "ff05ce57",
   "metadata": {},
   "outputs": [
    {
     "data": {
      "text/html": [
       "<div>\n",
       "<style scoped>\n",
       "    .dataframe tbody tr th:only-of-type {\n",
       "        vertical-align: middle;\n",
       "    }\n",
       "\n",
       "    .dataframe tbody tr th {\n",
       "        vertical-align: top;\n",
       "    }\n",
       "\n",
       "    .dataframe thead th {\n",
       "        text-align: right;\n",
       "    }\n",
       "</style>\n",
       "<table border=\"1\" class=\"dataframe\">\n",
       "  <thead>\n",
       "    <tr style=\"text-align: right;\">\n",
       "      <th></th>\n",
       "      <th>TravelProfile</th>\n",
       "      <th>Department</th>\n",
       "      <th>EducationField</th>\n",
       "      <th>Gender</th>\n",
       "      <th>Designation</th>\n",
       "      <th>MaritalStatus</th>\n",
       "    </tr>\n",
       "  </thead>\n",
       "  <tbody>\n",
       "    <tr>\n",
       "      <th>0</th>\n",
       "      <td>No</td>\n",
       "      <td>Analytics</td>\n",
       "      <td>CA</td>\n",
       "      <td>Male</td>\n",
       "      <td>Executive</td>\n",
       "      <td>Single</td>\n",
       "    </tr>\n",
       "    <tr>\n",
       "      <th>1</th>\n",
       "      <td>Rarely</td>\n",
       "      <td>Analytics</td>\n",
       "      <td>Statistics</td>\n",
       "      <td>Female</td>\n",
       "      <td>Executive</td>\n",
       "      <td>Single</td>\n",
       "    </tr>\n",
       "    <tr>\n",
       "      <th>2</th>\n",
       "      <td>Rarely</td>\n",
       "      <td>Analytics</td>\n",
       "      <td>CA</td>\n",
       "      <td>Female</td>\n",
       "      <td>Executive</td>\n",
       "      <td>M</td>\n",
       "    </tr>\n",
       "    <tr>\n",
       "      <th>3</th>\n",
       "      <td>Rarely</td>\n",
       "      <td>Sales</td>\n",
       "      <td>Statistics</td>\n",
       "      <td>Female</td>\n",
       "      <td>Manager</td>\n",
       "      <td>Married</td>\n",
       "    </tr>\n",
       "    <tr>\n",
       "      <th>4</th>\n",
       "      <td>Rarely</td>\n",
       "      <td>Analytics</td>\n",
       "      <td>CA</td>\n",
       "      <td>Male</td>\n",
       "      <td>Senior Manager</td>\n",
       "      <td>Married</td>\n",
       "    </tr>\n",
       "    <tr>\n",
       "      <th>...</th>\n",
       "      <td>...</td>\n",
       "      <td>...</td>\n",
       "      <td>...</td>\n",
       "      <td>...</td>\n",
       "      <td>...</td>\n",
       "      <td>...</td>\n",
       "    </tr>\n",
       "    <tr>\n",
       "      <th>2625</th>\n",
       "      <td>Rarely</td>\n",
       "      <td>Sales</td>\n",
       "      <td>Marketing Diploma</td>\n",
       "      <td>Male</td>\n",
       "      <td>Senior Manager</td>\n",
       "      <td>Married</td>\n",
       "    </tr>\n",
       "    <tr>\n",
       "      <th>2626</th>\n",
       "      <td>Rarely</td>\n",
       "      <td>Analytics</td>\n",
       "      <td>CA</td>\n",
       "      <td>Male</td>\n",
       "      <td>Executive</td>\n",
       "      <td>Divorsed</td>\n",
       "    </tr>\n",
       "    <tr>\n",
       "      <th>2627</th>\n",
       "      <td>Rarely</td>\n",
       "      <td>Analytics</td>\n",
       "      <td>CA</td>\n",
       "      <td>Female</td>\n",
       "      <td>Senior Manager</td>\n",
       "      <td>Married</td>\n",
       "    </tr>\n",
       "    <tr>\n",
       "      <th>2628</th>\n",
       "      <td>Rarely</td>\n",
       "      <td>Analytics</td>\n",
       "      <td>Statistics</td>\n",
       "      <td>Female</td>\n",
       "      <td>Executive</td>\n",
       "      <td>Single</td>\n",
       "    </tr>\n",
       "    <tr>\n",
       "      <th>2629</th>\n",
       "      <td>Yes</td>\n",
       "      <td>Analytics</td>\n",
       "      <td>Statistics</td>\n",
       "      <td>Female</td>\n",
       "      <td>VP</td>\n",
       "      <td>Married</td>\n",
       "    </tr>\n",
       "  </tbody>\n",
       "</table>\n",
       "<p>2630 rows × 6 columns</p>\n",
       "</div>"
      ],
      "text/plain": [
       "     TravelProfile Department     EducationField  Gender     Designation  \\\n",
       "0               No  Analytics                 CA    Male       Executive   \n",
       "1           Rarely  Analytics         Statistics  Female       Executive   \n",
       "2           Rarely  Analytics                 CA  Female       Executive   \n",
       "3           Rarely      Sales         Statistics  Female         Manager   \n",
       "4           Rarely  Analytics                 CA    Male  Senior Manager   \n",
       "...            ...        ...                ...     ...             ...   \n",
       "2625        Rarely      Sales  Marketing Diploma    Male  Senior Manager   \n",
       "2626        Rarely  Analytics                 CA    Male       Executive   \n",
       "2627        Rarely  Analytics                 CA  Female  Senior Manager   \n",
       "2628        Rarely  Analytics         Statistics  Female       Executive   \n",
       "2629           Yes  Analytics         Statistics  Female              VP   \n",
       "\n",
       "     MaritalStatus  \n",
       "0           Single  \n",
       "1           Single  \n",
       "2                M  \n",
       "3          Married  \n",
       "4          Married  \n",
       "...            ...  \n",
       "2625       Married  \n",
       "2626      Divorsed  \n",
       "2627       Married  \n",
       "2628        Single  \n",
       "2629       Married  \n",
       "\n",
       "[2630 rows x 6 columns]"
      ]
     },
     "execution_count": 106,
     "metadata": {},
     "output_type": "execute_result"
    }
   ],
   "source": [
    "test_cat"
   ]
  },
  {
   "cell_type": "code",
   "execution_count": 107,
   "id": "1cfa181e",
   "metadata": {},
   "outputs": [
    {
     "data": {
      "text/plain": [
       "array(['Single', 'M', 'Married', 'Divorsed'], dtype=object)"
      ]
     },
     "execution_count": 107,
     "metadata": {},
     "output_type": "execute_result"
    }
   ],
   "source": [
    "test.MaritalStatus.unique()"
   ]
  },
  {
   "cell_type": "code",
   "execution_count": 108,
   "id": "8ecf9f37",
   "metadata": {},
   "outputs": [],
   "source": [
    "test.MaritalStatus.replace('M','Married', inplace=True)"
   ]
  },
  {
   "cell_type": "code",
   "execution_count": 109,
   "id": "bc7df917",
   "metadata": {},
   "outputs": [
    {
     "data": {
      "text/plain": [
       "array(['Single', 'Married', 'Divorsed'], dtype=object)"
      ]
     },
     "execution_count": 109,
     "metadata": {},
     "output_type": "execute_result"
    }
   ],
   "source": [
    "test.MaritalStatus.unique()"
   ]
  },
  {
   "cell_type": "code",
   "execution_count": 110,
   "id": "27040a75",
   "metadata": {},
   "outputs": [
    {
     "data": {
      "text/html": [
       "<div>\n",
       "<style scoped>\n",
       "    .dataframe tbody tr th:only-of-type {\n",
       "        vertical-align: middle;\n",
       "    }\n",
       "\n",
       "    .dataframe tbody tr th {\n",
       "        vertical-align: top;\n",
       "    }\n",
       "\n",
       "    .dataframe thead th {\n",
       "        text-align: right;\n",
       "    }\n",
       "</style>\n",
       "<table border=\"1\" class=\"dataframe\">\n",
       "  <thead>\n",
       "    <tr style=\"text-align: right;\">\n",
       "      <th></th>\n",
       "      <th>TravelProfile</th>\n",
       "      <th>Department</th>\n",
       "      <th>EducationField</th>\n",
       "      <th>Gender</th>\n",
       "      <th>Designation</th>\n",
       "      <th>MaritalStatus</th>\n",
       "    </tr>\n",
       "  </thead>\n",
       "  <tbody>\n",
       "    <tr>\n",
       "      <th>0</th>\n",
       "      <td>No</td>\n",
       "      <td>Analytics</td>\n",
       "      <td>CA</td>\n",
       "      <td>Male</td>\n",
       "      <td>Executive</td>\n",
       "      <td>Single</td>\n",
       "    </tr>\n",
       "    <tr>\n",
       "      <th>1</th>\n",
       "      <td>Rarely</td>\n",
       "      <td>Analytics</td>\n",
       "      <td>Statistics</td>\n",
       "      <td>Female</td>\n",
       "      <td>Executive</td>\n",
       "      <td>Single</td>\n",
       "    </tr>\n",
       "    <tr>\n",
       "      <th>2</th>\n",
       "      <td>Rarely</td>\n",
       "      <td>Analytics</td>\n",
       "      <td>CA</td>\n",
       "      <td>Female</td>\n",
       "      <td>Executive</td>\n",
       "      <td>Married</td>\n",
       "    </tr>\n",
       "    <tr>\n",
       "      <th>3</th>\n",
       "      <td>Rarely</td>\n",
       "      <td>Sales</td>\n",
       "      <td>Statistics</td>\n",
       "      <td>Female</td>\n",
       "      <td>Manager</td>\n",
       "      <td>Married</td>\n",
       "    </tr>\n",
       "    <tr>\n",
       "      <th>4</th>\n",
       "      <td>Rarely</td>\n",
       "      <td>Analytics</td>\n",
       "      <td>CA</td>\n",
       "      <td>Male</td>\n",
       "      <td>Senior Manager</td>\n",
       "      <td>Married</td>\n",
       "    </tr>\n",
       "    <tr>\n",
       "      <th>...</th>\n",
       "      <td>...</td>\n",
       "      <td>...</td>\n",
       "      <td>...</td>\n",
       "      <td>...</td>\n",
       "      <td>...</td>\n",
       "      <td>...</td>\n",
       "    </tr>\n",
       "    <tr>\n",
       "      <th>2625</th>\n",
       "      <td>Rarely</td>\n",
       "      <td>Sales</td>\n",
       "      <td>Marketing Diploma</td>\n",
       "      <td>Male</td>\n",
       "      <td>Senior Manager</td>\n",
       "      <td>Married</td>\n",
       "    </tr>\n",
       "    <tr>\n",
       "      <th>2626</th>\n",
       "      <td>Rarely</td>\n",
       "      <td>Analytics</td>\n",
       "      <td>CA</td>\n",
       "      <td>Male</td>\n",
       "      <td>Executive</td>\n",
       "      <td>Divorsed</td>\n",
       "    </tr>\n",
       "    <tr>\n",
       "      <th>2627</th>\n",
       "      <td>Rarely</td>\n",
       "      <td>Analytics</td>\n",
       "      <td>CA</td>\n",
       "      <td>Female</td>\n",
       "      <td>Senior Manager</td>\n",
       "      <td>Married</td>\n",
       "    </tr>\n",
       "    <tr>\n",
       "      <th>2628</th>\n",
       "      <td>Rarely</td>\n",
       "      <td>Analytics</td>\n",
       "      <td>Statistics</td>\n",
       "      <td>Female</td>\n",
       "      <td>Executive</td>\n",
       "      <td>Single</td>\n",
       "    </tr>\n",
       "    <tr>\n",
       "      <th>2629</th>\n",
       "      <td>Yes</td>\n",
       "      <td>Analytics</td>\n",
       "      <td>Statistics</td>\n",
       "      <td>Female</td>\n",
       "      <td>VP</td>\n",
       "      <td>Married</td>\n",
       "    </tr>\n",
       "  </tbody>\n",
       "</table>\n",
       "<p>2630 rows × 6 columns</p>\n",
       "</div>"
      ],
      "text/plain": [
       "     TravelProfile Department     EducationField  Gender     Designation  \\\n",
       "0               No  Analytics                 CA    Male       Executive   \n",
       "1           Rarely  Analytics         Statistics  Female       Executive   \n",
       "2           Rarely  Analytics                 CA  Female       Executive   \n",
       "3           Rarely      Sales         Statistics  Female         Manager   \n",
       "4           Rarely  Analytics                 CA    Male  Senior Manager   \n",
       "...            ...        ...                ...     ...             ...   \n",
       "2625        Rarely      Sales  Marketing Diploma    Male  Senior Manager   \n",
       "2626        Rarely  Analytics                 CA    Male       Executive   \n",
       "2627        Rarely  Analytics                 CA  Female  Senior Manager   \n",
       "2628        Rarely  Analytics         Statistics  Female       Executive   \n",
       "2629           Yes  Analytics         Statistics  Female              VP   \n",
       "\n",
       "     MaritalStatus  \n",
       "0           Single  \n",
       "1           Single  \n",
       "2          Married  \n",
       "3          Married  \n",
       "4          Married  \n",
       "...            ...  \n",
       "2625       Married  \n",
       "2626      Divorsed  \n",
       "2627       Married  \n",
       "2628        Single  \n",
       "2629       Married  \n",
       "\n",
       "[2630 rows x 6 columns]"
      ]
     },
     "execution_count": 110,
     "metadata": {},
     "output_type": "execute_result"
    }
   ],
   "source": [
    "test_cat"
   ]
  },
  {
   "cell_type": "code",
   "execution_count": 111,
   "id": "f56fcd6f",
   "metadata": {},
   "outputs": [],
   "source": [
    "test_cat['TravelProfile']=odetp.transform(test_cat['TravelProfile'].values.reshape(-1,1))"
   ]
  },
  {
   "cell_type": "code",
   "execution_count": 112,
   "id": "6129827a",
   "metadata": {},
   "outputs": [
    {
     "data": {
      "text/html": [
       "<div>\n",
       "<style scoped>\n",
       "    .dataframe tbody tr th:only-of-type {\n",
       "        vertical-align: middle;\n",
       "    }\n",
       "\n",
       "    .dataframe tbody tr th {\n",
       "        vertical-align: top;\n",
       "    }\n",
       "\n",
       "    .dataframe thead th {\n",
       "        text-align: right;\n",
       "    }\n",
       "</style>\n",
       "<table border=\"1\" class=\"dataframe\">\n",
       "  <thead>\n",
       "    <tr style=\"text-align: right;\">\n",
       "      <th></th>\n",
       "      <th>TravelProfile</th>\n",
       "      <th>Department</th>\n",
       "      <th>EducationField</th>\n",
       "      <th>Gender</th>\n",
       "      <th>Designation</th>\n",
       "      <th>MaritalStatus</th>\n",
       "    </tr>\n",
       "  </thead>\n",
       "  <tbody>\n",
       "    <tr>\n",
       "      <th>0</th>\n",
       "      <td>0.0</td>\n",
       "      <td>Analytics</td>\n",
       "      <td>CA</td>\n",
       "      <td>Male</td>\n",
       "      <td>Executive</td>\n",
       "      <td>Single</td>\n",
       "    </tr>\n",
       "    <tr>\n",
       "      <th>1</th>\n",
       "      <td>1.0</td>\n",
       "      <td>Analytics</td>\n",
       "      <td>Statistics</td>\n",
       "      <td>Female</td>\n",
       "      <td>Executive</td>\n",
       "      <td>Single</td>\n",
       "    </tr>\n",
       "    <tr>\n",
       "      <th>2</th>\n",
       "      <td>1.0</td>\n",
       "      <td>Analytics</td>\n",
       "      <td>CA</td>\n",
       "      <td>Female</td>\n",
       "      <td>Executive</td>\n",
       "      <td>Married</td>\n",
       "    </tr>\n",
       "    <tr>\n",
       "      <th>3</th>\n",
       "      <td>1.0</td>\n",
       "      <td>Sales</td>\n",
       "      <td>Statistics</td>\n",
       "      <td>Female</td>\n",
       "      <td>Manager</td>\n",
       "      <td>Married</td>\n",
       "    </tr>\n",
       "    <tr>\n",
       "      <th>4</th>\n",
       "      <td>1.0</td>\n",
       "      <td>Analytics</td>\n",
       "      <td>CA</td>\n",
       "      <td>Male</td>\n",
       "      <td>Senior Manager</td>\n",
       "      <td>Married</td>\n",
       "    </tr>\n",
       "    <tr>\n",
       "      <th>...</th>\n",
       "      <td>...</td>\n",
       "      <td>...</td>\n",
       "      <td>...</td>\n",
       "      <td>...</td>\n",
       "      <td>...</td>\n",
       "      <td>...</td>\n",
       "    </tr>\n",
       "    <tr>\n",
       "      <th>2625</th>\n",
       "      <td>1.0</td>\n",
       "      <td>Sales</td>\n",
       "      <td>Marketing Diploma</td>\n",
       "      <td>Male</td>\n",
       "      <td>Senior Manager</td>\n",
       "      <td>Married</td>\n",
       "    </tr>\n",
       "    <tr>\n",
       "      <th>2626</th>\n",
       "      <td>1.0</td>\n",
       "      <td>Analytics</td>\n",
       "      <td>CA</td>\n",
       "      <td>Male</td>\n",
       "      <td>Executive</td>\n",
       "      <td>Divorsed</td>\n",
       "    </tr>\n",
       "    <tr>\n",
       "      <th>2627</th>\n",
       "      <td>1.0</td>\n",
       "      <td>Analytics</td>\n",
       "      <td>CA</td>\n",
       "      <td>Female</td>\n",
       "      <td>Senior Manager</td>\n",
       "      <td>Married</td>\n",
       "    </tr>\n",
       "    <tr>\n",
       "      <th>2628</th>\n",
       "      <td>1.0</td>\n",
       "      <td>Analytics</td>\n",
       "      <td>Statistics</td>\n",
       "      <td>Female</td>\n",
       "      <td>Executive</td>\n",
       "      <td>Single</td>\n",
       "    </tr>\n",
       "    <tr>\n",
       "      <th>2629</th>\n",
       "      <td>2.0</td>\n",
       "      <td>Analytics</td>\n",
       "      <td>Statistics</td>\n",
       "      <td>Female</td>\n",
       "      <td>VP</td>\n",
       "      <td>Married</td>\n",
       "    </tr>\n",
       "  </tbody>\n",
       "</table>\n",
       "<p>2630 rows × 6 columns</p>\n",
       "</div>"
      ],
      "text/plain": [
       "      TravelProfile Department     EducationField  Gender     Designation  \\\n",
       "0               0.0  Analytics                 CA    Male       Executive   \n",
       "1               1.0  Analytics         Statistics  Female       Executive   \n",
       "2               1.0  Analytics                 CA  Female       Executive   \n",
       "3               1.0      Sales         Statistics  Female         Manager   \n",
       "4               1.0  Analytics                 CA    Male  Senior Manager   \n",
       "...             ...        ...                ...     ...             ...   \n",
       "2625            1.0      Sales  Marketing Diploma    Male  Senior Manager   \n",
       "2626            1.0  Analytics                 CA    Male       Executive   \n",
       "2627            1.0  Analytics                 CA  Female  Senior Manager   \n",
       "2628            1.0  Analytics         Statistics  Female       Executive   \n",
       "2629            2.0  Analytics         Statistics  Female              VP   \n",
       "\n",
       "     MaritalStatus  \n",
       "0           Single  \n",
       "1           Single  \n",
       "2          Married  \n",
       "3          Married  \n",
       "4          Married  \n",
       "...            ...  \n",
       "2625       Married  \n",
       "2626      Divorsed  \n",
       "2627       Married  \n",
       "2628        Single  \n",
       "2629       Married  \n",
       "\n",
       "[2630 rows x 6 columns]"
      ]
     },
     "execution_count": 112,
     "metadata": {},
     "output_type": "execute_result"
    }
   ],
   "source": [
    "test_cat"
   ]
  },
  {
   "cell_type": "code",
   "execution_count": 113,
   "id": "7b3b739a",
   "metadata": {},
   "outputs": [],
   "source": [
    "test_cat['Designation']=odedg.transform(test_cat['Designation'].values.reshape(-1,1))"
   ]
  },
  {
   "cell_type": "code",
   "execution_count": 114,
   "id": "08c5061f",
   "metadata": {},
   "outputs": [
    {
     "data": {
      "text/html": [
       "<div>\n",
       "<style scoped>\n",
       "    .dataframe tbody tr th:only-of-type {\n",
       "        vertical-align: middle;\n",
       "    }\n",
       "\n",
       "    .dataframe tbody tr th {\n",
       "        vertical-align: top;\n",
       "    }\n",
       "\n",
       "    .dataframe thead th {\n",
       "        text-align: right;\n",
       "    }\n",
       "</style>\n",
       "<table border=\"1\" class=\"dataframe\">\n",
       "  <thead>\n",
       "    <tr style=\"text-align: right;\">\n",
       "      <th></th>\n",
       "      <th>TravelProfile</th>\n",
       "      <th>Department</th>\n",
       "      <th>EducationField</th>\n",
       "      <th>Gender</th>\n",
       "      <th>Designation</th>\n",
       "      <th>MaritalStatus</th>\n",
       "    </tr>\n",
       "  </thead>\n",
       "  <tbody>\n",
       "    <tr>\n",
       "      <th>0</th>\n",
       "      <td>0.0</td>\n",
       "      <td>Analytics</td>\n",
       "      <td>CA</td>\n",
       "      <td>Male</td>\n",
       "      <td>0.0</td>\n",
       "      <td>Single</td>\n",
       "    </tr>\n",
       "    <tr>\n",
       "      <th>1</th>\n",
       "      <td>1.0</td>\n",
       "      <td>Analytics</td>\n",
       "      <td>Statistics</td>\n",
       "      <td>Female</td>\n",
       "      <td>0.0</td>\n",
       "      <td>Single</td>\n",
       "    </tr>\n",
       "    <tr>\n",
       "      <th>2</th>\n",
       "      <td>1.0</td>\n",
       "      <td>Analytics</td>\n",
       "      <td>CA</td>\n",
       "      <td>Female</td>\n",
       "      <td>0.0</td>\n",
       "      <td>Married</td>\n",
       "    </tr>\n",
       "    <tr>\n",
       "      <th>3</th>\n",
       "      <td>1.0</td>\n",
       "      <td>Sales</td>\n",
       "      <td>Statistics</td>\n",
       "      <td>Female</td>\n",
       "      <td>1.0</td>\n",
       "      <td>Married</td>\n",
       "    </tr>\n",
       "    <tr>\n",
       "      <th>4</th>\n",
       "      <td>1.0</td>\n",
       "      <td>Analytics</td>\n",
       "      <td>CA</td>\n",
       "      <td>Male</td>\n",
       "      <td>2.0</td>\n",
       "      <td>Married</td>\n",
       "    </tr>\n",
       "    <tr>\n",
       "      <th>...</th>\n",
       "      <td>...</td>\n",
       "      <td>...</td>\n",
       "      <td>...</td>\n",
       "      <td>...</td>\n",
       "      <td>...</td>\n",
       "      <td>...</td>\n",
       "    </tr>\n",
       "    <tr>\n",
       "      <th>2625</th>\n",
       "      <td>1.0</td>\n",
       "      <td>Sales</td>\n",
       "      <td>Marketing Diploma</td>\n",
       "      <td>Male</td>\n",
       "      <td>2.0</td>\n",
       "      <td>Married</td>\n",
       "    </tr>\n",
       "    <tr>\n",
       "      <th>2626</th>\n",
       "      <td>1.0</td>\n",
       "      <td>Analytics</td>\n",
       "      <td>CA</td>\n",
       "      <td>Male</td>\n",
       "      <td>0.0</td>\n",
       "      <td>Divorsed</td>\n",
       "    </tr>\n",
       "    <tr>\n",
       "      <th>2627</th>\n",
       "      <td>1.0</td>\n",
       "      <td>Analytics</td>\n",
       "      <td>CA</td>\n",
       "      <td>Female</td>\n",
       "      <td>2.0</td>\n",
       "      <td>Married</td>\n",
       "    </tr>\n",
       "    <tr>\n",
       "      <th>2628</th>\n",
       "      <td>1.0</td>\n",
       "      <td>Analytics</td>\n",
       "      <td>Statistics</td>\n",
       "      <td>Female</td>\n",
       "      <td>0.0</td>\n",
       "      <td>Single</td>\n",
       "    </tr>\n",
       "    <tr>\n",
       "      <th>2629</th>\n",
       "      <td>2.0</td>\n",
       "      <td>Analytics</td>\n",
       "      <td>Statistics</td>\n",
       "      <td>Female</td>\n",
       "      <td>4.0</td>\n",
       "      <td>Married</td>\n",
       "    </tr>\n",
       "  </tbody>\n",
       "</table>\n",
       "<p>2630 rows × 6 columns</p>\n",
       "</div>"
      ],
      "text/plain": [
       "      TravelProfile Department     EducationField  Gender  Designation  \\\n",
       "0               0.0  Analytics                 CA    Male          0.0   \n",
       "1               1.0  Analytics         Statistics  Female          0.0   \n",
       "2               1.0  Analytics                 CA  Female          0.0   \n",
       "3               1.0      Sales         Statistics  Female          1.0   \n",
       "4               1.0  Analytics                 CA    Male          2.0   \n",
       "...             ...        ...                ...     ...          ...   \n",
       "2625            1.0      Sales  Marketing Diploma    Male          2.0   \n",
       "2626            1.0  Analytics                 CA    Male          0.0   \n",
       "2627            1.0  Analytics                 CA  Female          2.0   \n",
       "2628            1.0  Analytics         Statistics  Female          0.0   \n",
       "2629            2.0  Analytics         Statistics  Female          4.0   \n",
       "\n",
       "     MaritalStatus  \n",
       "0           Single  \n",
       "1           Single  \n",
       "2          Married  \n",
       "3          Married  \n",
       "4          Married  \n",
       "...            ...  \n",
       "2625       Married  \n",
       "2626      Divorsed  \n",
       "2627       Married  \n",
       "2628        Single  \n",
       "2629       Married  \n",
       "\n",
       "[2630 rows x 6 columns]"
      ]
     },
     "execution_count": 114,
     "metadata": {},
     "output_type": "execute_result"
    }
   ],
   "source": [
    "test_cat"
   ]
  },
  {
   "cell_type": "code",
   "execution_count": 115,
   "id": "d54cbfaa",
   "metadata": {},
   "outputs": [],
   "source": [
    "test_cat['Department']=ledp.transform(test_cat['Department'])\n",
    "test_cat['EducationField']=leef.transform(test_cat['EducationField'])\n",
    "test_cat['Gender']=legn.transform(test_cat['Gender'])\n",
    "test_cat['MaritalStatus']=lems.transform(test_cat['MaritalStatus'])"
   ]
  },
  {
   "cell_type": "code",
   "execution_count": 116,
   "id": "486d4e29",
   "metadata": {},
   "outputs": [
    {
     "data": {
      "text/html": [
       "<div>\n",
       "<style scoped>\n",
       "    .dataframe tbody tr th:only-of-type {\n",
       "        vertical-align: middle;\n",
       "    }\n",
       "\n",
       "    .dataframe tbody tr th {\n",
       "        vertical-align: top;\n",
       "    }\n",
       "\n",
       "    .dataframe thead th {\n",
       "        text-align: right;\n",
       "    }\n",
       "</style>\n",
       "<table border=\"1\" class=\"dataframe\">\n",
       "  <thead>\n",
       "    <tr style=\"text-align: right;\">\n",
       "      <th></th>\n",
       "      <th>TravelProfile</th>\n",
       "      <th>Department</th>\n",
       "      <th>EducationField</th>\n",
       "      <th>Gender</th>\n",
       "      <th>Designation</th>\n",
       "      <th>MaritalStatus</th>\n",
       "    </tr>\n",
       "  </thead>\n",
       "  <tbody>\n",
       "    <tr>\n",
       "      <th>0</th>\n",
       "      <td>0.0</td>\n",
       "      <td>0</td>\n",
       "      <td>0</td>\n",
       "      <td>1</td>\n",
       "      <td>0.0</td>\n",
       "      <td>2</td>\n",
       "    </tr>\n",
       "    <tr>\n",
       "      <th>1</th>\n",
       "      <td>1.0</td>\n",
       "      <td>0</td>\n",
       "      <td>5</td>\n",
       "      <td>0</td>\n",
       "      <td>0.0</td>\n",
       "      <td>2</td>\n",
       "    </tr>\n",
       "    <tr>\n",
       "      <th>2</th>\n",
       "      <td>1.0</td>\n",
       "      <td>0</td>\n",
       "      <td>0</td>\n",
       "      <td>0</td>\n",
       "      <td>0.0</td>\n",
       "      <td>1</td>\n",
       "    </tr>\n",
       "    <tr>\n",
       "      <th>3</th>\n",
       "      <td>1.0</td>\n",
       "      <td>2</td>\n",
       "      <td>5</td>\n",
       "      <td>0</td>\n",
       "      <td>1.0</td>\n",
       "      <td>1</td>\n",
       "    </tr>\n",
       "    <tr>\n",
       "      <th>4</th>\n",
       "      <td>1.0</td>\n",
       "      <td>0</td>\n",
       "      <td>0</td>\n",
       "      <td>1</td>\n",
       "      <td>2.0</td>\n",
       "      <td>1</td>\n",
       "    </tr>\n",
       "    <tr>\n",
       "      <th>...</th>\n",
       "      <td>...</td>\n",
       "      <td>...</td>\n",
       "      <td>...</td>\n",
       "      <td>...</td>\n",
       "      <td>...</td>\n",
       "      <td>...</td>\n",
       "    </tr>\n",
       "    <tr>\n",
       "      <th>2625</th>\n",
       "      <td>1.0</td>\n",
       "      <td>2</td>\n",
       "      <td>3</td>\n",
       "      <td>1</td>\n",
       "      <td>2.0</td>\n",
       "      <td>1</td>\n",
       "    </tr>\n",
       "    <tr>\n",
       "      <th>2626</th>\n",
       "      <td>1.0</td>\n",
       "      <td>0</td>\n",
       "      <td>0</td>\n",
       "      <td>1</td>\n",
       "      <td>0.0</td>\n",
       "      <td>0</td>\n",
       "    </tr>\n",
       "    <tr>\n",
       "      <th>2627</th>\n",
       "      <td>1.0</td>\n",
       "      <td>0</td>\n",
       "      <td>0</td>\n",
       "      <td>0</td>\n",
       "      <td>2.0</td>\n",
       "      <td>1</td>\n",
       "    </tr>\n",
       "    <tr>\n",
       "      <th>2628</th>\n",
       "      <td>1.0</td>\n",
       "      <td>0</td>\n",
       "      <td>5</td>\n",
       "      <td>0</td>\n",
       "      <td>0.0</td>\n",
       "      <td>2</td>\n",
       "    </tr>\n",
       "    <tr>\n",
       "      <th>2629</th>\n",
       "      <td>2.0</td>\n",
       "      <td>0</td>\n",
       "      <td>5</td>\n",
       "      <td>0</td>\n",
       "      <td>4.0</td>\n",
       "      <td>1</td>\n",
       "    </tr>\n",
       "  </tbody>\n",
       "</table>\n",
       "<p>2630 rows × 6 columns</p>\n",
       "</div>"
      ],
      "text/plain": [
       "      TravelProfile  Department  EducationField  Gender  Designation  \\\n",
       "0               0.0           0               0       1          0.0   \n",
       "1               1.0           0               5       0          0.0   \n",
       "2               1.0           0               0       0          0.0   \n",
       "3               1.0           2               5       0          1.0   \n",
       "4               1.0           0               0       1          2.0   \n",
       "...             ...         ...             ...     ...          ...   \n",
       "2625            1.0           2               3       1          2.0   \n",
       "2626            1.0           0               0       1          0.0   \n",
       "2627            1.0           0               0       0          2.0   \n",
       "2628            1.0           0               5       0          0.0   \n",
       "2629            2.0           0               5       0          4.0   \n",
       "\n",
       "      MaritalStatus  \n",
       "0                 2  \n",
       "1                 2  \n",
       "2                 1  \n",
       "3                 1  \n",
       "4                 1  \n",
       "...             ...  \n",
       "2625              1  \n",
       "2626              0  \n",
       "2627              1  \n",
       "2628              2  \n",
       "2629              1  \n",
       "\n",
       "[2630 rows x 6 columns]"
      ]
     },
     "execution_count": 116,
     "metadata": {},
     "output_type": "execute_result"
    }
   ],
   "source": [
    "test_cat"
   ]
  },
  {
   "cell_type": "code",
   "execution_count": 117,
   "id": "982c7496",
   "metadata": {},
   "outputs": [],
   "source": [
    "test_final = pd.concat([test_num, test_cat],axis = 1)"
   ]
  },
  {
   "cell_type": "code",
   "execution_count": 118,
   "id": "7f2d0cf9",
   "metadata": {},
   "outputs": [
    {
     "data": {
      "text/html": [
       "<div>\n",
       "<style scoped>\n",
       "    .dataframe tbody tr th:only-of-type {\n",
       "        vertical-align: middle;\n",
       "    }\n",
       "\n",
       "    .dataframe tbody tr th {\n",
       "        vertical-align: top;\n",
       "    }\n",
       "\n",
       "    .dataframe thead th {\n",
       "        text-align: right;\n",
       "    }\n",
       "</style>\n",
       "<table border=\"1\" class=\"dataframe\">\n",
       "  <thead>\n",
       "    <tr style=\"text-align: right;\">\n",
       "      <th></th>\n",
       "      <th>Age</th>\n",
       "      <th>HomeToWork</th>\n",
       "      <th>HourlnWeek</th>\n",
       "      <th>Involvement</th>\n",
       "      <th>WorkLifeBalance</th>\n",
       "      <th>JobSatisfaction</th>\n",
       "      <th>ESOPs</th>\n",
       "      <th>NumCompaniesWorked</th>\n",
       "      <th>OverTime</th>\n",
       "      <th>SalaryHikelastYear</th>\n",
       "      <th>WorkExperience</th>\n",
       "      <th>LastPromotion</th>\n",
       "      <th>CurrentProfile</th>\n",
       "      <th>MonthlyIncome</th>\n",
       "      <th>TravelProfile</th>\n",
       "      <th>Department</th>\n",
       "      <th>EducationField</th>\n",
       "      <th>Gender</th>\n",
       "      <th>Designation</th>\n",
       "      <th>MaritalStatus</th>\n",
       "    </tr>\n",
       "  </thead>\n",
       "  <tbody>\n",
       "    <tr>\n",
       "      <th>0</th>\n",
       "      <td>18.0</td>\n",
       "      <td>9.0</td>\n",
       "      <td>80.0</td>\n",
       "      <td>3</td>\n",
       "      <td>2</td>\n",
       "      <td>3</td>\n",
       "      <td>1</td>\n",
       "      <td>1</td>\n",
       "      <td>0</td>\n",
       "      <td>17.0</td>\n",
       "      <td>0.0</td>\n",
       "      <td>0.0</td>\n",
       "      <td>0.000000</td>\n",
       "      <td>16904.0</td>\n",
       "      <td>0.0</td>\n",
       "      <td>0</td>\n",
       "      <td>0</td>\n",
       "      <td>1</td>\n",
       "      <td>0.0</td>\n",
       "      <td>2</td>\n",
       "    </tr>\n",
       "    <tr>\n",
       "      <th>1</th>\n",
       "      <td>20.0</td>\n",
       "      <td>28.0</td>\n",
       "      <td>59.0</td>\n",
       "      <td>1</td>\n",
       "      <td>3</td>\n",
       "      <td>1</td>\n",
       "      <td>1</td>\n",
       "      <td>2</td>\n",
       "      <td>1</td>\n",
       "      <td>18.0</td>\n",
       "      <td>2.0</td>\n",
       "      <td>1.0</td>\n",
       "      <td>4.385295</td>\n",
       "      <td>18994.0</td>\n",
       "      <td>1.0</td>\n",
       "      <td>0</td>\n",
       "      <td>5</td>\n",
       "      <td>0</td>\n",
       "      <td>0.0</td>\n",
       "      <td>2</td>\n",
       "    </tr>\n",
       "    <tr>\n",
       "      <th>2</th>\n",
       "      <td>50.0</td>\n",
       "      <td>19.0</td>\n",
       "      <td>76.0</td>\n",
       "      <td>3</td>\n",
       "      <td>3</td>\n",
       "      <td>5</td>\n",
       "      <td>0</td>\n",
       "      <td>5</td>\n",
       "      <td>1</td>\n",
       "      <td>22.0</td>\n",
       "      <td>18.0</td>\n",
       "      <td>3.0</td>\n",
       "      <td>3.000000</td>\n",
       "      <td>18587.0</td>\n",
       "      <td>1.0</td>\n",
       "      <td>0</td>\n",
       "      <td>0</td>\n",
       "      <td>0</td>\n",
       "      <td>0.0</td>\n",
       "      <td>1</td>\n",
       "    </tr>\n",
       "    <tr>\n",
       "      <th>3</th>\n",
       "      <td>32.0</td>\n",
       "      <td>23.0</td>\n",
       "      <td>73.0</td>\n",
       "      <td>5</td>\n",
       "      <td>2</td>\n",
       "      <td>3</td>\n",
       "      <td>0</td>\n",
       "      <td>4</td>\n",
       "      <td>1</td>\n",
       "      <td>17.0</td>\n",
       "      <td>5.0</td>\n",
       "      <td>3.0</td>\n",
       "      <td>3.000000</td>\n",
       "      <td>20559.0</td>\n",
       "      <td>1.0</td>\n",
       "      <td>2</td>\n",
       "      <td>5</td>\n",
       "      <td>0</td>\n",
       "      <td>1.0</td>\n",
       "      <td>1</td>\n",
       "    </tr>\n",
       "    <tr>\n",
       "      <th>4</th>\n",
       "      <td>39.0</td>\n",
       "      <td>7.0</td>\n",
       "      <td>42.0</td>\n",
       "      <td>4</td>\n",
       "      <td>1</td>\n",
       "      <td>5</td>\n",
       "      <td>1</td>\n",
       "      <td>4</td>\n",
       "      <td>0</td>\n",
       "      <td>20.0</td>\n",
       "      <td>9.0</td>\n",
       "      <td>1.0</td>\n",
       "      <td>7.000000</td>\n",
       "      <td>24991.0</td>\n",
       "      <td>1.0</td>\n",
       "      <td>0</td>\n",
       "      <td>0</td>\n",
       "      <td>1</td>\n",
       "      <td>2.0</td>\n",
       "      <td>1</td>\n",
       "    </tr>\n",
       "  </tbody>\n",
       "</table>\n",
       "</div>"
      ],
      "text/plain": [
       "    Age  HomeToWork  HourlnWeek  Involvement  WorkLifeBalance  \\\n",
       "0  18.0         9.0        80.0            3                2   \n",
       "1  20.0        28.0        59.0            1                3   \n",
       "2  50.0        19.0        76.0            3                3   \n",
       "3  32.0        23.0        73.0            5                2   \n",
       "4  39.0         7.0        42.0            4                1   \n",
       "\n",
       "   JobSatisfaction  ESOPs  NumCompaniesWorked  OverTime  SalaryHikelastYear  \\\n",
       "0                3      1                   1         0                17.0   \n",
       "1                1      1                   2         1                18.0   \n",
       "2                5      0                   5         1                22.0   \n",
       "3                3      0                   4         1                17.0   \n",
       "4                5      1                   4         0                20.0   \n",
       "\n",
       "   WorkExperience  LastPromotion  CurrentProfile  MonthlyIncome  \\\n",
       "0             0.0            0.0        0.000000        16904.0   \n",
       "1             2.0            1.0        4.385295        18994.0   \n",
       "2            18.0            3.0        3.000000        18587.0   \n",
       "3             5.0            3.0        3.000000        20559.0   \n",
       "4             9.0            1.0        7.000000        24991.0   \n",
       "\n",
       "   TravelProfile  Department  EducationField  Gender  Designation  \\\n",
       "0            0.0           0               0       1          0.0   \n",
       "1            1.0           0               5       0          0.0   \n",
       "2            1.0           0               0       0          0.0   \n",
       "3            1.0           2               5       0          1.0   \n",
       "4            1.0           0               0       1          2.0   \n",
       "\n",
       "   MaritalStatus  \n",
       "0              2  \n",
       "1              2  \n",
       "2              1  \n",
       "3              1  \n",
       "4              1  "
      ]
     },
     "execution_count": 118,
     "metadata": {},
     "output_type": "execute_result"
    }
   ],
   "source": [
    "test_final.head()"
   ]
  },
  {
   "cell_type": "code",
   "execution_count": 123,
   "id": "5a273858",
   "metadata": {},
   "outputs": [],
   "source": [
    "submission = pd.DataFrame()\n",
    "submission['EmployeeID'] = pd.RangeIndex(start=6110001, stop=6112631)\n",
    "submission['Attrition'] = model.predict(test_final)"
   ]
  },
  {
   "cell_type": "code",
   "execution_count": 124,
   "id": "39c20f3c",
   "metadata": {},
   "outputs": [],
   "source": [
    "import csv\n",
    "with open('Submission_randomforest.csv', 'w', encoding='UTF8', newline='') as f:\n",
    "    writer = csv.writer(f)\n",
    "\n",
    "    # write the header\n",
    "    writer.writerow(submission.columns)\n",
    "\n",
    "    # write multiple rows\n",
    "    writer.writerows(submission.values)"
   ]
  }
 ],
 "metadata": {
  "kernelspec": {
   "display_name": "Python 3 (ipykernel)",
   "language": "python",
   "name": "python3"
  },
  "language_info": {
   "codemirror_mode": {
    "name": "ipython",
    "version": 3
   },
   "file_extension": ".py",
   "mimetype": "text/x-python",
   "name": "python",
   "nbconvert_exporter": "python",
   "pygments_lexer": "ipython3",
   "version": "3.9.12"
  }
 },
 "nbformat": 4,
 "nbformat_minor": 5
}
